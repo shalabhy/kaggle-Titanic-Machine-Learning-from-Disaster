{
 "cells": [
  {
   "cell_type": "code",
   "execution_count": 0,
   "metadata": {
    "colab": {
     "autoexec": {
      "startup": false,
      "wait_interval": 0
     }
    },
    "colab_type": "code",
    "collapsed": true,
    "id": "VrM8uQSdr7Q_"
   },
   "outputs": [],
   "source": [
    "import numpy as np \n",
    "import pandas as pd \n",
    "import matplotlib.pyplot as plt\n",
    "import seaborn as sns\n"
   ]
  },
  {
   "cell_type": "code",
   "execution_count": 0,
   "metadata": {
    "colab": {
     "autoexec": {
      "startup": false,
      "wait_interval": 0
     }
    },
    "colab_type": "code",
    "collapsed": true,
    "id": "C-rH907zr-yr"
   },
   "outputs": [],
   "source": [
    "train = pd.read_csv('titanic/train.csv')\n",
    "test = pd.read_csv('/titanic/test.csv')\n"
   ]
  },
  {
   "cell_type": "code",
   "execution_count": 0,
   "metadata": {
    "colab": {
     "autoexec": {
      "startup": false,
      "wait_interval": 0
     }
    },
    "colab_type": "code",
    "collapsed": true,
    "id": "E8-d2V_0sCZF"
   },
   "outputs": [],
   "source": [
    "y_train = train['Survived']"
   ]
  },
  {
   "cell_type": "code",
   "execution_count": 0,
   "metadata": {
    "colab": {
     "autoexec": {
      "startup": false,
      "wait_interval": 0
     }
    },
    "colab_type": "code",
    "collapsed": true,
    "id": "8oeOj4mCsIAk"
   },
   "outputs": [],
   "source": [
    "train.drop('Survived',axis = 1,inplace = True)"
   ]
  },
  {
   "cell_type": "code",
   "execution_count": 0,
   "metadata": {
    "colab": {
     "autoexec": {
      "startup": false,
      "wait_interval": 0
     }
    },
    "colab_type": "code",
    "collapsed": true,
    "id": "x6jdLekTsK6F"
   },
   "outputs": [],
   "source": [
    "full = pd.concat([train,test])"
   ]
  },
  {
   "cell_type": "code",
   "execution_count": 0,
   "metadata": {
    "colab": {
     "autoexec": {
      "startup": false,
      "wait_interval": 0
     }
    },
    "colab_type": "code",
    "collapsed": true,
    "id": "5r1Ut01OsPnt"
   },
   "outputs": [],
   "source": [
    "full = full.reset_index()"
   ]
  },
  {
   "cell_type": "code",
   "execution_count": 0,
   "metadata": {
    "colab": {
     "autoexec": {
      "startup": false,
      "wait_interval": 0
     }
    },
    "colab_type": "code",
    "collapsed": true,
    "id": "9PvKSMYnsTIn"
   },
   "outputs": [],
   "source": [
    "def title(text):\n",
    "    a = text.split(',')\n",
    "    b = a[1].split('.')\n",
    "    return b[0]"
   ]
  },
  {
   "cell_type": "code",
   "execution_count": 0,
   "metadata": {
    "colab": {
     "autoexec": {
      "startup": false,
      "wait_interval": 0
     }
    },
    "colab_type": "code",
    "collapsed": true,
    "id": "D0736z2bsWM3"
   },
   "outputs": [],
   "source": [
    "full['title'] = full['Name'].apply(title)"
   ]
  },
  {
   "cell_type": "code",
   "execution_count": 13,
   "metadata": {
    "colab": {
     "autoexec": {
      "startup": false,
      "wait_interval": 0
     },
     "base_uri": "https://localhost:8080/",
     "height": 238
    },
    "colab_type": "code",
    "executionInfo": {
     "elapsed": 867,
     "status": "ok",
     "timestamp": 1524879915635,
     "user": {
      "displayName": "shalabh yadu",
      "photoUrl": "//lh5.googleusercontent.com/-EBX7zy1ePA0/AAAAAAAAAAI/AAAAAAAAHiI/55c2GSudPJE/s50-c-k-no/photo.jpg",
      "userId": "101084161892560906162"
     },
     "user_tz": -330
    },
    "id": "t3eSXwUfsao2",
    "outputId": "45ec03c0-d654-4e0b-874f-d3ba92c3413f"
   },
   "outputs": [
    {
     "name": "stdout",
     "output_type": "stream",
     "text": [
      "empty points in index column are 0 out of 1309\n",
      "empty points in PassengerId column are 0 out of 1309\n",
      "empty points in Pclass column are 0 out of 1309\n",
      "empty points in Name column are 0 out of 1309\n",
      "empty points in Sex column are 0 out of 1309\n",
      "empty points in Age column are 263 out of 1309\n",
      "empty points in SibSp column are 0 out of 1309\n",
      "empty points in Parch column are 0 out of 1309\n",
      "empty points in Ticket column are 0 out of 1309\n",
      "empty points in Fare column are 1 out of 1309\n",
      "empty points in Cabin column are 1014 out of 1309\n",
      "empty points in Embarked column are 2 out of 1309\n",
      "empty points in title column are 0 out of 1309\n"
     ]
    }
   ],
   "source": [
    "#missing data\n",
    "for col in full.columns:\n",
    "    print(\"empty points in {} column are {} out of {}\".format(col,sum(full[col].isnull()),full.shape[0]))"
   ]
  },
  {
   "cell_type": "code",
   "execution_count": 14,
   "metadata": {
    "colab": {
     "autoexec": {
      "startup": false,
      "wait_interval": 0
     },
     "base_uri": "https://localhost:8080/",
     "height": 323
    },
    "colab_type": "code",
    "executionInfo": {
     "elapsed": 1112,
     "status": "ok",
     "timestamp": 1524880122600,
     "user": {
      "displayName": "shalabh yadu",
      "photoUrl": "//lh5.googleusercontent.com/-EBX7zy1ePA0/AAAAAAAAAAI/AAAAAAAAHiI/55c2GSudPJE/s50-c-k-no/photo.jpg",
      "userId": "101084161892560906162"
     },
     "user_tz": -330
    },
    "id": "qfUtwlD4shuc",
    "outputId": "84753092-d5eb-40d9-e5d1-4548aba326f6"
   },
   "outputs": [
    {
     "name": "stdout",
     "output_type": "stream",
     "text": [
      "the average age of a person with title  Capt is 70.0\n",
      "the average age of a person with title  Col is 54.0\n",
      "the average age of a person with title  Don is 40.0\n",
      "the average age of a person with title  Dona is 39.0\n",
      "the average age of a person with title  Dr is 43.57142857142857\n",
      "the average age of a person with title  Jonkheer is 38.0\n",
      "the average age of a person with title  Lady is 48.0\n",
      "the average age of a person with title  Major is 48.5\n",
      "the average age of a person with title  Master is 5.482641509433963\n",
      "the average age of a person with title  Miss is 21.774238095238097\n",
      "the average age of a person with title  Mlle is 24.0\n",
      "the average age of a person with title  Mme is 24.0\n",
      "the average age of a person with title  Mr is 32.25215146299484\n",
      "the average age of a person with title  Mrs is 36.99411764705882\n",
      "the average age of a person with title  Ms is 28.0\n",
      "the average age of a person with title  Rev is 41.25\n",
      "the average age of a person with title  Sir is 49.0\n",
      "the average age of a person with title  the Countess is 33.0\n"
     ]
    }
   ],
   "source": [
    "#Average age of persons w.r.t. title \n",
    "a =  [' Capt', ' Col', ' Don', ' Dona', ' Dr', ' Jonkheer', ' Lady', ' Major', ' Master', ' Miss', ' Mlle', ' Mme', ' Mr', ' Mrs', ' Ms', ' Rev', ' Sir', ' the Countess']\n",
    "for i in a:\n",
    "    print(\"the average age of a person with title {} is {}\".format(i,full[full['title']== i]['Age'].mean()))"
   ]
  },
  {
   "cell_type": "code",
   "execution_count": 0,
   "metadata": {
    "colab": {
     "autoexec": {
      "startup": false,
      "wait_interval": 0
     }
    },
    "colab_type": "code",
    "collapsed": true,
    "id": "T0zg_VMjszSk"
   },
   "outputs": [],
   "source": [
    "#filling missing age values with average age of people with same title\n",
    "\n",
    "for i in a:\n",
    "    full.iloc[full[full['title'] == i].index,5] = full[full['title'] == i]['Age'].mean()"
   ]
  },
  {
   "cell_type": "code",
   "execution_count": 16,
   "metadata": {
    "colab": {
     "autoexec": {
      "startup": false,
      "wait_interval": 0
     },
     "base_uri": "https://localhost:8080/",
     "height": 238
    },
    "colab_type": "code",
    "executionInfo": {
     "elapsed": 883,
     "status": "ok",
     "timestamp": 1524880132241,
     "user": {
      "displayName": "shalabh yadu",
      "photoUrl": "//lh5.googleusercontent.com/-EBX7zy1ePA0/AAAAAAAAAAI/AAAAAAAAHiI/55c2GSudPJE/s50-c-k-no/photo.jpg",
      "userId": "101084161892560906162"
     },
     "user_tz": -330
    },
    "id": "_XgHAuGqs5Ak",
    "outputId": "c83d6ab1-3f38-441c-d3cc-e016527142db"
   },
   "outputs": [
    {
     "name": "stdout",
     "output_type": "stream",
     "text": [
      "empty points in column index  are 0 out of 1309\n",
      "empty points in column PassengerId  are 0 out of 1309\n",
      "empty points in column Pclass  are 0 out of 1309\n",
      "empty points in column Name  are 0 out of 1309\n",
      "empty points in column Sex  are 0 out of 1309\n",
      "empty points in column Age  are 0 out of 1309\n",
      "empty points in column SibSp  are 0 out of 1309\n",
      "empty points in column Parch  are 0 out of 1309\n",
      "empty points in column Ticket  are 0 out of 1309\n",
      "empty points in column Fare  are 1 out of 1309\n",
      "empty points in column Cabin  are 1014 out of 1309\n",
      "empty points in column Embarked  are 2 out of 1309\n",
      "empty points in column title  are 0 out of 1309\n"
     ]
    }
   ],
   "source": [
    "for col in full.columns:\n",
    "    print(\"empty points in column {}  are {} out of {}\".format(col,sum(full[col].isnull()),full.shape[0]))"
   ]
  },
  {
   "cell_type": "code",
   "execution_count": 0,
   "metadata": {
    "colab": {
     "autoexec": {
      "startup": false,
      "wait_interval": 0
     }
    },
    "colab_type": "code",
    "collapsed": true,
    "id": "2TiVXu7Vs-TI"
   },
   "outputs": [],
   "source": [
    "#separating deck from cabin\n",
    "def cabin(text):\n",
    "    a = text[0]\n",
    "    return a  "
   ]
  },
  {
   "cell_type": "code",
   "execution_count": 0,
   "metadata": {
    "colab": {
     "autoexec": {
      "startup": false,
      "wait_interval": 0
     }
    },
    "colab_type": "code",
    "collapsed": true,
    "id": "EYrdEUbrtGwf"
   },
   "outputs": [],
   "source": [
    "full['Deck'] = full[full['Cabin'].isnull()== False]['Cabin'].apply(cabin)"
   ]
  },
  {
   "cell_type": "code",
   "execution_count": 0,
   "metadata": {
    "colab": {
     "autoexec": {
      "startup": false,
      "wait_interval": 0
     }
    },
    "colab_type": "code",
    "collapsed": true,
    "id": "Oor2lmY0tRrb"
   },
   "outputs": [],
   "source": [
    "#separating room no. from cabin\n",
    "def room(text):\n",
    "    a = text.split()\n",
    "    a = a[0]\n",
    "    if len(a)>1:\n",
    "        a = int(a[1:])\n",
    "    else:\n",
    "        a = 0\n",
    "    return a"
   ]
  },
  {
   "cell_type": "code",
   "execution_count": 0,
   "metadata": {
    "colab": {
     "autoexec": {
      "startup": false,
      "wait_interval": 0
     }
    },
    "colab_type": "code",
    "collapsed": true,
    "id": "db0XhZdjtr9R"
   },
   "outputs": [],
   "source": [
    "full[\"room_no\"] = full[full[\"Cabin\"].isnull()==False][\"Cabin\"].apply(room)"
   ]
  },
  {
   "cell_type": "code",
   "execution_count": 0,
   "metadata": {
    "colab": {
     "autoexec": {
      "startup": false,
      "wait_interval": 0
     }
    },
    "colab_type": "code",
    "collapsed": true,
    "id": "KUNF4wp-tuig"
   },
   "outputs": [],
   "source": [
    "#defining region in deck according to range of room nos. and odd-even room nos as adjacent rooms in ship had either odd or even nos. \n",
    "a = np.arange(0,50,2)\n",
    "b = np.arange(1,51,2)\n",
    "c = np.arange(50,100,2)\n",
    "d = np.arange(51,101,2)\n",
    "e = np.arange(100,150,2)\n",
    "f = np.arange(101,151,2)\n",
    "g = np.arange(150,200,2)\n",
    "h = np.arange(151,201,2)\n",
    "\n",
    "i = 1\n",
    "def region(num):\n",
    "    if num == 'nan':\n",
    "        pass\n",
    "    else:\n",
    "        global reg\n",
    "        reg = None\n",
    "        if num in a:\n",
    "            reg = i\n",
    "        elif num in b:\n",
    "            reg = i+1\n",
    "        elif num in c:\n",
    "            reg = i+2\n",
    "        elif num in d:\n",
    "            reg = i+3  \n",
    "        elif num in e:\n",
    "            reg = i+4\n",
    "        elif num in f:\n",
    "            reg = i+5\n",
    "        elif num in g:\n",
    "            reg = i+6\n",
    "        elif num in h:\n",
    "            reg = i+7   \n",
    "    return reg  \n"
   ]
  },
  {
   "cell_type": "code",
   "execution_count": 22,
   "metadata": {
    "colab": {
     "autoexec": {
      "startup": false,
      "wait_interval": 0
     },
     "base_uri": "https://localhost:8080/",
     "height": 34
    },
    "colab_type": "code",
    "executionInfo": {
     "elapsed": 1220,
     "status": "ok",
     "timestamp": 1524880363824,
     "user": {
      "displayName": "shalabh yadu",
      "photoUrl": "//lh5.googleusercontent.com/-EBX7zy1ePA0/AAAAAAAAAAI/AAAAAAAAHiI/55c2GSudPJE/s50-c-k-no/photo.jpg",
      "userId": "101084161892560906162"
     },
     "user_tz": -330
    },
    "id": "A1DYhTZ5IoKF",
    "outputId": "43078986-48e6-47af-e96a-4f41ebe14865"
   },
   "outputs": [
    {
     "data": {
      "text/plain": [
       "2"
      ]
     },
     "execution_count": 22,
     "metadata": {
      "tags": []
     },
     "output_type": "execute_result"
    }
   ],
   "source": [
    "region(19)"
   ]
  },
  {
   "cell_type": "code",
   "execution_count": 0,
   "metadata": {
    "colab": {
     "autoexec": {
      "startup": false,
      "wait_interval": 0
     }
    },
    "colab_type": "code",
    "collapsed": true,
    "id": "-IPvq-wuuV8z"
   },
   "outputs": [],
   "source": [
    "#assinging region to room numbers without deck in range 1-8\n",
    "full['region'] = full['room_no'].apply(region)"
   ]
  },
  {
   "cell_type": "code",
   "execution_count": 24,
   "metadata": {
    "colab": {
     "autoexec": {
      "startup": false,
      "wait_interval": 0
     },
     "base_uri": "https://localhost:8080/",
     "height": 255
    },
    "colab_type": "code",
    "executionInfo": {
     "elapsed": 1227,
     "status": "ok",
     "timestamp": 1524880383254,
     "user": {
      "displayName": "shalabh yadu",
      "photoUrl": "//lh5.googleusercontent.com/-EBX7zy1ePA0/AAAAAAAAAAI/AAAAAAAAHiI/55c2GSudPJE/s50-c-k-no/photo.jpg",
      "userId": "101084161892560906162"
     },
     "user_tz": -330
    },
    "id": "9GRCdHoEuXbT",
    "outputId": "2df09555-24af-4036-855d-4c972468bb58"
   },
   "outputs": [
    {
     "data": {
      "text/html": [
       "<div>\n",
       "<style scoped>\n",
       "    .dataframe tbody tr th:only-of-type {\n",
       "        vertical-align: middle;\n",
       "    }\n",
       "\n",
       "    .dataframe tbody tr th {\n",
       "        vertical-align: top;\n",
       "    }\n",
       "\n",
       "    .dataframe thead th {\n",
       "        text-align: right;\n",
       "    }\n",
       "</style>\n",
       "<table border=\"1\" class=\"dataframe\">\n",
       "  <thead>\n",
       "    <tr style=\"text-align: right;\">\n",
       "      <th></th>\n",
       "      <th>index</th>\n",
       "      <th>PassengerId</th>\n",
       "      <th>Pclass</th>\n",
       "      <th>Name</th>\n",
       "      <th>Sex</th>\n",
       "      <th>Age</th>\n",
       "      <th>SibSp</th>\n",
       "      <th>Parch</th>\n",
       "      <th>Ticket</th>\n",
       "      <th>Fare</th>\n",
       "      <th>Cabin</th>\n",
       "      <th>Embarked</th>\n",
       "      <th>title</th>\n",
       "      <th>Deck</th>\n",
       "      <th>room_no</th>\n",
       "      <th>region</th>\n",
       "    </tr>\n",
       "  </thead>\n",
       "  <tbody>\n",
       "    <tr>\n",
       "      <th>0</th>\n",
       "      <td>0</td>\n",
       "      <td>1</td>\n",
       "      <td>3</td>\n",
       "      <td>Braund, Mr. Owen Harris</td>\n",
       "      <td>male</td>\n",
       "      <td>32.252151</td>\n",
       "      <td>1</td>\n",
       "      <td>0</td>\n",
       "      <td>A/5 21171</td>\n",
       "      <td>7.2500</td>\n",
       "      <td>NaN</td>\n",
       "      <td>S</td>\n",
       "      <td>Mr</td>\n",
       "      <td>NaN</td>\n",
       "      <td>NaN</td>\n",
       "      <td>NaN</td>\n",
       "    </tr>\n",
       "    <tr>\n",
       "      <th>1</th>\n",
       "      <td>1</td>\n",
       "      <td>2</td>\n",
       "      <td>1</td>\n",
       "      <td>Cumings, Mrs. John Bradley (Florence Briggs Th...</td>\n",
       "      <td>female</td>\n",
       "      <td>36.994118</td>\n",
       "      <td>1</td>\n",
       "      <td>0</td>\n",
       "      <td>PC 17599</td>\n",
       "      <td>71.2833</td>\n",
       "      <td>C85</td>\n",
       "      <td>C</td>\n",
       "      <td>Mrs</td>\n",
       "      <td>C</td>\n",
       "      <td>85.0</td>\n",
       "      <td>4.0</td>\n",
       "    </tr>\n",
       "    <tr>\n",
       "      <th>2</th>\n",
       "      <td>2</td>\n",
       "      <td>3</td>\n",
       "      <td>3</td>\n",
       "      <td>Heikkinen, Miss. Laina</td>\n",
       "      <td>female</td>\n",
       "      <td>21.774238</td>\n",
       "      <td>0</td>\n",
       "      <td>0</td>\n",
       "      <td>STON/O2. 3101282</td>\n",
       "      <td>7.9250</td>\n",
       "      <td>NaN</td>\n",
       "      <td>S</td>\n",
       "      <td>Miss</td>\n",
       "      <td>NaN</td>\n",
       "      <td>NaN</td>\n",
       "      <td>NaN</td>\n",
       "    </tr>\n",
       "    <tr>\n",
       "      <th>3</th>\n",
       "      <td>3</td>\n",
       "      <td>4</td>\n",
       "      <td>1</td>\n",
       "      <td>Futrelle, Mrs. Jacques Heath (Lily May Peel)</td>\n",
       "      <td>female</td>\n",
       "      <td>36.994118</td>\n",
       "      <td>1</td>\n",
       "      <td>0</td>\n",
       "      <td>113803</td>\n",
       "      <td>53.1000</td>\n",
       "      <td>C123</td>\n",
       "      <td>S</td>\n",
       "      <td>Mrs</td>\n",
       "      <td>C</td>\n",
       "      <td>123.0</td>\n",
       "      <td>6.0</td>\n",
       "    </tr>\n",
       "    <tr>\n",
       "      <th>4</th>\n",
       "      <td>4</td>\n",
       "      <td>5</td>\n",
       "      <td>3</td>\n",
       "      <td>Allen, Mr. William Henry</td>\n",
       "      <td>male</td>\n",
       "      <td>32.252151</td>\n",
       "      <td>0</td>\n",
       "      <td>0</td>\n",
       "      <td>373450</td>\n",
       "      <td>8.0500</td>\n",
       "      <td>NaN</td>\n",
       "      <td>S</td>\n",
       "      <td>Mr</td>\n",
       "      <td>NaN</td>\n",
       "      <td>NaN</td>\n",
       "      <td>NaN</td>\n",
       "    </tr>\n",
       "  </tbody>\n",
       "</table>\n",
       "</div>"
      ],
      "text/plain": [
       "   index  PassengerId  Pclass  \\\n",
       "0      0            1       3   \n",
       "1      1            2       1   \n",
       "2      2            3       3   \n",
       "3      3            4       1   \n",
       "4      4            5       3   \n",
       "\n",
       "                                                Name     Sex        Age  \\\n",
       "0                            Braund, Mr. Owen Harris    male  32.252151   \n",
       "1  Cumings, Mrs. John Bradley (Florence Briggs Th...  female  36.994118   \n",
       "2                             Heikkinen, Miss. Laina  female  21.774238   \n",
       "3       Futrelle, Mrs. Jacques Heath (Lily May Peel)  female  36.994118   \n",
       "4                           Allen, Mr. William Henry    male  32.252151   \n",
       "\n",
       "   SibSp  Parch            Ticket     Fare Cabin Embarked  title Deck  \\\n",
       "0      1      0         A/5 21171   7.2500   NaN        S     Mr  NaN   \n",
       "1      1      0          PC 17599  71.2833   C85        C    Mrs    C   \n",
       "2      0      0  STON/O2. 3101282   7.9250   NaN        S   Miss  NaN   \n",
       "3      1      0            113803  53.1000  C123        S    Mrs    C   \n",
       "4      0      0            373450   8.0500   NaN        S     Mr  NaN   \n",
       "\n",
       "   room_no  region  \n",
       "0      NaN     NaN  \n",
       "1     85.0     4.0  \n",
       "2      NaN     NaN  \n",
       "3    123.0     6.0  \n",
       "4      NaN     NaN  "
      ]
     },
     "execution_count": 24,
     "metadata": {
      "tags": []
     },
     "output_type": "execute_result"
    }
   ],
   "source": [
    "full.head()"
   ]
  },
  {
   "cell_type": "code",
   "execution_count": 0,
   "metadata": {
    "colab": {
     "autoexec": {
      "startup": false,
      "wait_interval": 0
     }
    },
    "colab_type": "code",
    "collapsed": true,
    "id": "-sDMu44euoRl"
   },
   "outputs": [],
   "source": [
    "#now we'll assign multiples of 8 to all regions deck wise, the no. to be added is in column add_no \n",
    "\n",
    "off = None\n",
    "def offset(deck):\n",
    "    global off\n",
    "    off = None\n",
    "    if deck == 'nan':\n",
    "        pass\n",
    "    else:\n",
    "        if deck == 'A':\n",
    "            off = 0\n",
    "        elif deck == 'B':\n",
    "            off = 8\n",
    "        elif deck == 'C':\n",
    "            off = 16\n",
    "        elif deck =='D':\n",
    "            off = 24\n",
    "        elif deck == 'E':\n",
    "            off = 32\n",
    "        elif deck == 'F':\n",
    "            off = 40\n",
    "        elif deck == 'G':\n",
    "            off = 48\n",
    "        elif deck == 'T':\n",
    "            off = 56\n",
    "    return off\n",
    "full['add_no'] = full['Deck'].apply(offset)\n"
   ]
  },
  {
   "cell_type": "code",
   "execution_count": 26,
   "metadata": {
    "colab": {
     "autoexec": {
      "startup": false,
      "wait_interval": 0
     },
     "base_uri": "https://localhost:8080/",
     "height": 323
    },
    "colab_type": "code",
    "executionInfo": {
     "elapsed": 1239,
     "status": "ok",
     "timestamp": 1524880406964,
     "user": {
      "displayName": "shalabh yadu",
      "photoUrl": "//lh5.googleusercontent.com/-EBX7zy1ePA0/AAAAAAAAAAI/AAAAAAAAHiI/55c2GSudPJE/s50-c-k-no/photo.jpg",
      "userId": "101084161892560906162"
     },
     "user_tz": -330
    },
    "id": "mBDzbSDTwbcL",
    "outputId": "05068328-31dd-4c98-f749-dd3bf49abf96"
   },
   "outputs": [
    {
     "data": {
      "text/html": [
       "<div>\n",
       "<style scoped>\n",
       "    .dataframe tbody tr th:only-of-type {\n",
       "        vertical-align: middle;\n",
       "    }\n",
       "\n",
       "    .dataframe tbody tr th {\n",
       "        vertical-align: top;\n",
       "    }\n",
       "\n",
       "    .dataframe thead th {\n",
       "        text-align: right;\n",
       "    }\n",
       "</style>\n",
       "<table border=\"1\" class=\"dataframe\">\n",
       "  <thead>\n",
       "    <tr style=\"text-align: right;\">\n",
       "      <th></th>\n",
       "      <th>index</th>\n",
       "      <th>PassengerId</th>\n",
       "      <th>Pclass</th>\n",
       "      <th>Name</th>\n",
       "      <th>Sex</th>\n",
       "      <th>Age</th>\n",
       "      <th>SibSp</th>\n",
       "      <th>Parch</th>\n",
       "      <th>Ticket</th>\n",
       "      <th>Fare</th>\n",
       "      <th>Cabin</th>\n",
       "      <th>Embarked</th>\n",
       "      <th>title</th>\n",
       "      <th>Deck</th>\n",
       "      <th>room_no</th>\n",
       "      <th>region</th>\n",
       "      <th>add_no</th>\n",
       "    </tr>\n",
       "  </thead>\n",
       "  <tbody>\n",
       "    <tr>\n",
       "      <th>0</th>\n",
       "      <td>0</td>\n",
       "      <td>1</td>\n",
       "      <td>3</td>\n",
       "      <td>Braund, Mr. Owen Harris</td>\n",
       "      <td>male</td>\n",
       "      <td>32.252151</td>\n",
       "      <td>1</td>\n",
       "      <td>0</td>\n",
       "      <td>A/5 21171</td>\n",
       "      <td>7.2500</td>\n",
       "      <td>NaN</td>\n",
       "      <td>S</td>\n",
       "      <td>Mr</td>\n",
       "      <td>NaN</td>\n",
       "      <td>NaN</td>\n",
       "      <td>NaN</td>\n",
       "      <td>NaN</td>\n",
       "    </tr>\n",
       "    <tr>\n",
       "      <th>1</th>\n",
       "      <td>1</td>\n",
       "      <td>2</td>\n",
       "      <td>1</td>\n",
       "      <td>Cumings, Mrs. John Bradley (Florence Briggs Th...</td>\n",
       "      <td>female</td>\n",
       "      <td>36.994118</td>\n",
       "      <td>1</td>\n",
       "      <td>0</td>\n",
       "      <td>PC 17599</td>\n",
       "      <td>71.2833</td>\n",
       "      <td>C85</td>\n",
       "      <td>C</td>\n",
       "      <td>Mrs</td>\n",
       "      <td>C</td>\n",
       "      <td>85.0</td>\n",
       "      <td>4.0</td>\n",
       "      <td>16.0</td>\n",
       "    </tr>\n",
       "    <tr>\n",
       "      <th>2</th>\n",
       "      <td>2</td>\n",
       "      <td>3</td>\n",
       "      <td>3</td>\n",
       "      <td>Heikkinen, Miss. Laina</td>\n",
       "      <td>female</td>\n",
       "      <td>21.774238</td>\n",
       "      <td>0</td>\n",
       "      <td>0</td>\n",
       "      <td>STON/O2. 3101282</td>\n",
       "      <td>7.9250</td>\n",
       "      <td>NaN</td>\n",
       "      <td>S</td>\n",
       "      <td>Miss</td>\n",
       "      <td>NaN</td>\n",
       "      <td>NaN</td>\n",
       "      <td>NaN</td>\n",
       "      <td>NaN</td>\n",
       "    </tr>\n",
       "    <tr>\n",
       "      <th>3</th>\n",
       "      <td>3</td>\n",
       "      <td>4</td>\n",
       "      <td>1</td>\n",
       "      <td>Futrelle, Mrs. Jacques Heath (Lily May Peel)</td>\n",
       "      <td>female</td>\n",
       "      <td>36.994118</td>\n",
       "      <td>1</td>\n",
       "      <td>0</td>\n",
       "      <td>113803</td>\n",
       "      <td>53.1000</td>\n",
       "      <td>C123</td>\n",
       "      <td>S</td>\n",
       "      <td>Mrs</td>\n",
       "      <td>C</td>\n",
       "      <td>123.0</td>\n",
       "      <td>6.0</td>\n",
       "      <td>16.0</td>\n",
       "    </tr>\n",
       "    <tr>\n",
       "      <th>4</th>\n",
       "      <td>4</td>\n",
       "      <td>5</td>\n",
       "      <td>3</td>\n",
       "      <td>Allen, Mr. William Henry</td>\n",
       "      <td>male</td>\n",
       "      <td>32.252151</td>\n",
       "      <td>0</td>\n",
       "      <td>0</td>\n",
       "      <td>373450</td>\n",
       "      <td>8.0500</td>\n",
       "      <td>NaN</td>\n",
       "      <td>S</td>\n",
       "      <td>Mr</td>\n",
       "      <td>NaN</td>\n",
       "      <td>NaN</td>\n",
       "      <td>NaN</td>\n",
       "      <td>NaN</td>\n",
       "    </tr>\n",
       "  </tbody>\n",
       "</table>\n",
       "</div>"
      ],
      "text/plain": [
       "   index  PassengerId  Pclass  \\\n",
       "0      0            1       3   \n",
       "1      1            2       1   \n",
       "2      2            3       3   \n",
       "3      3            4       1   \n",
       "4      4            5       3   \n",
       "\n",
       "                                                Name     Sex        Age  \\\n",
       "0                            Braund, Mr. Owen Harris    male  32.252151   \n",
       "1  Cumings, Mrs. John Bradley (Florence Briggs Th...  female  36.994118   \n",
       "2                             Heikkinen, Miss. Laina  female  21.774238   \n",
       "3       Futrelle, Mrs. Jacques Heath (Lily May Peel)  female  36.994118   \n",
       "4                           Allen, Mr. William Henry    male  32.252151   \n",
       "\n",
       "   SibSp  Parch            Ticket     Fare Cabin Embarked  title Deck  \\\n",
       "0      1      0         A/5 21171   7.2500   NaN        S     Mr  NaN   \n",
       "1      1      0          PC 17599  71.2833   C85        C    Mrs    C   \n",
       "2      0      0  STON/O2. 3101282   7.9250   NaN        S   Miss  NaN   \n",
       "3      1      0            113803  53.1000  C123        S    Mrs    C   \n",
       "4      0      0            373450   8.0500   NaN        S     Mr  NaN   \n",
       "\n",
       "   room_no  region  add_no  \n",
       "0      NaN     NaN     NaN  \n",
       "1     85.0     4.0    16.0  \n",
       "2      NaN     NaN     NaN  \n",
       "3    123.0     6.0    16.0  \n",
       "4      NaN     NaN     NaN  "
      ]
     },
     "execution_count": 26,
     "metadata": {
      "tags": []
     },
     "output_type": "execute_result"
    }
   ],
   "source": [
    "full.head()"
   ]
  },
  {
   "cell_type": "code",
   "execution_count": 0,
   "metadata": {
    "colab": {
     "autoexec": {
      "startup": false,
      "wait_interval": 0
     }
    },
    "colab_type": "code",
    "collapsed": true,
    "id": "ZIlt8K8ZyhIT"
   },
   "outputs": [],
   "source": [
    "full['final_region'] = full['region']+ full['add_no']\n",
    "# finally we have distinct region numbers for different portion of different decks"
   ]
  },
  {
   "cell_type": "code",
   "execution_count": 28,
   "metadata": {
    "colab": {
     "autoexec": {
      "startup": false,
      "wait_interval": 0
     },
     "base_uri": "https://localhost:8080/",
     "height": 496
    },
    "colab_type": "code",
    "executionInfo": {
     "elapsed": 1060,
     "status": "ok",
     "timestamp": 1524880440822,
     "user": {
      "displayName": "shalabh yadu",
      "photoUrl": "//lh5.googleusercontent.com/-EBX7zy1ePA0/AAAAAAAAAAI/AAAAAAAAHiI/55c2GSudPJE/s50-c-k-no/photo.jpg",
      "userId": "101084161892560906162"
     },
     "user_tz": -330
    },
    "id": "trBtan5zCzS_",
    "outputId": "cb97c940-483b-4b9f-9a35-0b38223c440d"
   },
   "outputs": [
    {
     "data": {
      "text/html": [
       "<div>\n",
       "<style scoped>\n",
       "    .dataframe tbody tr th:only-of-type {\n",
       "        vertical-align: middle;\n",
       "    }\n",
       "\n",
       "    .dataframe tbody tr th {\n",
       "        vertical-align: top;\n",
       "    }\n",
       "\n",
       "    .dataframe thead th {\n",
       "        text-align: right;\n",
       "    }\n",
       "</style>\n",
       "<table border=\"1\" class=\"dataframe\">\n",
       "  <thead>\n",
       "    <tr style=\"text-align: right;\">\n",
       "      <th></th>\n",
       "      <th>index</th>\n",
       "      <th>PassengerId</th>\n",
       "      <th>Pclass</th>\n",
       "      <th>Name</th>\n",
       "      <th>Sex</th>\n",
       "      <th>Age</th>\n",
       "      <th>SibSp</th>\n",
       "      <th>Parch</th>\n",
       "      <th>Ticket</th>\n",
       "      <th>Fare</th>\n",
       "      <th>Cabin</th>\n",
       "      <th>Embarked</th>\n",
       "      <th>title</th>\n",
       "      <th>Deck</th>\n",
       "      <th>room_no</th>\n",
       "      <th>region</th>\n",
       "      <th>add_no</th>\n",
       "      <th>final_region</th>\n",
       "    </tr>\n",
       "  </thead>\n",
       "  <tbody>\n",
       "    <tr>\n",
       "      <th>0</th>\n",
       "      <td>0</td>\n",
       "      <td>1</td>\n",
       "      <td>3</td>\n",
       "      <td>Braund, Mr. Owen Harris</td>\n",
       "      <td>male</td>\n",
       "      <td>32.252151</td>\n",
       "      <td>1</td>\n",
       "      <td>0</td>\n",
       "      <td>A/5 21171</td>\n",
       "      <td>7.2500</td>\n",
       "      <td>NaN</td>\n",
       "      <td>S</td>\n",
       "      <td>Mr</td>\n",
       "      <td>NaN</td>\n",
       "      <td>NaN</td>\n",
       "      <td>NaN</td>\n",
       "      <td>NaN</td>\n",
       "      <td>NaN</td>\n",
       "    </tr>\n",
       "    <tr>\n",
       "      <th>1</th>\n",
       "      <td>1</td>\n",
       "      <td>2</td>\n",
       "      <td>1</td>\n",
       "      <td>Cumings, Mrs. John Bradley (Florence Briggs Th...</td>\n",
       "      <td>female</td>\n",
       "      <td>36.994118</td>\n",
       "      <td>1</td>\n",
       "      <td>0</td>\n",
       "      <td>PC 17599</td>\n",
       "      <td>71.2833</td>\n",
       "      <td>C85</td>\n",
       "      <td>C</td>\n",
       "      <td>Mrs</td>\n",
       "      <td>C</td>\n",
       "      <td>85.0</td>\n",
       "      <td>4.0</td>\n",
       "      <td>16.0</td>\n",
       "      <td>20.0</td>\n",
       "    </tr>\n",
       "    <tr>\n",
       "      <th>2</th>\n",
       "      <td>2</td>\n",
       "      <td>3</td>\n",
       "      <td>3</td>\n",
       "      <td>Heikkinen, Miss. Laina</td>\n",
       "      <td>female</td>\n",
       "      <td>21.774238</td>\n",
       "      <td>0</td>\n",
       "      <td>0</td>\n",
       "      <td>STON/O2. 3101282</td>\n",
       "      <td>7.9250</td>\n",
       "      <td>NaN</td>\n",
       "      <td>S</td>\n",
       "      <td>Miss</td>\n",
       "      <td>NaN</td>\n",
       "      <td>NaN</td>\n",
       "      <td>NaN</td>\n",
       "      <td>NaN</td>\n",
       "      <td>NaN</td>\n",
       "    </tr>\n",
       "    <tr>\n",
       "      <th>3</th>\n",
       "      <td>3</td>\n",
       "      <td>4</td>\n",
       "      <td>1</td>\n",
       "      <td>Futrelle, Mrs. Jacques Heath (Lily May Peel)</td>\n",
       "      <td>female</td>\n",
       "      <td>36.994118</td>\n",
       "      <td>1</td>\n",
       "      <td>0</td>\n",
       "      <td>113803</td>\n",
       "      <td>53.1000</td>\n",
       "      <td>C123</td>\n",
       "      <td>S</td>\n",
       "      <td>Mrs</td>\n",
       "      <td>C</td>\n",
       "      <td>123.0</td>\n",
       "      <td>6.0</td>\n",
       "      <td>16.0</td>\n",
       "      <td>22.0</td>\n",
       "    </tr>\n",
       "    <tr>\n",
       "      <th>4</th>\n",
       "      <td>4</td>\n",
       "      <td>5</td>\n",
       "      <td>3</td>\n",
       "      <td>Allen, Mr. William Henry</td>\n",
       "      <td>male</td>\n",
       "      <td>32.252151</td>\n",
       "      <td>0</td>\n",
       "      <td>0</td>\n",
       "      <td>373450</td>\n",
       "      <td>8.0500</td>\n",
       "      <td>NaN</td>\n",
       "      <td>S</td>\n",
       "      <td>Mr</td>\n",
       "      <td>NaN</td>\n",
       "      <td>NaN</td>\n",
       "      <td>NaN</td>\n",
       "      <td>NaN</td>\n",
       "      <td>NaN</td>\n",
       "    </tr>\n",
       "  </tbody>\n",
       "</table>\n",
       "</div>"
      ],
      "text/plain": [
       "   index  PassengerId  Pclass  \\\n",
       "0      0            1       3   \n",
       "1      1            2       1   \n",
       "2      2            3       3   \n",
       "3      3            4       1   \n",
       "4      4            5       3   \n",
       "\n",
       "                                                Name     Sex        Age  \\\n",
       "0                            Braund, Mr. Owen Harris    male  32.252151   \n",
       "1  Cumings, Mrs. John Bradley (Florence Briggs Th...  female  36.994118   \n",
       "2                             Heikkinen, Miss. Laina  female  21.774238   \n",
       "3       Futrelle, Mrs. Jacques Heath (Lily May Peel)  female  36.994118   \n",
       "4                           Allen, Mr. William Henry    male  32.252151   \n",
       "\n",
       "   SibSp  Parch            Ticket     Fare Cabin Embarked  title Deck  \\\n",
       "0      1      0         A/5 21171   7.2500   NaN        S     Mr  NaN   \n",
       "1      1      0          PC 17599  71.2833   C85        C    Mrs    C   \n",
       "2      0      0  STON/O2. 3101282   7.9250   NaN        S   Miss  NaN   \n",
       "3      1      0            113803  53.1000  C123        S    Mrs    C   \n",
       "4      0      0            373450   8.0500   NaN        S     Mr  NaN   \n",
       "\n",
       "   room_no  region  add_no  final_region  \n",
       "0      NaN     NaN     NaN           NaN  \n",
       "1     85.0     4.0    16.0          20.0  \n",
       "2      NaN     NaN     NaN           NaN  \n",
       "3    123.0     6.0    16.0          22.0  \n",
       "4      NaN     NaN     NaN           NaN  "
      ]
     },
     "execution_count": 28,
     "metadata": {
      "tags": []
     },
     "output_type": "execute_result"
    }
   ],
   "source": [
    "full.head()"
   ]
  },
  {
   "cell_type": "code",
   "execution_count": 0,
   "metadata": {
    "colab": {
     "autoexec": {
      "startup": false,
      "wait_interval": 0
     }
    },
    "colab_type": "code",
    "collapsed": true,
    "id": "3FwkD9r6Zm06"
   },
   "outputs": [],
   "source": [
    "#filling missing fare with mean fare\n",
    "full['Fare'].fillna(full['Fare'].mean(), inplace = True)"
   ]
  },
  {
   "cell_type": "code",
   "execution_count": 0,
   "metadata": {
    "colab": {
     "autoexec": {
      "startup": false,
      "wait_interval": 0
     }
    },
    "colab_type": "code",
    "collapsed": true,
    "id": "wzFtpwUZzTOX"
   },
   "outputs": [],
   "source": [
    "#using ticket fare, no. of siblings , no of parent children, class we'll find region using random forest \n",
    "\n",
    "region_df = full[full['Cabin'].isnull()==False][['Pclass','SibSp','Parch','Fare','final_region']]"
   ]
  },
  {
   "cell_type": "code",
   "execution_count": 31,
   "metadata": {
    "colab": {
     "autoexec": {
      "startup": false,
      "wait_interval": 0
     },
     "base_uri": "https://localhost:8080/",
     "height": 34
    },
    "colab_type": "code",
    "executionInfo": {
     "elapsed": 1363,
     "status": "ok",
     "timestamp": 1524880708678,
     "user": {
      "displayName": "shalabh yadu",
      "photoUrl": "//lh5.googleusercontent.com/-EBX7zy1ePA0/AAAAAAAAAAI/AAAAAAAAHiI/55c2GSudPJE/s50-c-k-no/photo.jpg",
      "userId": "101084161892560906162"
     },
     "user_tz": -330
    },
    "id": "kd0KqPZSDNer",
    "outputId": "d945e5fc-dc7f-4439-89ae-ab6fcaeef571"
   },
   "outputs": [
    {
     "data": {
      "text/plain": [
       "Int64Index([], dtype='int64')"
      ]
     },
     "execution_count": 31,
     "metadata": {
      "tags": []
     },
     "output_type": "execute_result"
    }
   ],
   "source": [
    "#check if any missing data\n",
    "region_df[region_df['final_region'].isnull()].index"
   ]
  },
  {
   "cell_type": "code",
   "execution_count": 0,
   "metadata": {
    "colab": {
     "autoexec": {
      "startup": false,
      "wait_interval": 0
     }
    },
    "colab_type": "code",
    "collapsed": true,
    "id": "FOlOuiAn0_6-"
   },
   "outputs": [],
   "source": [
    "region_df_y = region_df['final_region']\n",
    "region_df = region_df.iloc[:,:-1]"
   ]
  },
  {
   "cell_type": "code",
   "execution_count": 33,
   "metadata": {
    "colab": {
     "autoexec": {
      "startup": false,
      "wait_interval": 0
     },
     "base_uri": "https://localhost:8080/",
     "height": 34
    },
    "colab_type": "code",
    "executionInfo": {
     "elapsed": 1056,
     "status": "ok",
     "timestamp": 1524880714889,
     "user": {
      "displayName": "shalabh yadu",
      "photoUrl": "//lh5.googleusercontent.com/-EBX7zy1ePA0/AAAAAAAAAAI/AAAAAAAAHiI/55c2GSudPJE/s50-c-k-no/photo.jpg",
      "userId": "101084161892560906162"
     },
     "user_tz": -330
    },
    "id": "n2KRjEvy1BiK",
    "outputId": "31d769c5-fb12-45dd-eb42-617f0b291a24"
   },
   "outputs": [
    {
     "data": {
      "text/plain": [
       "(295,)"
      ]
     },
     "execution_count": 33,
     "metadata": {
      "tags": []
     },
     "output_type": "execute_result"
    }
   ],
   "source": [
    "region_df_y.shape"
   ]
  },
  {
   "cell_type": "code",
   "execution_count": 0,
   "metadata": {
    "colab": {
     "autoexec": {
      "startup": false,
      "wait_interval": 0
     }
    },
    "colab_type": "code",
    "collapsed": true,
    "id": "4JGSv6VK1V3A"
   },
   "outputs": [],
   "source": [
    "from sklearn.ensemble import RandomForestClassifier\n",
    "cl = RandomForestClassifier(n_estimators=10000,random_state = 13,max_features= None)\n",
    "#splitting data where cabin no. is present for prediction of missing data"
   ]
  },
  {
   "cell_type": "code",
   "execution_count": 0,
   "metadata": {
    "colab": {
     "autoexec": {
      "startup": false,
      "wait_interval": 0
     }
    },
    "colab_type": "code",
    "collapsed": true,
    "id": "hzsN8FYV1h2T"
   },
   "outputs": [],
   "source": [
    "region_train_x,region_test_x = region_df[:200], region_df[200:]"
   ]
  },
  {
   "cell_type": "code",
   "execution_count": 0,
   "metadata": {
    "colab": {
     "autoexec": {
      "startup": false,
      "wait_interval": 0
     }
    },
    "colab_type": "code",
    "collapsed": true,
    "id": "1X39k2bx1yOa"
   },
   "outputs": [],
   "source": [
    "region_train_y, region_test_y = region_df_y[:200], region_df_y[200:]"
   ]
  },
  {
   "cell_type": "code",
   "execution_count": 37,
   "metadata": {
    "colab": {
     "autoexec": {
      "startup": false,
      "wait_interval": 0
     },
     "base_uri": "https://localhost:8080/",
     "height": 119
    },
    "colab_type": "code",
    "executionInfo": {
     "elapsed": 8000,
     "status": "ok",
     "timestamp": 1524880739796,
     "user": {
      "displayName": "shalabh yadu",
      "photoUrl": "//lh5.googleusercontent.com/-EBX7zy1ePA0/AAAAAAAAAAI/AAAAAAAAHiI/55c2GSudPJE/s50-c-k-no/photo.jpg",
      "userId": "101084161892560906162"
     },
     "user_tz": -330
    },
    "id": "HwsM4G9g2mWv",
    "outputId": "f98e4830-624a-4eef-f314-9c71f0f9f963"
   },
   "outputs": [
    {
     "name": "stdout",
     "output_type": "stream",
     "text": [
      "0.4631578947368421\n",
      "0.4631578947368421\n",
      "0.4631578947368421\n",
      "0.4421052631578947\n",
      "0.18947368421052632\n",
      "0.16842105263157894\n"
     ]
    }
   ],
   "source": [
    "from sklearn.metrics import accuracy_score\n",
    "#trying different parameters\n",
    "sample_leaf_options = [0.00001,0.0001,0.001,0.01,0.1,0.3]\n",
    "for f in sample_leaf_options :\n",
    "    cl = RandomForestClassifier(n_estimators = 500,min_weight_fraction_leaf = f, n_jobs = -1,random_state =50,max_features = None, min_samples_leaf = 1)\n",
    "    cl.fit(region_train_x,region_train_y)\n",
    "    print(accuracy_score(region_test_y,cl.predict(region_test_x)))"
   ]
  },
  {
   "cell_type": "code",
   "execution_count": 38,
   "metadata": {
    "colab": {
     "autoexec": {
      "startup": false,
      "wait_interval": 0
     },
     "base_uri": "https://localhost:8080/",
     "height": 34
    },
    "colab_type": "code",
    "executionInfo": {
     "elapsed": 2642,
     "status": "ok",
     "timestamp": 1524880744665,
     "user": {
      "displayName": "shalabh yadu",
      "photoUrl": "//lh5.googleusercontent.com/-EBX7zy1ePA0/AAAAAAAAAAI/AAAAAAAAHiI/55c2GSudPJE/s50-c-k-no/photo.jpg",
      "userId": "101084161892560906162"
     },
     "user_tz": -330
    },
    "id": "uWD1_VRL2v4J",
    "outputId": "6a1f91d9-df55-4bdb-982f-5f174ee25b0e"
   },
   "outputs": [
    {
     "data": {
      "text/plain": [
       "0.4631578947368421"
      ]
     },
     "execution_count": 38,
     "metadata": {
      "tags": []
     },
     "output_type": "execute_result"
    }
   ],
   "source": [
    "cl = RandomForestClassifier(n_estimators = 500,min_weight_fraction_leaf = 0.00001, n_jobs = -1,random_state =50,max_features = None, min_samples_leaf = 1)\n",
    "cl.fit(region_train_x,region_train_y)\n",
    "accuracy_score(region_test_y,cl.predict(region_test_x))"
   ]
  },
  {
   "cell_type": "code",
   "execution_count": 39,
   "metadata": {
    "colab": {
     "autoexec": {
      "startup": false,
      "wait_interval": 0
     },
     "base_uri": "https://localhost:8080/",
     "height": 119
    },
    "colab_type": "code",
    "executionInfo": {
     "elapsed": 1900,
     "status": "ok",
     "timestamp": 1524880749600,
     "user": {
      "displayName": "shalabh yadu",
      "photoUrl": "//lh5.googleusercontent.com/-EBX7zy1ePA0/AAAAAAAAAAI/AAAAAAAAHiI/55c2GSudPJE/s50-c-k-no/photo.jpg",
      "userId": "101084161892560906162"
     },
     "user_tz": -330
    },
    "id": "pTgeFN5N24mn",
    "outputId": "69ba8fa9-6ac7-4183-b328-e5da4957fc3a"
   },
   "outputs": [
    {
     "data": {
      "text/plain": [
       "RandomForestClassifier(bootstrap=True, class_weight=None, criterion='gini',\n",
       "            max_depth=None, max_features=None, max_leaf_nodes=None,\n",
       "            min_impurity_decrease=0.0, min_impurity_split=None,\n",
       "            min_samples_leaf=1, min_samples_split=2,\n",
       "            min_weight_fraction_leaf=1e-05, n_estimators=500, n_jobs=-1,\n",
       "            oob_score=False, random_state=50, verbose=0, warm_start=False)"
      ]
     },
     "execution_count": 39,
     "metadata": {
      "tags": []
     },
     "output_type": "execute_result"
    }
   ],
   "source": [
    "#fitting on available data\n",
    "cl.fit(region_df,region_df_y)"
   ]
  },
  {
   "cell_type": "code",
   "execution_count": 40,
   "metadata": {
    "colab": {
     "autoexec": {
      "startup": false,
      "wait_interval": 0
     },
     "base_uri": "https://localhost:8080/",
     "height": 204
    },
    "colab_type": "code",
    "executionInfo": {
     "elapsed": 847,
     "status": "ok",
     "timestamp": 1524880752454,
     "user": {
      "displayName": "shalabh yadu",
      "photoUrl": "//lh5.googleusercontent.com/-EBX7zy1ePA0/AAAAAAAAAAI/AAAAAAAAHiI/55c2GSudPJE/s50-c-k-no/photo.jpg",
      "userId": "101084161892560906162"
     },
     "user_tz": -330
    },
    "id": "m_kn1_nDk_Wa",
    "outputId": "c1e1fff2-aaa6-41ff-c6b0-d04d851289f3"
   },
   "outputs": [
    {
     "data": {
      "text/html": [
       "<div>\n",
       "<style scoped>\n",
       "    .dataframe tbody tr th:only-of-type {\n",
       "        vertical-align: middle;\n",
       "    }\n",
       "\n",
       "    .dataframe tbody tr th {\n",
       "        vertical-align: top;\n",
       "    }\n",
       "\n",
       "    .dataframe thead th {\n",
       "        text-align: right;\n",
       "    }\n",
       "</style>\n",
       "<table border=\"1\" class=\"dataframe\">\n",
       "  <thead>\n",
       "    <tr style=\"text-align: right;\">\n",
       "      <th></th>\n",
       "      <th>Pclass</th>\n",
       "      <th>SibSp</th>\n",
       "      <th>Parch</th>\n",
       "      <th>Fare</th>\n",
       "    </tr>\n",
       "  </thead>\n",
       "  <tbody>\n",
       "    <tr>\n",
       "      <th>1</th>\n",
       "      <td>1</td>\n",
       "      <td>1</td>\n",
       "      <td>0</td>\n",
       "      <td>71.2833</td>\n",
       "    </tr>\n",
       "    <tr>\n",
       "      <th>3</th>\n",
       "      <td>1</td>\n",
       "      <td>1</td>\n",
       "      <td>0</td>\n",
       "      <td>53.1000</td>\n",
       "    </tr>\n",
       "    <tr>\n",
       "      <th>6</th>\n",
       "      <td>1</td>\n",
       "      <td>0</td>\n",
       "      <td>0</td>\n",
       "      <td>51.8625</td>\n",
       "    </tr>\n",
       "    <tr>\n",
       "      <th>10</th>\n",
       "      <td>3</td>\n",
       "      <td>1</td>\n",
       "      <td>1</td>\n",
       "      <td>16.7000</td>\n",
       "    </tr>\n",
       "    <tr>\n",
       "      <th>11</th>\n",
       "      <td>1</td>\n",
       "      <td>0</td>\n",
       "      <td>0</td>\n",
       "      <td>26.5500</td>\n",
       "    </tr>\n",
       "  </tbody>\n",
       "</table>\n",
       "</div>"
      ],
      "text/plain": [
       "    Pclass  SibSp  Parch     Fare\n",
       "1        1      1      0  71.2833\n",
       "3        1      1      0  53.1000\n",
       "6        1      0      0  51.8625\n",
       "10       3      1      1  16.7000\n",
       "11       1      0      0  26.5500"
      ]
     },
     "execution_count": 40,
     "metadata": {
      "tags": []
     },
     "output_type": "execute_result"
    }
   ],
   "source": [
    "region_df.head()\n"
   ]
  },
  {
   "cell_type": "code",
   "execution_count": 41,
   "metadata": {
    "colab": {
     "autoexec": {
      "startup": false,
      "wait_interval": 0
     },
     "base_uri": "https://localhost:8080/",
     "height": 34
    },
    "colab_type": "code",
    "executionInfo": {
     "elapsed": 842,
     "status": "ok",
     "timestamp": 1524880754935,
     "user": {
      "displayName": "shalabh yadu",
      "photoUrl": "//lh5.googleusercontent.com/-EBX7zy1ePA0/AAAAAAAAAAI/AAAAAAAAHiI/55c2GSudPJE/s50-c-k-no/photo.jpg",
      "userId": "101084161892560906162"
     },
     "user_tz": -330
    },
    "id": "sar3DtgUlRe2",
    "outputId": "ab786e93-f434-4300-ad70-b7a9a7417709"
   },
   "outputs": [
    {
     "data": {
      "text/plain": [
       "(295, 4)"
      ]
     },
     "execution_count": 41,
     "metadata": {
      "tags": []
     },
     "output_type": "execute_result"
    }
   ],
   "source": [
    "region_df.shape"
   ]
  },
  {
   "cell_type": "code",
   "execution_count": 52,
   "metadata": {
    "colab": {
     "autoexec": {
      "startup": false,
      "wait_interval": 0
     },
     "base_uri": "https://localhost:8080/",
     "height": 34
    },
    "colab_type": "code",
    "executionInfo": {
     "elapsed": 806,
     "status": "ok",
     "timestamp": 1524837643063,
     "user": {
      "displayName": "shalabh yadu",
      "photoUrl": "//lh5.googleusercontent.com/-EBX7zy1ePA0/AAAAAAAAAAI/AAAAAAAAHiI/55c2GSudPJE/s50-c-k-no/photo.jpg",
      "userId": "101084161892560906162"
     },
     "user_tz": -330
    },
    "id": "V4p2FEuhQn2_",
    "outputId": "3830438a-5706-4853-f784-c95ab6b0a7de"
   },
   "outputs": [
    {
     "data": {
      "text/plain": [
       "1014"
      ]
     },
     "execution_count": 52,
     "metadata": {
      "tags": []
     },
     "output_type": "execute_result"
    }
   ],
   "source": [
    "sum(full.Cabin.isnull())"
   ]
  },
  {
   "cell_type": "code",
   "execution_count": 0,
   "metadata": {
    "colab": {
     "autoexec": {
      "startup": false,
      "wait_interval": 0
     }
    },
    "colab_type": "code",
    "collapsed": true,
    "id": "G5ljOMro3OZl"
   },
   "outputs": [],
   "source": [
    "# taking dataframe of missing cabin rows\n",
    "region_df_com = full[full['Cabin'].isnull()][['Pclass','SibSp','Parch','Fare']]"
   ]
  },
  {
   "cell_type": "code",
   "execution_count": 0,
   "metadata": {
    "colab": {
     "autoexec": {
      "startup": false,
      "wait_interval": 0
     }
    },
    "colab_type": "code",
    "collapsed": true,
    "id": "Iq20XZhKYZIi"
   },
   "outputs": [],
   "source": [
    "a = full[['Pclass','SibSp','Parch','Fare']]"
   ]
  },
  {
   "cell_type": "code",
   "execution_count": 56,
   "metadata": {
    "colab": {
     "autoexec": {
      "startup": false,
      "wait_interval": 0
     },
     "base_uri": "https://localhost:8080/",
     "height": 85
    },
    "colab_type": "code",
    "executionInfo": {
     "elapsed": 949,
     "status": "ok",
     "timestamp": 1524837693195,
     "user": {
      "displayName": "shalabh yadu",
      "photoUrl": "//lh5.googleusercontent.com/-EBX7zy1ePA0/AAAAAAAAAAI/AAAAAAAAHiI/55c2GSudPJE/s50-c-k-no/photo.jpg",
      "userId": "101084161892560906162"
     },
     "user_tz": -330
    },
    "id": "7r3qSFHyZEDD",
    "outputId": "37eb4741-1971-4803-8331-69867ac056e7"
   },
   "outputs": [
    {
     "name": "stdout",
     "output_type": "stream",
     "text": [
      "0\n",
      "0\n",
      "0\n",
      "0\n"
     ]
    }
   ],
   "source": [
    "for i in a.columns:\n",
    "  print(sum(a[i].isnull()))"
   ]
  },
  {
   "cell_type": "code",
   "execution_count": 43,
   "metadata": {
    "colab": {
     "autoexec": {
      "startup": false,
      "wait_interval": 0
     },
     "base_uri": "https://localhost:8080/",
     "height": 85
    },
    "colab_type": "code",
    "executionInfo": {
     "elapsed": 806,
     "status": "ok",
     "timestamp": 1524880783123,
     "user": {
      "displayName": "shalabh yadu",
      "photoUrl": "//lh5.googleusercontent.com/-EBX7zy1ePA0/AAAAAAAAAAI/AAAAAAAAHiI/55c2GSudPJE/s50-c-k-no/photo.jpg",
      "userId": "101084161892560906162"
     },
     "user_tz": -330
    },
    "id": "ffLRjPXKPrY3",
    "outputId": "d7c953b2-15fe-4cad-cbe1-725c0e815239"
   },
   "outputs": [
    {
     "name": "stdout",
     "output_type": "stream",
     "text": [
      "0\n",
      "0\n",
      "0\n",
      "0\n"
     ]
    }
   ],
   "source": [
    "#checking if any missing data \n",
    "for i in region_df_com.columns:\n",
    "  print(sum(region_df_com[i].isnull()))"
   ]
  },
  {
   "cell_type": "code",
   "execution_count": 44,
   "metadata": {
    "colab": {
     "autoexec": {
      "startup": false,
      "wait_interval": 0
     },
     "base_uri": "https://localhost:8080/",
     "height": 34
    },
    "colab_type": "code",
    "executionInfo": {
     "elapsed": 756,
     "status": "ok",
     "timestamp": 1524880786887,
     "user": {
      "displayName": "shalabh yadu",
      "photoUrl": "//lh5.googleusercontent.com/-EBX7zy1ePA0/AAAAAAAAAAI/AAAAAAAAHiI/55c2GSudPJE/s50-c-k-no/photo.jpg",
      "userId": "101084161892560906162"
     },
     "user_tz": -330
    },
    "id": "_9xJQ6JQQdg2",
    "outputId": "c149ef11-665f-4bde-ba2d-c01b87c4ef5f"
   },
   "outputs": [
    {
     "data": {
      "text/plain": [
       "(1014, 4)"
      ]
     },
     "execution_count": 44,
     "metadata": {
      "tags": []
     },
     "output_type": "execute_result"
    }
   ],
   "source": [
    "region_df_com.shape"
   ]
  },
  {
   "cell_type": "code",
   "execution_count": 64,
   "metadata": {
    "colab": {
     "autoexec": {
      "startup": false,
      "wait_interval": 0
     },
     "base_uri": "https://localhost:8080/",
     "height": 526
    },
    "colab_type": "code",
    "executionInfo": {
     "elapsed": 1222,
     "status": "ok",
     "timestamp": 1524840129325,
     "user": {
      "displayName": "shalabh yadu",
      "photoUrl": "//lh5.googleusercontent.com/-EBX7zy1ePA0/AAAAAAAAAAI/AAAAAAAAHiI/55c2GSudPJE/s50-c-k-no/photo.jpg",
      "userId": "101084161892560906162"
     },
     "user_tz": -330
    },
    "id": "U37YPtgUjAsJ",
    "outputId": "94921a9b-1400-4e62-fea7-a342c00ff31a"
   },
   "outputs": [
    {
     "data": {
      "text/plain": [
       "<seaborn.axisgrid.FacetGrid at 0x7f787f34d9e8>"
      ]
     },
     "execution_count": 64,
     "metadata": {
      "tags": []
     },
     "output_type": "execute_result"
    },
    {
     "data": {
      "image/png": "[encoded data removed]",
      "text/plain": [
       "<matplotlib.figure.Figure at 0x7f787f34dcf8>"
      ]
     },
     "metadata": {
      "tags": []
     },
     "output_type": "display_data"
    }
   ],
   "source": [
    "import seaborn as sns\n",
    "sns.lmplot(x = 'Deck', y = 'room_no',data = full[full['Deck'].isnull()== False], size = 7, aspect = 1.2, fit_reg = False,palette=\"Set1\")\n",
    "#from the below graph it is evident that the available data is not uniformaly distributed in every deck\n",
    "#this is a problem as tree based model will not predict the regions/cabins it has not seen in training data"
   ]
  },
  {
   "cell_type": "code",
   "execution_count": 63,
   "metadata": {
    "colab": {
     "autoexec": {
      "startup": false,
      "wait_interval": 0
     },
     "base_uri": "https://localhost:8080/",
     "height": 85
    },
    "colab_type": "code",
    "executionInfo": {
     "elapsed": 1233,
     "status": "ok",
     "timestamp": 1524840108759,
     "user": {
      "displayName": "shalabh yadu",
      "photoUrl": "//lh5.googleusercontent.com/-EBX7zy1ePA0/AAAAAAAAAAI/AAAAAAAAHiI/55c2GSudPJE/s50-c-k-no/photo.jpg",
      "userId": "101084161892560906162"
     },
     "user_tz": -330
    },
    "id": "88Otnv4KjW1P",
    "outputId": "d87d827a-7039-42a3-e202-d04865971d47"
   },
   "outputs": [
    {
     "data": {
      "text/plain": [
       "Index(['index', 'PassengerId', 'Pclass', 'Name', 'Sex', 'Age', 'SibSp',\n",
       "       'Parch', 'Ticket', 'Fare', 'Cabin', 'Embarked', 'title', 'Deck',\n",
       "       'room_no', 'region', 'add_no', 'final_region'],\n",
       "      dtype='object')"
      ]
     },
     "execution_count": 63,
     "metadata": {
      "tags": []
     },
     "output_type": "execute_result"
    }
   ],
   "source": [
    "full.columns"
   ]
  },
  {
   "cell_type": "code",
   "execution_count": 45,
   "metadata": {
    "colab": {
     "autoexec": {
      "startup": false,
      "wait_interval": 0
     },
     "base_uri": "https://localhost:8080/",
     "height": 34
    },
    "colab_type": "code",
    "executionInfo": {
     "elapsed": 2023,
     "status": "ok",
     "timestamp": 1524880801453,
     "user": {
      "displayName": "shalabh yadu",
      "photoUrl": "//lh5.googleusercontent.com/-EBX7zy1ePA0/AAAAAAAAAAI/AAAAAAAAHiI/55c2GSudPJE/s50-c-k-no/photo.jpg",
      "userId": "101084161892560906162"
     },
     "user_tz": -330
    },
    "id": "BtMZ_aF1YNVg",
    "outputId": "e75ce850-4521-42ad-dc72-53c32047f4ba"
   },
   "outputs": [
    {
     "data": {
      "text/plain": [
       "array([41., 33., 33., ..., 41., 33., 41.])"
      ]
     },
     "execution_count": 45,
     "metadata": {
      "tags": []
     },
     "output_type": "execute_result"
    }
   ],
   "source": [
    "cl.fit(region_df,region_df_y)\n",
    "cl.predict(region_df_com)"
   ]
  },
  {
   "cell_type": "code",
   "execution_count": 60,
   "metadata": {
    "colab": {
     "autoexec": {
      "startup": false,
      "wait_interval": 0
     },
     "base_uri": "https://localhost:8080/",
     "height": 34
    },
    "colab_type": "code",
    "executionInfo": {
     "elapsed": 821,
     "status": "ok",
     "timestamp": 1524837801293,
     "user": {
      "displayName": "shalabh yadu",
      "photoUrl": "//lh5.googleusercontent.com/-EBX7zy1ePA0/AAAAAAAAAAI/AAAAAAAAHiI/55c2GSudPJE/s50-c-k-no/photo.jpg",
      "userId": "101084161892560906162"
     },
     "user_tz": -330
    },
    "id": "R_EAajJOaT94",
    "outputId": "71a4f68e-16d8-4880-da73-2e694ab90d79"
   },
   "outputs": [
    {
     "data": {
      "text/plain": [
       "20"
      ]
     },
     "execution_count": 60,
     "metadata": {
      "tags": []
     },
     "output_type": "execute_result"
    }
   ],
   "source": [
    "len(np.unique(cl.predict(region_df_com)))"
   ]
  },
  {
   "cell_type": "code",
   "execution_count": 77,
   "metadata": {
    "colab": {
     "autoexec": {
      "startup": false,
      "wait_interval": 0
     },
     "base_uri": "https://localhost:8080/",
     "height": 34
    },
    "colab_type": "code",
    "executionInfo": {
     "elapsed": 1784,
     "status": "ok",
     "timestamp": 1524822198027,
     "user": {
      "displayName": "shalabh yadu",
      "photoUrl": "//lh5.googleusercontent.com/-EBX7zy1ePA0/AAAAAAAAAAI/AAAAAAAAHiI/55c2GSudPJE/s50-c-k-no/photo.jpg",
      "userId": "101084161892560906162"
     },
     "user_tz": -330
    },
    "id": "uA8BhpkJRzRe",
    "outputId": "52a4ec03-818d-488d-8b29-cc63eecd18d0"
   },
   "outputs": [
    {
     "data": {
      "text/plain": [
       "105"
      ]
     },
     "execution_count": 77,
     "metadata": {
      "tags": []
     },
     "output_type": "execute_result"
    }
   ],
   "source": [
    "len(set(full[full.room_no.isnull()== False]['room_no']))"
   ]
  },
  {
   "cell_type": "code",
   "execution_count": 0,
   "metadata": {
    "colab": {
     "autoexec": {
      "startup": false,
      "wait_interval": 0
     }
    },
    "colab_type": "code",
    "collapsed": true,
    "id": "IPtVUWBsCvag"
   },
   "outputs": [],
   "source": [
    "region_df_com['final_region'] = cl.predict(region_df_com)"
   ]
  },
  {
   "cell_type": "code",
   "execution_count": 47,
   "metadata": {
    "colab": {
     "autoexec": {
      "startup": false,
      "wait_interval": 0
     },
     "base_uri": "https://localhost:8080/",
     "height": 34
    },
    "colab_type": "code",
    "executionInfo": {
     "elapsed": 848,
     "status": "ok",
     "timestamp": 1524880838945,
     "user": {
      "displayName": "shalabh yadu",
      "photoUrl": "//lh5.googleusercontent.com/-EBX7zy1ePA0/AAAAAAAAAAI/AAAAAAAAHiI/55c2GSudPJE/s50-c-k-no/photo.jpg",
      "userId": "101084161892560906162"
     },
     "user_tz": -330
    },
    "id": "TB6nLM9mD1ea",
    "outputId": "29139807-ba6f-4347-9dde-b05b15b9c3f3"
   },
   "outputs": [
    {
     "data": {
      "text/plain": [
       "Int64Index([], dtype='int64')"
      ]
     },
     "execution_count": 47,
     "metadata": {
      "tags": []
     },
     "output_type": "execute_result"
    }
   ],
   "source": [
    "region_df_com[region_df_com['Fare'].isnull()].index"
   ]
  },
  {
   "cell_type": "code",
   "execution_count": 0,
   "metadata": {
    "colab": {
     "autoexec": {
      "startup": false,
      "wait_interval": 0
     }
    },
    "colab_type": "code",
    "collapsed": true,
    "id": "_QkYR7t0XUiK"
   },
   "outputs": [],
   "source": [
    "#filling predicted data in full data\n",
    "full.iloc[np.array(region_df_com.index),17] = region_df_com['final_region']"
   ]
  },
  {
   "cell_type": "code",
   "execution_count": 49,
   "metadata": {
    "colab": {
     "autoexec": {
      "startup": false,
      "wait_interval": 0
     },
     "base_uri": "https://localhost:8080/",
     "height": 323
    },
    "colab_type": "code",
    "executionInfo": {
     "elapsed": 993,
     "status": "ok",
     "timestamp": 1524880857758,
     "user": {
      "displayName": "shalabh yadu",
      "photoUrl": "//lh5.googleusercontent.com/-EBX7zy1ePA0/AAAAAAAAAAI/AAAAAAAAHiI/55c2GSudPJE/s50-c-k-no/photo.jpg",
      "userId": "101084161892560906162"
     },
     "user_tz": -330
    },
    "id": "jq-5Ew7wX4Fb",
    "outputId": "35cd1ba6-1d3f-4686-b0be-991153aa9bd0"
   },
   "outputs": [
    {
     "name": "stdout",
     "output_type": "stream",
     "text": [
      "0\n",
      "0\n",
      "0\n",
      "0\n",
      "0\n",
      "0\n",
      "0\n",
      "0\n",
      "0\n",
      "0\n",
      "1014\n",
      "2\n",
      "0\n",
      "1014\n",
      "1014\n",
      "1014\n",
      "1014\n",
      "0\n"
     ]
    }
   ],
   "source": [
    "#check missing data\n",
    "for i in full.columns:\n",
    "    print(sum(full[i].isnull()))"
   ]
  },
  {
   "cell_type": "code",
   "execution_count": 50,
   "metadata": {
    "colab": {
     "autoexec": {
      "startup": false,
      "wait_interval": 0
     },
     "base_uri": "https://localhost:8080/",
     "height": 85
    },
    "colab_type": "code",
    "executionInfo": {
     "elapsed": 936,
     "status": "ok",
     "timestamp": 1524880900086,
     "user": {
      "displayName": "shalabh yadu",
      "photoUrl": "//lh5.googleusercontent.com/-EBX7zy1ePA0/AAAAAAAAAAI/AAAAAAAAHiI/55c2GSudPJE/s50-c-k-no/photo.jpg",
      "userId": "101084161892560906162"
     },
     "user_tz": -330
    },
    "id": "xTp-UZjN-9IE",
    "outputId": "c1f28732-a3b2-46d5-ec8f-2dd0c6de2f2d"
   },
   "outputs": [
    {
     "data": {
      "text/plain": [
       "Index(['index', 'PassengerId', 'Pclass', 'Name', 'Sex', 'Age', 'SibSp',\n",
       "       'Parch', 'Ticket', 'Fare', 'Cabin', 'Embarked', 'title', 'Deck',\n",
       "       'room_no', 'region', 'add_no', 'final_region'],\n",
       "      dtype='object')"
      ]
     },
     "execution_count": 50,
     "metadata": {
      "tags": []
     },
     "output_type": "execute_result"
    }
   ],
   "source": [
    "full.columns"
   ]
  },
  {
   "cell_type": "code",
   "execution_count": 0,
   "metadata": {
    "colab": {
     "autoexec": {
      "startup": false,
      "wait_interval": 0
     }
    },
    "colab_type": "code",
    "collapsed": true,
    "id": "nC3qftHro8ZH"
   },
   "outputs": [],
   "source": [
    "full.drop(['Cabin','Deck','room_no','region','add_no'], axis = 1, inplace = True)"
   ]
  },
  {
   "cell_type": "code",
   "execution_count": 53,
   "metadata": {
    "colab": {
     "autoexec": {
      "startup": false,
      "wait_interval": 0
     },
     "base_uri": "https://localhost:8080/",
     "height": 238
    },
    "colab_type": "code",
    "executionInfo": {
     "elapsed": 933,
     "status": "ok",
     "timestamp": 1524881007502,
     "user": {
      "displayName": "shalabh yadu",
      "photoUrl": "//lh5.googleusercontent.com/-EBX7zy1ePA0/AAAAAAAAAAI/AAAAAAAAHiI/55c2GSudPJE/s50-c-k-no/photo.jpg",
      "userId": "101084161892560906162"
     },
     "user_tz": -330
    },
    "id": "04l9Hys8_Uo7",
    "outputId": "f665dcb2-33d0-460a-e160-2154342f1604"
   },
   "outputs": [
    {
     "name": "stdout",
     "output_type": "stream",
     "text": [
      "0\n",
      "0\n",
      "0\n",
      "0\n",
      "0\n",
      "0\n",
      "0\n",
      "0\n",
      "0\n",
      "0\n",
      "2\n",
      "0\n",
      "0\n"
     ]
    }
   ],
   "source": [
    "#sems there is missing data in Embarked column\n",
    "for i in full.columns:\n",
    "    print(sum(full[i].isnull()))"
   ]
  },
  {
   "cell_type": "code",
   "execution_count": 0,
   "metadata": {
    "colab": {
     "autoexec": {
      "startup": false,
      "wait_interval": 0
     }
    },
    "colab_type": "code",
    "collapsed": true,
    "id": "SBjpQDaY_e5A"
   },
   "outputs": [],
   "source": [
    "full['Embarked'] = full['Embarked'].fillna('S')"
   ]
  },
  {
   "cell_type": "code",
   "execution_count": 58,
   "metadata": {
    "colab": {
     "autoexec": {
      "startup": false,
      "wait_interval": 0
     },
     "base_uri": "https://localhost:8080/",
     "height": 238
    },
    "colab_type": "code",
    "executionInfo": {
     "elapsed": 1087,
     "status": "ok",
     "timestamp": 1524881180184,
     "user": {
      "displayName": "shalabh yadu",
      "photoUrl": "//lh5.googleusercontent.com/-EBX7zy1ePA0/AAAAAAAAAAI/AAAAAAAAHiI/55c2GSudPJE/s50-c-k-no/photo.jpg",
      "userId": "101084161892560906162"
     },
     "user_tz": -330
    },
    "id": "tAviNisO_29i",
    "outputId": "1a0df67c-9d82-4f89-a1e9-775b5b7e437e"
   },
   "outputs": [
    {
     "name": "stdout",
     "output_type": "stream",
     "text": [
      "0\n",
      "0\n",
      "0\n",
      "0\n",
      "0\n",
      "0\n",
      "0\n",
      "0\n",
      "0\n",
      "0\n",
      "0\n",
      "0\n",
      "0\n"
     ]
    }
   ],
   "source": [
    "for i in full.columns:\n",
    "    print(sum(full[i].isnull()))"
   ]
  },
  {
   "cell_type": "code",
   "execution_count": 0,
   "metadata": {
    "colab": {
     "autoexec": {
      "startup": false,
      "wait_interval": 0
     }
    },
    "colab_type": "code",
    "collapsed": true,
    "id": "gwGGLO37ALIz"
   },
   "outputs": [],
   "source": [
    "#as we know that our region predictions cannot be accurate since random forest will not predict regions that were absent in train\n",
    "#make a new columns for assign 1 to columns where cabin no. was present 0 for missing this will provide information for present/absent data\n",
    "full['region_augmented'] = np.zeros(full.shape[0])\n",
    "full.iloc[np.array(region_df.index),13] = 1"
   ]
  },
  {
   "cell_type": "code",
   "execution_count": 70,
   "metadata": {
    "colab": {
     "autoexec": {
      "startup": false,
      "wait_interval": 0
     },
     "base_uri": "https://localhost:8080/",
     "height": 272
    },
    "colab_type": "code",
    "executionInfo": {
     "elapsed": 1942,
     "status": "ok",
     "timestamp": 1524881619756,
     "user": {
      "displayName": "shalabh yadu",
      "photoUrl": "//lh5.googleusercontent.com/-EBX7zy1ePA0/AAAAAAAAAAI/AAAAAAAAHiI/55c2GSudPJE/s50-c-k-no/photo.jpg",
      "userId": "101084161892560906162"
     },
     "user_tz": -330
    },
    "id": "GaeclLJ5A7S_",
    "outputId": "8d27b5bd-ddf8-497f-b806-eff6859d3053"
   },
   "outputs": [
    {
     "data": {
      "text/html": [
       "<div>\n",
       "<style scoped>\n",
       "    .dataframe tbody tr th:only-of-type {\n",
       "        vertical-align: middle;\n",
       "    }\n",
       "\n",
       "    .dataframe tbody tr th {\n",
       "        vertical-align: top;\n",
       "    }\n",
       "\n",
       "    .dataframe thead th {\n",
       "        text-align: right;\n",
       "    }\n",
       "</style>\n",
       "<table border=\"1\" class=\"dataframe\">\n",
       "  <thead>\n",
       "    <tr style=\"text-align: right;\">\n",
       "      <th></th>\n",
       "      <th>index</th>\n",
       "      <th>PassengerId</th>\n",
       "      <th>Pclass</th>\n",
       "      <th>Name</th>\n",
       "      <th>Sex</th>\n",
       "      <th>Age</th>\n",
       "      <th>SibSp</th>\n",
       "      <th>Parch</th>\n",
       "      <th>Ticket</th>\n",
       "      <th>Fare</th>\n",
       "      <th>Embarked</th>\n",
       "      <th>title</th>\n",
       "      <th>final_region</th>\n",
       "      <th>region_augmented</th>\n",
       "    </tr>\n",
       "  </thead>\n",
       "  <tbody>\n",
       "    <tr>\n",
       "      <th>0</th>\n",
       "      <td>0</td>\n",
       "      <td>1</td>\n",
       "      <td>3</td>\n",
       "      <td>Braund, Mr. Owen Harris</td>\n",
       "      <td>male</td>\n",
       "      <td>32.252151</td>\n",
       "      <td>1</td>\n",
       "      <td>0</td>\n",
       "      <td>A/5 21171</td>\n",
       "      <td>7.2500</td>\n",
       "      <td>S</td>\n",
       "      <td>Mr</td>\n",
       "      <td>41.0</td>\n",
       "      <td>0.0</td>\n",
       "    </tr>\n",
       "    <tr>\n",
       "      <th>1</th>\n",
       "      <td>1</td>\n",
       "      <td>2</td>\n",
       "      <td>1</td>\n",
       "      <td>Cumings, Mrs. John Bradley (Florence Briggs Th...</td>\n",
       "      <td>female</td>\n",
       "      <td>36.994118</td>\n",
       "      <td>1</td>\n",
       "      <td>0</td>\n",
       "      <td>PC 17599</td>\n",
       "      <td>71.2833</td>\n",
       "      <td>C</td>\n",
       "      <td>Mrs</td>\n",
       "      <td>20.0</td>\n",
       "      <td>1.0</td>\n",
       "    </tr>\n",
       "    <tr>\n",
       "      <th>2</th>\n",
       "      <td>2</td>\n",
       "      <td>3</td>\n",
       "      <td>3</td>\n",
       "      <td>Heikkinen, Miss. Laina</td>\n",
       "      <td>female</td>\n",
       "      <td>21.774238</td>\n",
       "      <td>0</td>\n",
       "      <td>0</td>\n",
       "      <td>STON/O2. 3101282</td>\n",
       "      <td>7.9250</td>\n",
       "      <td>S</td>\n",
       "      <td>Miss</td>\n",
       "      <td>33.0</td>\n",
       "      <td>0.0</td>\n",
       "    </tr>\n",
       "    <tr>\n",
       "      <th>3</th>\n",
       "      <td>3</td>\n",
       "      <td>4</td>\n",
       "      <td>1</td>\n",
       "      <td>Futrelle, Mrs. Jacques Heath (Lily May Peel)</td>\n",
       "      <td>female</td>\n",
       "      <td>36.994118</td>\n",
       "      <td>1</td>\n",
       "      <td>0</td>\n",
       "      <td>113803</td>\n",
       "      <td>53.1000</td>\n",
       "      <td>S</td>\n",
       "      <td>Mrs</td>\n",
       "      <td>22.0</td>\n",
       "      <td>1.0</td>\n",
       "    </tr>\n",
       "    <tr>\n",
       "      <th>4</th>\n",
       "      <td>4</td>\n",
       "      <td>5</td>\n",
       "      <td>3</td>\n",
       "      <td>Allen, Mr. William Henry</td>\n",
       "      <td>male</td>\n",
       "      <td>32.252151</td>\n",
       "      <td>0</td>\n",
       "      <td>0</td>\n",
       "      <td>373450</td>\n",
       "      <td>8.0500</td>\n",
       "      <td>S</td>\n",
       "      <td>Mr</td>\n",
       "      <td>33.0</td>\n",
       "      <td>0.0</td>\n",
       "    </tr>\n",
       "  </tbody>\n",
       "</table>\n",
       "</div>"
      ],
      "text/plain": [
       "   index  PassengerId  Pclass  \\\n",
       "0      0            1       3   \n",
       "1      1            2       1   \n",
       "2      2            3       3   \n",
       "3      3            4       1   \n",
       "4      4            5       3   \n",
       "\n",
       "                                                Name     Sex        Age  \\\n",
       "0                            Braund, Mr. Owen Harris    male  32.252151   \n",
       "1  Cumings, Mrs. John Bradley (Florence Briggs Th...  female  36.994118   \n",
       "2                             Heikkinen, Miss. Laina  female  21.774238   \n",
       "3       Futrelle, Mrs. Jacques Heath (Lily May Peel)  female  36.994118   \n",
       "4                           Allen, Mr. William Henry    male  32.252151   \n",
       "\n",
       "   SibSp  Parch            Ticket     Fare Embarked  title  final_region  \\\n",
       "0      1      0         A/5 21171   7.2500        S     Mr          41.0   \n",
       "1      1      0          PC 17599  71.2833        C    Mrs          20.0   \n",
       "2      0      0  STON/O2. 3101282   7.9250        S   Miss          33.0   \n",
       "3      1      0            113803  53.1000        S    Mrs          22.0   \n",
       "4      0      0            373450   8.0500        S     Mr          33.0   \n",
       "\n",
       "   region_augmented  \n",
       "0               0.0  \n",
       "1               1.0  \n",
       "2               0.0  \n",
       "3               1.0  \n",
       "4               0.0  "
      ]
     },
     "execution_count": 70,
     "metadata": {
      "tags": []
     },
     "output_type": "execute_result"
    }
   ],
   "source": [
    "\n",
    "full.head()"
   ]
  },
  {
   "cell_type": "code",
   "execution_count": 51,
   "metadata": {
    "colab": {
     "autoexec": {
      "startup": false,
      "wait_interval": 0
     },
     "base_uri": "https://localhost:8080/",
     "height": 3196
    },
    "colab_type": "code",
    "executionInfo": {
     "elapsed": 2232,
     "status": "ok",
     "timestamp": 1524817741115,
     "user": {
      "displayName": "shalabh yadu",
      "photoUrl": "//lh5.googleusercontent.com/-EBX7zy1ePA0/AAAAAAAAAAI/AAAAAAAAHiI/55c2GSudPJE/s50-c-k-no/photo.jpg",
      "userId": "101084161892560906162"
     },
     "user_tz": -330
    },
    "id": "W37aXPZKqFsH",
    "outputId": "351cbf03-22b4-4bab-83b2-f66b986ca4bb"
   },
   "outputs": [
    {
     "data": {
      "text/plain": [
       "{'A10',\n",
       " 'A11',\n",
       " 'A14',\n",
       " 'A16',\n",
       " 'A18',\n",
       " 'A19',\n",
       " 'A20',\n",
       " 'A21',\n",
       " 'A23',\n",
       " 'A24',\n",
       " 'A26',\n",
       " 'A29',\n",
       " 'A31',\n",
       " 'A32',\n",
       " 'A34',\n",
       " 'A36',\n",
       " 'A5',\n",
       " 'A6',\n",
       " 'A7',\n",
       " 'A9',\n",
       " 'B10',\n",
       " 'B101',\n",
       " 'B102',\n",
       " 'B11',\n",
       " 'B18',\n",
       " 'B19',\n",
       " 'B20',\n",
       " 'B22',\n",
       " 'B24',\n",
       " 'B26',\n",
       " 'B28',\n",
       " 'B3',\n",
       " 'B30',\n",
       " 'B35',\n",
       " 'B36',\n",
       " 'B37',\n",
       " 'B38',\n",
       " 'B39',\n",
       " 'B4',\n",
       " 'B41',\n",
       " 'B42',\n",
       " 'B45',\n",
       " 'B49',\n",
       " 'B5',\n",
       " 'B50',\n",
       " 'B51 B53 B55',\n",
       " 'B52 B54 B56',\n",
       " 'B57 B59 B63 B66',\n",
       " 'B58 B60',\n",
       " 'B61',\n",
       " 'B69',\n",
       " 'B71',\n",
       " 'B73',\n",
       " 'B77',\n",
       " 'B78',\n",
       " 'B79',\n",
       " 'B80',\n",
       " 'B82 B84',\n",
       " 'B86',\n",
       " 'B94',\n",
       " 'B96 B98',\n",
       " 'C101',\n",
       " 'C103',\n",
       " 'C104',\n",
       " 'C105',\n",
       " 'C106',\n",
       " 'C110',\n",
       " 'C111',\n",
       " 'C116',\n",
       " 'C118',\n",
       " 'C123',\n",
       " 'C124',\n",
       " 'C125',\n",
       " 'C126',\n",
       " 'C128',\n",
       " 'C130',\n",
       " 'C132',\n",
       " 'C148',\n",
       " 'C2',\n",
       " 'C22 C26',\n",
       " 'C23 C25 C27',\n",
       " 'C28',\n",
       " 'C30',\n",
       " 'C31',\n",
       " 'C32',\n",
       " 'C39',\n",
       " 'C45',\n",
       " 'C46',\n",
       " 'C47',\n",
       " 'C49',\n",
       " 'C50',\n",
       " 'C51',\n",
       " 'C52',\n",
       " 'C53',\n",
       " 'C54',\n",
       " 'C55 C57',\n",
       " 'C6',\n",
       " 'C62 C64',\n",
       " 'C65',\n",
       " 'C68',\n",
       " 'C7',\n",
       " 'C70',\n",
       " 'C78',\n",
       " 'C80',\n",
       " 'C82',\n",
       " 'C83',\n",
       " 'C85',\n",
       " 'C86',\n",
       " 'C87',\n",
       " 'C89',\n",
       " 'C90',\n",
       " 'C91',\n",
       " 'C92',\n",
       " 'C93',\n",
       " 'C95',\n",
       " 'C97',\n",
       " 'C99',\n",
       " 'D',\n",
       " 'D10 D12',\n",
       " 'D11',\n",
       " 'D15',\n",
       " 'D17',\n",
       " 'D19',\n",
       " 'D20',\n",
       " 'D21',\n",
       " 'D22',\n",
       " 'D26',\n",
       " 'D28',\n",
       " 'D30',\n",
       " 'D33',\n",
       " 'D34',\n",
       " 'D35',\n",
       " 'D36',\n",
       " 'D37',\n",
       " 'D38',\n",
       " 'D40',\n",
       " 'D43',\n",
       " 'D45',\n",
       " 'D46',\n",
       " 'D47',\n",
       " 'D48',\n",
       " 'D49',\n",
       " 'D50',\n",
       " 'D56',\n",
       " 'D6',\n",
       " 'D7',\n",
       " 'D9',\n",
       " 'E10',\n",
       " 'E101',\n",
       " 'E12',\n",
       " 'E121',\n",
       " 'E17',\n",
       " 'E24',\n",
       " 'E25',\n",
       " 'E31',\n",
       " 'E33',\n",
       " 'E34',\n",
       " 'E36',\n",
       " 'E38',\n",
       " 'E39 E41',\n",
       " 'E40',\n",
       " 'E44',\n",
       " 'E45',\n",
       " 'E46',\n",
       " 'E49',\n",
       " 'E50',\n",
       " 'E52',\n",
       " 'E58',\n",
       " 'E60',\n",
       " 'E63',\n",
       " 'E67',\n",
       " 'E68',\n",
       " 'E77',\n",
       " 'E8',\n",
       " 'F',\n",
       " 'F E46',\n",
       " 'F E57',\n",
       " 'F E69',\n",
       " 'F G63',\n",
       " 'F G73',\n",
       " 'F2',\n",
       " 'F33',\n",
       " 'F38',\n",
       " 'F4',\n",
       " 'G6',\n",
       " 'S',\n",
       " 'T'}"
      ]
     },
     "execution_count": 51,
     "metadata": {
      "tags": []
     },
     "output_type": "execute_result"
    }
   ],
   "source": [
    "set(full.iloc[:,10])"
   ]
  },
  {
   "cell_type": "code",
   "execution_count": 0,
   "metadata": {
    "colab": {
     "autoexec": {
      "startup": false,
      "wait_interval": 0
     }
    },
    "colab_type": "code",
    "collapsed": true,
    "id": "o2mTmEtOqolp"
   },
   "outputs": [],
   "source": [
    "import lightgbm as lgb "
   ]
  },
  {
   "cell_type": "code",
   "execution_count": 50,
   "metadata": {
    "colab": {
     "autoexec": {
      "startup": false,
      "wait_interval": 0
     },
     "base_uri": "https://localhost:8080/",
     "height": 34
    },
    "colab_type": "code",
    "executionInfo": {
     "elapsed": 1268,
     "status": "ok",
     "timestamp": 1524817727345,
     "user": {
      "displayName": "shalabh yadu",
      "photoUrl": "//lh5.googleusercontent.com/-EBX7zy1ePA0/AAAAAAAAAAI/AAAAAAAAHiI/55c2GSudPJE/s50-c-k-no/photo.jpg",
      "userId": "101084161892560906162"
     },
     "user_tz": -330
    },
    "id": "1jhaQREkrGql",
    "outputId": "9401c798-4a47-49dd-8df0-bd1d0fba2542"
   },
   "outputs": [
    {
     "data": {
      "text/plain": [
       "(891, 11)"
      ]
     },
     "execution_count": 50,
     "metadata": {
      "tags": []
     },
     "output_type": "execute_result"
    }
   ],
   "source": [
    "\n",
    "train.shape"
   ]
  },
  {
   "cell_type": "code",
   "execution_count": 73,
   "metadata": {
    "colab": {
     "autoexec": {
      "startup": false,
      "wait_interval": 0
     },
     "base_uri": "https://localhost:8080/",
     "height": 68
    },
    "colab_type": "code",
    "executionInfo": {
     "elapsed": 826,
     "status": "ok",
     "timestamp": 1524881658879,
     "user": {
      "displayName": "shalabh yadu",
      "photoUrl": "//lh5.googleusercontent.com/-EBX7zy1ePA0/AAAAAAAAAAI/AAAAAAAAHiI/55c2GSudPJE/s50-c-k-no/photo.jpg",
      "userId": "101084161892560906162"
     },
     "user_tz": -330
    },
    "id": "nY_Nurvq5TaQ",
    "outputId": "46888f71-7b79-4d39-b869-2cb9ffc2a6ed"
   },
   "outputs": [
    {
     "data": {
      "text/plain": [
       "Index(['index', 'Pclass', 'Name', 'Sex', 'Age', 'SibSp', 'Parch', 'Ticket',\n",
       "       'Fare', 'Embarked', 'title', 'final_region', 'region_augmented'],\n",
       "      dtype='object')"
      ]
     },
     "execution_count": 73,
     "metadata": {
      "tags": []
     },
     "output_type": "execute_result"
    }
   ],
   "source": [
    "full.drop('PassengerId',axis = 1, inplace = True)\n",
    "full.columns"
   ]
  },
  {
   "cell_type": "code",
   "execution_count": 0,
   "metadata": {
    "colab": {
     "autoexec": {
      "startup": false,
      "wait_interval": 0
     }
    },
    "colab_type": "code",
    "collapsed": true,
    "id": "cggF4lPJCOnK"
   },
   "outputs": [],
   "source": [
    "#encoding each column as lightgbm only takes numerical data\n",
    "from sklearn.preprocessing import LabelEncoder \n",
    "encode = LabelEncoder()\n",
    "for i in [ 'Name', 'Sex','Ticket', 'Embarked','title']:\n",
    "    full[i] = encode.fit_transform(full[i])"
   ]
  },
  {
   "cell_type": "code",
   "execution_count": 76,
   "metadata": {
    "colab": {
     "autoexec": {
      "startup": false,
      "wait_interval": 0
     },
     "base_uri": "https://localhost:8080/",
     "height": 408
    },
    "colab_type": "code",
    "executionInfo": {
     "elapsed": 966,
     "status": "ok",
     "timestamp": 1524881766008,
     "user": {
      "displayName": "shalabh yadu",
      "photoUrl": "//lh5.googleusercontent.com/-EBX7zy1ePA0/AAAAAAAAAAI/AAAAAAAAHiI/55c2GSudPJE/s50-c-k-no/photo.jpg",
      "userId": "101084161892560906162"
     },
     "user_tz": -330
    },
    "id": "eHyKUhjXqr1p",
    "outputId": "c9a6046b-efe6-4728-d81b-bfadc8896616"
   },
   "outputs": [
    {
     "name": "stdout",
     "output_type": "stream",
     "text": [
      "Start training...\n",
      "[1]\tvalid_0's auc: 0.859649\n",
      "Training until validation scores don't improve for 5 rounds.\n",
      "[2]\tvalid_0's auc: 0.866615\n",
      "[3]\tvalid_0's auc: 0.867131\n",
      "[4]\tvalid_0's auc: 0.863777\n",
      "[5]\tvalid_0's auc: 0.859133\n",
      "[6]\tvalid_0's auc: 0.865583\n",
      "[7]\tvalid_0's auc: 0.871259\n",
      "[8]\tvalid_0's auc: 0.873323\n",
      "[9]\tvalid_0's auc: 0.876935\n",
      "[10]\tvalid_0's auc: 0.876935\n",
      "[11]\tvalid_0's auc: 0.881321\n",
      "[12]\tvalid_0's auc: 0.879257\n",
      "[13]\tvalid_0's auc: 0.881837\n",
      "[14]\tvalid_0's auc: 0.889577\n",
      "[15]\tvalid_0's auc: 0.885449\n",
      "[16]\tvalid_0's auc: 0.881321\n",
      "[17]\tvalid_0's auc: 0.882095\n",
      "[18]\tvalid_0's auc: 0.881063\n",
      "[19]\tvalid_0's auc: 0.878999\n",
      "Early stopping, best iteration is:\n",
      "[14]\tvalid_0's auc: 0.889577\n"
     ]
    }
   ],
   "source": [
    "lgb_train = lgb.Dataset(full[:800], y_train[:800])\n",
    "lgb_eval = lgb.Dataset(full[800:891], y_train[800:891], reference=lgb_train)\n",
    "\n",
    "#configurations\n",
    "params = {\n",
    "    'task': 'train',\n",
    "    'boosting_type': 'gbdt',\n",
    "    'objective': 'binary',\n",
    "    'metric': {'auc'},\n",
    "    'num_leaves': 31,\n",
    "    'learning_rate': 0.05,\n",
    "    'feature_fraction': 0.9,\n",
    "    'bagging_fraction': 0.8,\n",
    "    'bagging_freq': 5,\n",
    "    'verbose': 2\n",
    "}\n",
    "\n",
    "print('Start training...')\n",
    "#train\n",
    "gbm = lgb.train(params,\n",
    "                lgb_train,\n",
    "                num_boost_round=20,\n",
    "                valid_sets=lgb_eval,\n",
    "                early_stopping_rounds=5)"
   ]
  },
  {
   "cell_type": "code",
   "execution_count": 0,
   "metadata": {
    "colab": {
     "autoexec": {
      "startup": false,
      "wait_interval": 0
     }
    },
    "colab_type": "code",
    "collapsed": true,
    "id": "Q22TARHPsLHX"
   },
   "outputs": [],
   "source": [
    "sub = pd.read_csv('titanic/gender_submission.csv')"
   ]
  },
  {
   "cell_type": "code",
   "execution_count": 0,
   "metadata": {
    "colab": {
     "autoexec": {
      "startup": false,
      "wait_interval": 0
     }
    },
    "colab_type": "code",
    "collapsed": true,
    "id": "LzFPb9VYsu2B"
   },
   "outputs": [],
   "source": [
    "sub['Survived'] = gbm.predict(full[891:])"
   ]
  },
  {
   "cell_type": "code",
   "execution_count": 0,
   "metadata": {
    "colab": {
     "autoexec": {
      "startup": false,
      "wait_interval": 0
     }
    },
    "colab_type": "code",
    "collapsed": true,
    "id": "5zwagsLqs9Gd"
   },
   "outputs": [],
   "source": [
    "sub['Survived'] = sub['Survived'] > 0.5"
   ]
  },
  {
   "cell_type": "code",
   "execution_count": 0,
   "metadata": {
    "colab": {
     "autoexec": {
      "startup": false,
      "wait_interval": 0
     }
    },
    "colab_type": "code",
    "collapsed": true,
    "id": "VBqt3riruRxY"
   },
   "outputs": [],
   "source": [
    "sub['Survived'] =sub['Survived'].apply(int)"
   ]
  },
  {
   "cell_type": "code",
   "execution_count": 0,
   "metadata": {
    "colab": {
     "autoexec": {
      "startup": false,
      "wait_interval": 0
     }
    },
    "colab_type": "code",
    "collapsed": true,
    "id": "R3eQ5YRiurJz"
   },
   "outputs": [],
   "source": [
    "sub.to_csv('new_sub_newcol_lessregion.csv', index = False)"
   ]
  },
  {
   "cell_type": "code",
   "execution_count": 82,
   "metadata": {
    "colab": {
     "autoexec": {
      "startup": false,
      "wait_interval": 0
     },
     "base_uri": "https://localhost:8080/",
     "height": 34
    },
    "colab_type": "code",
    "executionInfo": {
     "elapsed": 3333,
     "status": "ok",
     "timestamp": 1524881845128,
     "user": {
      "displayName": "shalabh yadu",
      "photoUrl": "//lh5.googleusercontent.com/-EBX7zy1ePA0/AAAAAAAAAAI/AAAAAAAAHiI/55c2GSudPJE/s50-c-k-no/photo.jpg",
      "userId": "101084161892560906162"
     },
     "user_tz": -330
    },
    "id": "NXDcT2HGtXDq",
    "outputId": "ea956ca7-c0bb-44fd-9fc9-a5a8c279da2d"
   },
   "outputs": [
    {
     "name": "stdout",
     "output_type": "stream",
     "text": [
      "Successfully submitted to Titanic: Machine Learning from Disaster"
     ]
    }
   ],
   "source": [
    "#this submission gave accuracy 0.80861 and leaderboard rank 777 out of 11156"
   ]
  }
 ],
 "metadata": {
  "accelerator": "GPU",
  "colab": {
   "default_view": {},
   "name": "titanic2.ipynb",
   "provenance": [],
   "version": "0.3.2",
   "views": {}
  },
  "kernelspec": {
   "display_name": "Python 3",
   "language": "python",
   "name": "python3"
  },
  "language_info": {
   "codemirror_mode": {
    "name": "ipython",
    "version": 3
   },
   "file_extension": ".py",
   "mimetype": "text/x-python",
   "name": "python",
   "nbconvert_exporter": "python",
   "pygments_lexer": "ipython3",
   "version": "3.6.1"
  }
 },
 "nbformat": 4,
 "nbformat_minor": 1
}
