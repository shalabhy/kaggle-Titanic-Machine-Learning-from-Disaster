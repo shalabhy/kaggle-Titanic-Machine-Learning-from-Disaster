{
  "cells": [
    {
      "metadata": {
        "_cell_guid": "b1076dfc-b9ad-4769-8c92-a6c4dae69d19",
        "_uuid": "8f2839f25d086af736a60e9eeb907d3b93b6e0e5",
        "trusted": true
      },
      "cell_type": "code",
      "source": "# This Python 3 environment comes with many helpful analytics libraries installed\n# It is defined by the kaggle/python docker image: https://github.com/kaggle/docker-python\n# For example, here's several helpful packages to load in \n\nimport numpy as np # linear algebra\nimport pandas as pd # data processing, CSV file I/O (e.g. pd.read_csv)\n\n# Input data files are available in the \"../input/\" directory.\n# For example, running this (by clicking run or pressing Shift+Enter) will list the files in the input directory\n\nimport os\nprint(os.listdir(\"../input\"))\n\n# Any results you write to the current directory are saved as output.",
      "execution_count": 148,
      "outputs": [
        {
          "name": "stdout",
          "output_type": "stream",
          "text": "['train.csv', 'test.csv', 'gender_submission.csv']\n"
        }
      ]
    },
    {
      "metadata": {
        "_cell_guid": "79c7e3d0-c299-4dcb-8224-4455121ee9b0",
        "_uuid": "d629ff2d2480ee46fbb7e2d37f6b5fab8052498a",
        "collapsed": true,
        "trusted": true
      },
      "cell_type": "code",
      "source": "train = pd.read_csv(\"../input/train.csv\")\ntest = pd.read_csv(\"../input/test.csv\")\ngender = pd.read_csv(\"../input/gender_submission.csv\")",
      "execution_count": 149,
      "outputs": []
    },
    {
      "metadata": {
        "collapsed": true,
        "trusted": true,
        "_uuid": "d615f47a055e814ada8b31ae50b9d1210d9cf488"
      },
      "cell_type": "code",
      "source": "full = pd.concat([train,test])",
      "execution_count": 150,
      "outputs": []
    },
    {
      "metadata": {
        "collapsed": true,
        "trusted": true,
        "_uuid": "664147b915cd16e8b1e3674e4d322efc8b953e36"
      },
      "cell_type": "code",
      "source": "full[\"title\"] = (full[\"Name\"].apply(lambda x: x.split(\",\")[1])).apply(lambda x: x.split(\".\")[0])",
      "execution_count": 151,
      "outputs": []
    },
    {
      "metadata": {
        "trusted": true,
        "_uuid": "a430becaea96c250693f746b346cb11ad452b05d"
      },
      "cell_type": "code",
      "source": "full.title.hist()",
      "execution_count": 152,
      "outputs": [
        {
          "data": {
            "text/plain": "<matplotlib.axes._subplots.AxesSubplot at 0x7fbe108d3eb8>"
          },
          "execution_count": 152,
          "metadata": {},
          "output_type": "execute_result"
        },
        {
          "data": {
            "image/png": "[encoded data removed]",
            "text/plain": "<matplotlib.figure.Figure at 0x7fbe18e7dc88>"
          },
          "metadata": {},
          "output_type": "display_data"
        }
      ]
    },
    {
      "metadata": {
        "trusted": true,
        "_uuid": "ab023d3c80bc745147db892651cc8496734fed77"
      },
      "cell_type": "code",
      "source": "full.head()",
      "execution_count": 153,
      "outputs": [
        {
          "data": {
            "text/html": "<div>\n<style scoped>\n    .dataframe tbody tr th:only-of-type {\n        vertical-align: middle;\n    }\n\n    .dataframe tbody tr th {\n        vertical-align: top;\n    }\n\n    .dataframe thead th {\n        text-align: right;\n    }\n</style>\n<table border=\"1\" class=\"dataframe\">\n  <thead>\n    <tr style=\"text-align: right;\">\n      <th></th>\n      <th>Age</th>\n      <th>Cabin</th>\n      <th>Embarked</th>\n      <th>Fare</th>\n      <th>Name</th>\n      <th>Parch</th>\n      <th>PassengerId</th>\n      <th>Pclass</th>\n      <th>Sex</th>\n      <th>SibSp</th>\n      <th>Survived</th>\n      <th>Ticket</th>\n      <th>title</th>\n    </tr>\n  </thead>\n  <tbody>\n    <tr>\n      <th>0</th>\n      <td>22.0</td>\n      <td>NaN</td>\n      <td>S</td>\n      <td>7.2500</td>\n      <td>Braund, Mr. Owen Harris</td>\n      <td>0</td>\n      <td>1</td>\n      <td>3</td>\n      <td>male</td>\n      <td>1</td>\n      <td>0.0</td>\n      <td>A/5 21171</td>\n      <td>Mr</td>\n    </tr>\n    <tr>\n      <th>1</th>\n      <td>38.0</td>\n      <td>C85</td>\n      <td>C</td>\n      <td>71.2833</td>\n      <td>Cumings, Mrs. John Bradley (Florence Briggs Th...</td>\n      <td>0</td>\n      <td>2</td>\n      <td>1</td>\n      <td>female</td>\n      <td>1</td>\n      <td>1.0</td>\n      <td>PC 17599</td>\n      <td>Mrs</td>\n    </tr>\n    <tr>\n      <th>2</th>\n      <td>26.0</td>\n      <td>NaN</td>\n      <td>S</td>\n      <td>7.9250</td>\n      <td>Heikkinen, Miss. Laina</td>\n      <td>0</td>\n      <td>3</td>\n      <td>3</td>\n      <td>female</td>\n      <td>0</td>\n      <td>1.0</td>\n      <td>STON/O2. 3101282</td>\n      <td>Miss</td>\n    </tr>\n    <tr>\n      <th>3</th>\n      <td>35.0</td>\n      <td>C123</td>\n      <td>S</td>\n      <td>53.1000</td>\n      <td>Futrelle, Mrs. Jacques Heath (Lily May Peel)</td>\n      <td>0</td>\n      <td>4</td>\n      <td>1</td>\n      <td>female</td>\n      <td>1</td>\n      <td>1.0</td>\n      <td>113803</td>\n      <td>Mrs</td>\n    </tr>\n    <tr>\n      <th>4</th>\n      <td>35.0</td>\n      <td>NaN</td>\n      <td>S</td>\n      <td>8.0500</td>\n      <td>Allen, Mr. William Henry</td>\n      <td>0</td>\n      <td>5</td>\n      <td>3</td>\n      <td>male</td>\n      <td>0</td>\n      <td>0.0</td>\n      <td>373450</td>\n      <td>Mr</td>\n    </tr>\n  </tbody>\n</table>\n</div>",
            "text/plain": "    Age Cabin Embarked     Fare  \\\n0  22.0   NaN        S   7.2500   \n1  38.0   C85        C  71.2833   \n2  26.0   NaN        S   7.9250   \n3  35.0  C123        S  53.1000   \n4  35.0   NaN        S   8.0500   \n\n                                                Name  Parch  PassengerId  \\\n0                            Braund, Mr. Owen Harris      0            1   \n1  Cumings, Mrs. John Bradley (Florence Briggs Th...      0            2   \n2                             Heikkinen, Miss. Laina      0            3   \n3       Futrelle, Mrs. Jacques Heath (Lily May Peel)      0            4   \n4                           Allen, Mr. William Henry      0            5   \n\n   Pclass     Sex  SibSp  Survived            Ticket  title  \n0       3    male      1       0.0         A/5 21171     Mr  \n1       1  female      1       1.0          PC 17599    Mrs  \n2       3  female      0       1.0  STON/O2. 3101282   Miss  \n3       1  female      1       1.0            113803    Mrs  \n4       3    male      0       0.0            373450     Mr  "
          },
          "execution_count": 153,
          "metadata": {},
          "output_type": "execute_result"
        }
      ]
    },
    {
      "metadata": {
        "trusted": true,
        "_uuid": "86bce61ddc2e717c62958364eb6e98078d5bcfd8"
      },
      "cell_type": "code",
      "source": "print(\"percentage of missing cabin no.\",sum(full.Cabin.isnull())/full.Cabin.shape[0] * 100)",
      "execution_count": 154,
      "outputs": [
        {
          "name": "stdout",
          "output_type": "stream",
          "text": "percentage of missing cabin no. 77.46371275783041\n"
        }
      ]
    },
    {
      "metadata": {
        "collapsed": true,
        "trusted": true,
        "_uuid": "c164f1c6170f4f14d51e8ea5b8f222fbd12f8ed9"
      },
      "cell_type": "code",
      "source": "full[\"Cabin\"] = full.Cabin.fillna(\"missing\")",
      "execution_count": 155,
      "outputs": []
    },
    {
      "metadata": {
        "trusted": true,
        "_uuid": "187c381d4b2ee762facc048d65a2410852dc1743"
      },
      "cell_type": "code",
      "source": "for i in full.columns:\n    print(\"percentage of missing \",i ,sum(full[i].isnull())/full[i].shape[0] * 100)",
      "execution_count": 156,
      "outputs": [
        {
          "name": "stdout",
          "output_type": "stream",
          "text": "percentage of missing  Age 20.091673032849503\npercentage of missing  Cabin 0.0\npercentage of missing  Embarked 0.15278838808250572\npercentage of missing  Fare 0.07639419404125286\npercentage of missing  Name 0.0\npercentage of missing  Parch 0.0\npercentage of missing  PassengerId 0.0\npercentage of missing  Pclass 0.0\npercentage of missing  Sex 0.0\npercentage of missing  SibSp 0.0\npercentage of missing  Survived 31.932773109243694\npercentage of missing  Ticket 0.0\npercentage of missing  title 0.0\n"
        }
      ]
    },
    {
      "metadata": {
        "collapsed": true,
        "trusted": true,
        "_uuid": "ba4e5ba33d42da420e7e4a366829015975d7a613"
      },
      "cell_type": "code",
      "source": "full[\"Age\"] = full[\"Age\"].fillna(\"missingage\")\nfull[\"Embarked\"] = full[\"Embarked\"].fillna(\"not avail\")\nfull[\"Fare\"] = full[\"Fare\"].fillna(full[\"Fare\"].mean())",
      "execution_count": 157,
      "outputs": []
    },
    {
      "metadata": {
        "trusted": true,
        "_uuid": "65d9384e1687e3b67f5df846494d2df1e265e6ef"
      },
      "cell_type": "code",
      "source": "full.head(20)",
      "execution_count": 158,
      "outputs": [
        {
          "data": {
            "text/html": "<div>\n<style scoped>\n    .dataframe tbody tr th:only-of-type {\n        vertical-align: middle;\n    }\n\n    .dataframe tbody tr th {\n        vertical-align: top;\n    }\n\n    .dataframe thead th {\n        text-align: right;\n    }\n</style>\n<table border=\"1\" class=\"dataframe\">\n  <thead>\n    <tr style=\"text-align: right;\">\n      <th></th>\n      <th>Age</th>\n      <th>Cabin</th>\n      <th>Embarked</th>\n      <th>Fare</th>\n      <th>Name</th>\n      <th>Parch</th>\n      <th>PassengerId</th>\n      <th>Pclass</th>\n      <th>Sex</th>\n      <th>SibSp</th>\n      <th>Survived</th>\n      <th>Ticket</th>\n      <th>title</th>\n    </tr>\n  </thead>\n  <tbody>\n    <tr>\n      <th>0</th>\n      <td>22</td>\n      <td>missing</td>\n      <td>S</td>\n      <td>7.2500</td>\n      <td>Braund, Mr. Owen Harris</td>\n      <td>0</td>\n      <td>1</td>\n      <td>3</td>\n      <td>male</td>\n      <td>1</td>\n      <td>0.0</td>\n      <td>A/5 21171</td>\n      <td>Mr</td>\n    </tr>\n    <tr>\n      <th>1</th>\n      <td>38</td>\n      <td>C85</td>\n      <td>C</td>\n      <td>71.2833</td>\n      <td>Cumings, Mrs. John Bradley (Florence Briggs Th...</td>\n      <td>0</td>\n      <td>2</td>\n      <td>1</td>\n      <td>female</td>\n      <td>1</td>\n      <td>1.0</td>\n      <td>PC 17599</td>\n      <td>Mrs</td>\n    </tr>\n    <tr>\n      <th>2</th>\n      <td>26</td>\n      <td>missing</td>\n      <td>S</td>\n      <td>7.9250</td>\n      <td>Heikkinen, Miss. Laina</td>\n      <td>0</td>\n      <td>3</td>\n      <td>3</td>\n      <td>female</td>\n      <td>0</td>\n      <td>1.0</td>\n      <td>STON/O2. 3101282</td>\n      <td>Miss</td>\n    </tr>\n    <tr>\n      <th>3</th>\n      <td>35</td>\n      <td>C123</td>\n      <td>S</td>\n      <td>53.1000</td>\n      <td>Futrelle, Mrs. Jacques Heath (Lily May Peel)</td>\n      <td>0</td>\n      <td>4</td>\n      <td>1</td>\n      <td>female</td>\n      <td>1</td>\n      <td>1.0</td>\n      <td>113803</td>\n      <td>Mrs</td>\n    </tr>\n    <tr>\n      <th>4</th>\n      <td>35</td>\n      <td>missing</td>\n      <td>S</td>\n      <td>8.0500</td>\n      <td>Allen, Mr. William Henry</td>\n      <td>0</td>\n      <td>5</td>\n      <td>3</td>\n      <td>male</td>\n      <td>0</td>\n      <td>0.0</td>\n      <td>373450</td>\n      <td>Mr</td>\n    </tr>\n    <tr>\n      <th>5</th>\n      <td>missingage</td>\n      <td>missing</td>\n      <td>Q</td>\n      <td>8.4583</td>\n      <td>Moran, Mr. James</td>\n      <td>0</td>\n      <td>6</td>\n      <td>3</td>\n      <td>male</td>\n      <td>0</td>\n      <td>0.0</td>\n      <td>330877</td>\n      <td>Mr</td>\n    </tr>\n    <tr>\n      <th>6</th>\n      <td>54</td>\n      <td>E46</td>\n      <td>S</td>\n      <td>51.8625</td>\n      <td>McCarthy, Mr. Timothy J</td>\n      <td>0</td>\n      <td>7</td>\n      <td>1</td>\n      <td>male</td>\n      <td>0</td>\n      <td>0.0</td>\n      <td>17463</td>\n      <td>Mr</td>\n    </tr>\n    <tr>\n      <th>7</th>\n      <td>2</td>\n      <td>missing</td>\n      <td>S</td>\n      <td>21.0750</td>\n      <td>Palsson, Master. Gosta Leonard</td>\n      <td>1</td>\n      <td>8</td>\n      <td>3</td>\n      <td>male</td>\n      <td>3</td>\n      <td>0.0</td>\n      <td>349909</td>\n      <td>Master</td>\n    </tr>\n    <tr>\n      <th>8</th>\n      <td>27</td>\n      <td>missing</td>\n      <td>S</td>\n      <td>11.1333</td>\n      <td>Johnson, Mrs. Oscar W (Elisabeth Vilhelmina Berg)</td>\n      <td>2</td>\n      <td>9</td>\n      <td>3</td>\n      <td>female</td>\n      <td>0</td>\n      <td>1.0</td>\n      <td>347742</td>\n      <td>Mrs</td>\n    </tr>\n    <tr>\n      <th>9</th>\n      <td>14</td>\n      <td>missing</td>\n      <td>C</td>\n      <td>30.0708</td>\n      <td>Nasser, Mrs. Nicholas (Adele Achem)</td>\n      <td>0</td>\n      <td>10</td>\n      <td>2</td>\n      <td>female</td>\n      <td>1</td>\n      <td>1.0</td>\n      <td>237736</td>\n      <td>Mrs</td>\n    </tr>\n    <tr>\n      <th>10</th>\n      <td>4</td>\n      <td>G6</td>\n      <td>S</td>\n      <td>16.7000</td>\n      <td>Sandstrom, Miss. Marguerite Rut</td>\n      <td>1</td>\n      <td>11</td>\n      <td>3</td>\n      <td>female</td>\n      <td>1</td>\n      <td>1.0</td>\n      <td>PP 9549</td>\n      <td>Miss</td>\n    </tr>\n    <tr>\n      <th>11</th>\n      <td>58</td>\n      <td>C103</td>\n      <td>S</td>\n      <td>26.5500</td>\n      <td>Bonnell, Miss. Elizabeth</td>\n      <td>0</td>\n      <td>12</td>\n      <td>1</td>\n      <td>female</td>\n      <td>0</td>\n      <td>1.0</td>\n      <td>113783</td>\n      <td>Miss</td>\n    </tr>\n    <tr>\n      <th>12</th>\n      <td>20</td>\n      <td>missing</td>\n      <td>S</td>\n      <td>8.0500</td>\n      <td>Saundercock, Mr. William Henry</td>\n      <td>0</td>\n      <td>13</td>\n      <td>3</td>\n      <td>male</td>\n      <td>0</td>\n      <td>0.0</td>\n      <td>A/5. 2151</td>\n      <td>Mr</td>\n    </tr>\n    <tr>\n      <th>13</th>\n      <td>39</td>\n      <td>missing</td>\n      <td>S</td>\n      <td>31.2750</td>\n      <td>Andersson, Mr. Anders Johan</td>\n      <td>5</td>\n      <td>14</td>\n      <td>3</td>\n      <td>male</td>\n      <td>1</td>\n      <td>0.0</td>\n      <td>347082</td>\n      <td>Mr</td>\n    </tr>\n    <tr>\n      <th>14</th>\n      <td>14</td>\n      <td>missing</td>\n      <td>S</td>\n      <td>7.8542</td>\n      <td>Vestrom, Miss. Hulda Amanda Adolfina</td>\n      <td>0</td>\n      <td>15</td>\n      <td>3</td>\n      <td>female</td>\n      <td>0</td>\n      <td>0.0</td>\n      <td>350406</td>\n      <td>Miss</td>\n    </tr>\n    <tr>\n      <th>15</th>\n      <td>55</td>\n      <td>missing</td>\n      <td>S</td>\n      <td>16.0000</td>\n      <td>Hewlett, Mrs. (Mary D Kingcome)</td>\n      <td>0</td>\n      <td>16</td>\n      <td>2</td>\n      <td>female</td>\n      <td>0</td>\n      <td>1.0</td>\n      <td>248706</td>\n      <td>Mrs</td>\n    </tr>\n    <tr>\n      <th>16</th>\n      <td>2</td>\n      <td>missing</td>\n      <td>Q</td>\n      <td>29.1250</td>\n      <td>Rice, Master. Eugene</td>\n      <td>1</td>\n      <td>17</td>\n      <td>3</td>\n      <td>male</td>\n      <td>4</td>\n      <td>0.0</td>\n      <td>382652</td>\n      <td>Master</td>\n    </tr>\n    <tr>\n      <th>17</th>\n      <td>missingage</td>\n      <td>missing</td>\n      <td>S</td>\n      <td>13.0000</td>\n      <td>Williams, Mr. Charles Eugene</td>\n      <td>0</td>\n      <td>18</td>\n      <td>2</td>\n      <td>male</td>\n      <td>0</td>\n      <td>1.0</td>\n      <td>244373</td>\n      <td>Mr</td>\n    </tr>\n    <tr>\n      <th>18</th>\n      <td>31</td>\n      <td>missing</td>\n      <td>S</td>\n      <td>18.0000</td>\n      <td>Vander Planke, Mrs. Julius (Emelia Maria Vande...</td>\n      <td>0</td>\n      <td>19</td>\n      <td>3</td>\n      <td>female</td>\n      <td>1</td>\n      <td>0.0</td>\n      <td>345763</td>\n      <td>Mrs</td>\n    </tr>\n    <tr>\n      <th>19</th>\n      <td>missingage</td>\n      <td>missing</td>\n      <td>C</td>\n      <td>7.2250</td>\n      <td>Masselmani, Mrs. Fatima</td>\n      <td>0</td>\n      <td>20</td>\n      <td>3</td>\n      <td>female</td>\n      <td>0</td>\n      <td>1.0</td>\n      <td>2649</td>\n      <td>Mrs</td>\n    </tr>\n  </tbody>\n</table>\n</div>",
            "text/plain": "           Age    Cabin Embarked     Fare  \\\n0           22  missing        S   7.2500   \n1           38      C85        C  71.2833   \n2           26  missing        S   7.9250   \n3           35     C123        S  53.1000   \n4           35  missing        S   8.0500   \n5   missingage  missing        Q   8.4583   \n6           54      E46        S  51.8625   \n7            2  missing        S  21.0750   \n8           27  missing        S  11.1333   \n9           14  missing        C  30.0708   \n10           4       G6        S  16.7000   \n11          58     C103        S  26.5500   \n12          20  missing        S   8.0500   \n13          39  missing        S  31.2750   \n14          14  missing        S   7.8542   \n15          55  missing        S  16.0000   \n16           2  missing        Q  29.1250   \n17  missingage  missing        S  13.0000   \n18          31  missing        S  18.0000   \n19  missingage  missing        C   7.2250   \n\n                                                 Name  Parch  PassengerId  \\\n0                             Braund, Mr. Owen Harris      0            1   \n1   Cumings, Mrs. John Bradley (Florence Briggs Th...      0            2   \n2                              Heikkinen, Miss. Laina      0            3   \n3        Futrelle, Mrs. Jacques Heath (Lily May Peel)      0            4   \n4                            Allen, Mr. William Henry      0            5   \n5                                    Moran, Mr. James      0            6   \n6                             McCarthy, Mr. Timothy J      0            7   \n7                      Palsson, Master. Gosta Leonard      1            8   \n8   Johnson, Mrs. Oscar W (Elisabeth Vilhelmina Berg)      2            9   \n9                 Nasser, Mrs. Nicholas (Adele Achem)      0           10   \n10                    Sandstrom, Miss. Marguerite Rut      1           11   \n11                           Bonnell, Miss. Elizabeth      0           12   \n12                     Saundercock, Mr. William Henry      0           13   \n13                        Andersson, Mr. Anders Johan      5           14   \n14               Vestrom, Miss. Hulda Amanda Adolfina      0           15   \n15                   Hewlett, Mrs. (Mary D Kingcome)       0           16   \n16                               Rice, Master. Eugene      1           17   \n17                       Williams, Mr. Charles Eugene      0           18   \n18  Vander Planke, Mrs. Julius (Emelia Maria Vande...      0           19   \n19                            Masselmani, Mrs. Fatima      0           20   \n\n    Pclass     Sex  SibSp  Survived            Ticket    title  \n0        3    male      1       0.0         A/5 21171       Mr  \n1        1  female      1       1.0          PC 17599      Mrs  \n2        3  female      0       1.0  STON/O2. 3101282     Miss  \n3        1  female      1       1.0            113803      Mrs  \n4        3    male      0       0.0            373450       Mr  \n5        3    male      0       0.0            330877       Mr  \n6        1    male      0       0.0             17463       Mr  \n7        3    male      3       0.0            349909   Master  \n8        3  female      0       1.0            347742      Mrs  \n9        2  female      1       1.0            237736      Mrs  \n10       3  female      1       1.0           PP 9549     Miss  \n11       1  female      0       1.0            113783     Miss  \n12       3    male      0       0.0         A/5. 2151       Mr  \n13       3    male      1       0.0            347082       Mr  \n14       3  female      0       0.0            350406     Miss  \n15       2  female      0       1.0            248706      Mrs  \n16       3    male      4       0.0            382652   Master  \n17       2    male      0       1.0            244373       Mr  \n18       3  female      1       0.0            345763      Mrs  \n19       3  female      0       1.0              2649      Mrs  "
          },
          "execution_count": 158,
          "metadata": {},
          "output_type": "execute_result"
        }
      ]
    },
    {
      "metadata": {
        "collapsed": true,
        "trusted": true,
        "_uuid": "98a133c91e4f210075433574d397852e99c93bbf"
      },
      "cell_type": "code",
      "source": "full.drop(\"Survived\",axis = 1,inplace = True)\nfull.drop(\"Ticket\",axis = 1, inplace = True)\nfull.drop(\"Name\",axis = 1, inplace = True)\n",
      "execution_count": 159,
      "outputs": []
    },
    {
      "metadata": {
        "trusted": true,
        "_uuid": "0b8768e4607a5798108eefc315ba50c5cd9d6e0b"
      },
      "cell_type": "code",
      "source": "full.drop(\"PassengerId\",axis = 1, inplace = True)\nfull.head()",
      "execution_count": 160,
      "outputs": [
        {
          "data": {
            "text/html": "<div>\n<style scoped>\n    .dataframe tbody tr th:only-of-type {\n        vertical-align: middle;\n    }\n\n    .dataframe tbody tr th {\n        vertical-align: top;\n    }\n\n    .dataframe thead th {\n        text-align: right;\n    }\n</style>\n<table border=\"1\" class=\"dataframe\">\n  <thead>\n    <tr style=\"text-align: right;\">\n      <th></th>\n      <th>Age</th>\n      <th>Cabin</th>\n      <th>Embarked</th>\n      <th>Fare</th>\n      <th>Parch</th>\n      <th>Pclass</th>\n      <th>Sex</th>\n      <th>SibSp</th>\n      <th>title</th>\n    </tr>\n  </thead>\n  <tbody>\n    <tr>\n      <th>0</th>\n      <td>22</td>\n      <td>missing</td>\n      <td>S</td>\n      <td>7.2500</td>\n      <td>0</td>\n      <td>3</td>\n      <td>male</td>\n      <td>1</td>\n      <td>Mr</td>\n    </tr>\n    <tr>\n      <th>1</th>\n      <td>38</td>\n      <td>C85</td>\n      <td>C</td>\n      <td>71.2833</td>\n      <td>0</td>\n      <td>1</td>\n      <td>female</td>\n      <td>1</td>\n      <td>Mrs</td>\n    </tr>\n    <tr>\n      <th>2</th>\n      <td>26</td>\n      <td>missing</td>\n      <td>S</td>\n      <td>7.9250</td>\n      <td>0</td>\n      <td>3</td>\n      <td>female</td>\n      <td>0</td>\n      <td>Miss</td>\n    </tr>\n    <tr>\n      <th>3</th>\n      <td>35</td>\n      <td>C123</td>\n      <td>S</td>\n      <td>53.1000</td>\n      <td>0</td>\n      <td>1</td>\n      <td>female</td>\n      <td>1</td>\n      <td>Mrs</td>\n    </tr>\n    <tr>\n      <th>4</th>\n      <td>35</td>\n      <td>missing</td>\n      <td>S</td>\n      <td>8.0500</td>\n      <td>0</td>\n      <td>3</td>\n      <td>male</td>\n      <td>0</td>\n      <td>Mr</td>\n    </tr>\n  </tbody>\n</table>\n</div>",
            "text/plain": "  Age    Cabin Embarked     Fare  Parch  Pclass     Sex  SibSp  title\n0  22  missing        S   7.2500      0       3    male      1     Mr\n1  38      C85        C  71.2833      0       1  female      1    Mrs\n2  26  missing        S   7.9250      0       3  female      0   Miss\n3  35     C123        S  53.1000      0       1  female      1    Mrs\n4  35  missing        S   8.0500      0       3    male      0     Mr"
          },
          "execution_count": 160,
          "metadata": {},
          "output_type": "execute_result"
        }
      ]
    },
    {
      "metadata": {
        "collapsed": true,
        "trusted": true,
        "_uuid": "a0eed84ccb3be37bb07ea85944e3f74d7be32a2d"
      },
      "cell_type": "code",
      "source": "full[\"Age\"] = full[\"Age\"].apply(lambda x: str(x))",
      "execution_count": 161,
      "outputs": []
    },
    {
      "metadata": {
        "collapsed": true,
        "trusted": true,
        "_uuid": "e9479396b430ab9815de9f584fd23c479e13475c"
      },
      "cell_type": "code",
      "source": "full[\"Parch\"] = full[\"Parch\"].apply(lambda x: str(x))",
      "execution_count": 162,
      "outputs": []
    },
    {
      "metadata": {
        "collapsed": true,
        "trusted": true,
        "_uuid": "18281c9687a2490d5ff604dfe0219e35398fde35"
      },
      "cell_type": "code",
      "source": "full[\"Pclass\"] = full[\"Pclass\"].apply(lambda x: str(x))",
      "execution_count": 163,
      "outputs": []
    },
    {
      "metadata": {
        "collapsed": true,
        "trusted": true,
        "_uuid": "83ca586033a5bc2cb132eae09212f35a4bdefe2a"
      },
      "cell_type": "code",
      "source": "full[\"SibSp\"] = full[\"SibSp\"].apply(lambda x: str(x))",
      "execution_count": 164,
      "outputs": []
    },
    {
      "metadata": {
        "collapsed": true,
        "trusted": true,
        "_uuid": "1a1416b11a1ce115f051ef46d2595dbaad48f1b3"
      },
      "cell_type": "code",
      "source": "from sklearn.feature_extraction.text import CountVectorizer\nfrom scipy import sparse\ncv = CountVectorizer()\nx_age = cv.fit_transform(full[\"Age\"])\nx_cabin = cv.fit_transform(full[\"Cabin\"])\nx_embarked = cv.fit_transform(full[\"Embarked\"])\nx_sex = cv.fit_transform(full[\"Sex\"])\nx_title = cv.fit_transform(full[\"title\"])",
      "execution_count": 165,
      "outputs": []
    },
    {
      "metadata": {
        "trusted": true,
        "_uuid": "8e259aca3c00adfa5e5af7d7e259039de522c25a"
      },
      "cell_type": "code",
      "source": "from sklearn.preprocessing import OneHotEncoder\nencode = OneHotEncoder()\nx_parch = encode.fit_transform(full[\"Parch\"].reshape(-1,1))\nx_pclass = encode.fit_transform(full[\"Pclass\"].reshape(-1,1))\nx_sib = encode.fit_transform(full[\"SibSp\"].reshape(-1,1))",
      "execution_count": 166,
      "outputs": [
        {
          "name": "stderr",
          "output_type": "stream",
          "text": "/opt/conda/lib/python3.6/site-packages/ipykernel_launcher.py:3: FutureWarning: reshape is deprecated and will raise in a subsequent release. Please use .values.reshape(...) instead\n  This is separate from the ipykernel package so we can avoid doing imports until\n/opt/conda/lib/python3.6/site-packages/ipykernel_launcher.py:4: FutureWarning: reshape is deprecated and will raise in a subsequent release. Please use .values.reshape(...) instead\n  after removing the cwd from sys.path.\n/opt/conda/lib/python3.6/site-packages/ipykernel_launcher.py:5: FutureWarning: reshape is deprecated and will raise in a subsequent release. Please use .values.reshape(...) instead\n  \"\"\"\n"
        }
      ]
    },
    {
      "metadata": {
        "trusted": true,
        "_uuid": "3e3a2c8c77e8091a450b2470f437a2317088050a"
      },
      "cell_type": "code",
      "source": "from sklearn.preprocessing import StandardScaler\nsc = StandardScaler()\nx_fare = sc.fit_transform(full[\"Fare\"].reshape(-1,1))\nx_fare = sparse.csr_matrix(x_fare)",
      "execution_count": 167,
      "outputs": [
        {
          "name": "stderr",
          "output_type": "stream",
          "text": "/opt/conda/lib/python3.6/site-packages/ipykernel_launcher.py:3: FutureWarning: reshape is deprecated and will raise in a subsequent release. Please use .values.reshape(...) instead\n  This is separate from the ipykernel package so we can avoid doing imports until\n"
        }
      ]
    },
    {
      "metadata": {
        "collapsed": true,
        "trusted": true,
        "_uuid": "caf83100526bc59f61d17090cabbf8b284b6e850"
      },
      "cell_type": "code",
      "source": "x = sparse.hstack([x_age,x_cabin,x_embarked,x_sex,x_title,x_pclass,x_parch,x_sib,x_fare])\nx_train = x.tocsr()[:791,:]\nx_valid = x.tocsr()[791:891,:]\nx_test = x.tocsr()[891:,:] \ny_train = train[\"Survived\"][:791]\ny_valid = train[\"Survived\"][791:891]",
      "execution_count": 168,
      "outputs": []
    },
    {
      "metadata": {
        "collapsed": true,
        "trusted": true,
        "_uuid": "6131f3963511923c8895a81e6670cec8976a43b4"
      },
      "cell_type": "code",
      "source": "import lightgbm as lgb\ntrain_data = lgb.Dataset(x_train,label = y_train)\nvalid_data = lgb.Dataset(x_valid, label = y_valid)\n",
      "execution_count": 169,
      "outputs": []
    },
    {
      "metadata": {
        "trusted": true,
        "_uuid": "94d1dd2f17d023c8c768fa017813a74d65fc3d7b"
      },
      "cell_type": "code",
      "source": "params = {\n     'objective' :'binary',\n    'metric': 'binary_logloss',\n    'learning_rate' : 0.001,\n    'verbose' : 1,\n}\nmodel = lgb.train(params, train_data, valid_sets= valid_data, num_boost_round=300,early_stopping_rounds=20)",
      "execution_count": 170,
      "outputs": [
        {
          "name": "stdout",
          "output_type": "stream",
          "text": "[1]\tvalid_0's binary_logloss: 0.667941\nTraining until validation scores don't improve for 20 rounds.\n[2]\tvalid_0's binary_logloss: 0.645345\n[3]\tvalid_0's binary_logloss: 0.623362\n[4]\tvalid_0's binary_logloss: 0.604642\n[5]\tvalid_0's binary_logloss: 0.587317\n[6]\tvalid_0's binary_logloss: 0.570572\n[7]\tvalid_0's binary_logloss: 0.557407\n[8]\tvalid_0's binary_logloss: 0.543845\n[9]\tvalid_0's binary_logloss: 0.532472\n[10]\tvalid_0's binary_logloss: 0.521393\n[11]\tvalid_0's binary_logloss: 0.512351\n[12]\tvalid_0's binary_logloss: 0.503474\n[13]\tvalid_0's binary_logloss: 0.494513\n[14]\tvalid_0's binary_logloss: 0.487149\n[15]\tvalid_0's binary_logloss: 0.480095\n[16]\tvalid_0's binary_logloss: 0.47317\n[17]\tvalid_0's binary_logloss: 0.46712\n[18]\tvalid_0's binary_logloss: 0.461393\n[19]\tvalid_0's binary_logloss: 0.455655\n[20]\tvalid_0's binary_logloss: 0.450945\n[21]\tvalid_0's binary_logloss: 0.446421\n[22]\tvalid_0's binary_logloss: 0.441765\n[23]\tvalid_0's binary_logloss: 0.438423\n[24]\tvalid_0's binary_logloss: 0.43555\n[25]\tvalid_0's binary_logloss: 0.43171\n[26]\tvalid_0's binary_logloss: 0.429341\n[27]\tvalid_0's binary_logloss: 0.426342\n[28]\tvalid_0's binary_logloss: 0.423377\n[29]\tvalid_0's binary_logloss: 0.420747\n[30]\tvalid_0's binary_logloss: 0.418541\n[31]\tvalid_0's binary_logloss: 0.41517\n[32]\tvalid_0's binary_logloss: 0.413452\n[33]\tvalid_0's binary_logloss: 0.410942\n[34]\tvalid_0's binary_logloss: 0.409096\n[35]\tvalid_0's binary_logloss: 0.406878\n[36]\tvalid_0's binary_logloss: 0.405322\n[37]\tvalid_0's binary_logloss: 0.403606\n[38]\tvalid_0's binary_logloss: 0.40243\n[39]\tvalid_0's binary_logloss: 0.400992\n[40]\tvalid_0's binary_logloss: 0.40057\n[41]\tvalid_0's binary_logloss: 0.399182\n[42]\tvalid_0's binary_logloss: 0.397665\n[43]\tvalid_0's binary_logloss: 0.396984\n[44]\tvalid_0's binary_logloss: 0.395879\n[45]\tvalid_0's binary_logloss: 0.395358\n[46]\tvalid_0's binary_logloss: 0.394511\n[47]\tvalid_0's binary_logloss: 0.393094\n[48]\tvalid_0's binary_logloss: 0.391824\n[49]\tvalid_0's binary_logloss: 0.389897\n[50]\tvalid_0's binary_logloss: 0.388049\n[51]\tvalid_0's binary_logloss: 0.386578\n[52]\tvalid_0's binary_logloss: 0.385003\n[53]\tvalid_0's binary_logloss: 0.383282\n[54]\tvalid_0's binary_logloss: 0.382132\n[55]\tvalid_0's binary_logloss: 0.380129\n[56]\tvalid_0's binary_logloss: 0.378901\n[57]\tvalid_0's binary_logloss: 0.377979\n[58]\tvalid_0's binary_logloss: 0.376983\n[59]\tvalid_0's binary_logloss: 0.375495\n[60]\tvalid_0's binary_logloss: 0.374657\n[61]\tvalid_0's binary_logloss: 0.37451\n[62]\tvalid_0's binary_logloss: 0.373891\n[63]\tvalid_0's binary_logloss: 0.37381\n[64]\tvalid_0's binary_logloss: 0.374317\n[65]\tvalid_0's binary_logloss: 0.373913\n[66]\tvalid_0's binary_logloss: 0.373684\n[67]\tvalid_0's binary_logloss: 0.373739\n[68]\tvalid_0's binary_logloss: 0.373288\n[69]\tvalid_0's binary_logloss: 0.373929\n[70]\tvalid_0's binary_logloss: 0.373567\n[71]\tvalid_0's binary_logloss: 0.372592\n[72]\tvalid_0's binary_logloss: 0.372511\n[73]\tvalid_0's binary_logloss: 0.372174\n[74]\tvalid_0's binary_logloss: 0.371759\n[75]\tvalid_0's binary_logloss: 0.371499\n[76]\tvalid_0's binary_logloss: 0.371238\n[77]\tvalid_0's binary_logloss: 0.37072\n[78]\tvalid_0's binary_logloss: 0.373108\n[79]\tvalid_0's binary_logloss: 0.373693\n[80]\tvalid_0's binary_logloss: 0.374027\n[81]\tvalid_0's binary_logloss: 0.374222\n[82]\tvalid_0's binary_logloss: 0.37452\n[83]\tvalid_0's binary_logloss: 0.374302\n[84]\tvalid_0's binary_logloss: 0.376256\n[85]\tvalid_0's binary_logloss: 0.376409\n[86]\tvalid_0's binary_logloss: 0.377144\n[87]\tvalid_0's binary_logloss: 0.377085\n[88]\tvalid_0's binary_logloss: 0.378576\n[89]\tvalid_0's binary_logloss: 0.379631\n[90]\tvalid_0's binary_logloss: 0.380404\n[91]\tvalid_0's binary_logloss: 0.379792\n[92]\tvalid_0's binary_logloss: 0.380658\n[93]\tvalid_0's binary_logloss: 0.382269\n[94]\tvalid_0's binary_logloss: 0.382214\n[95]\tvalid_0's binary_logloss: 0.382093\n[96]\tvalid_0's binary_logloss: 0.382587\n[97]\tvalid_0's binary_logloss: 0.382394\nEarly stopping, best iteration is:\n[77]\tvalid_0's binary_logloss: 0.37072\n"
        }
      ]
    },
    {
      "metadata": {
        "collapsed": true,
        "trusted": true,
        "_uuid": "0cddc1341f79260c397f219de4a9f918a88dcc4f"
      },
      "cell_type": "code",
      "source": "pred = model.predict(x_test)",
      "execution_count": 171,
      "outputs": []
    },
    {
      "metadata": {
        "trusted": true,
        "_uuid": "b1e393ac1cee1e7b7c868fd9e577a6ec96a67712"
      },
      "cell_type": "code",
      "source": "gender[\"Survived\"] = pred >= 0.5\ngender[\"Survived\"] = gender[\"Survived\"].apply( lambda x : int(x))\ngender.head()",
      "execution_count": 172,
      "outputs": [
        {
          "data": {
            "text/html": "<div>\n<style scoped>\n    .dataframe tbody tr th:only-of-type {\n        vertical-align: middle;\n    }\n\n    .dataframe tbody tr th {\n        vertical-align: top;\n    }\n\n    .dataframe thead th {\n        text-align: right;\n    }\n</style>\n<table border=\"1\" class=\"dataframe\">\n  <thead>\n    <tr style=\"text-align: right;\">\n      <th></th>\n      <th>PassengerId</th>\n      <th>Survived</th>\n    </tr>\n  </thead>\n  <tbody>\n    <tr>\n      <th>0</th>\n      <td>892</td>\n      <td>0</td>\n    </tr>\n    <tr>\n      <th>1</th>\n      <td>893</td>\n      <td>1</td>\n    </tr>\n    <tr>\n      <th>2</th>\n      <td>894</td>\n      <td>0</td>\n    </tr>\n    <tr>\n      <th>3</th>\n      <td>895</td>\n      <td>0</td>\n    </tr>\n    <tr>\n      <th>4</th>\n      <td>896</td>\n      <td>1</td>\n    </tr>\n  </tbody>\n</table>\n</div>",
            "text/plain": "   PassengerId  Survived\n0          892         0\n1          893         1\n2          894         0\n3          895         0\n4          896         1"
          },
          "execution_count": 172,
          "metadata": {},
          "output_type": "execute_result"
        }
      ]
    },
    {
      "metadata": {
        "trusted": true,
        "_uuid": "76cfced2363d190422e02cfc49a7d3919a69911b"
      },
      "cell_type": "code",
      "source": "gender.to_csv(\"2_attempt.csv\", index = False)",
      "execution_count": 145,
      "outputs": [
        {
          "ename": "TypeError",
          "evalue": "'type' object is not subscriptable",
          "output_type": "error",
          "traceback": [
            "\u001b[0;31m---------------------------------------------------------------------------\u001b[0m",
            "\u001b[0;31mTypeError\u001b[0m                                 Traceback (most recent call last)",
            "\u001b[0;32m<ipython-input-145-edb14cfdd0c8>\u001b[0m in \u001b[0;36m<module>\u001b[0;34m()\u001b[0m\n\u001b[0;32m----> 1\u001b[0;31m \u001b[0mint\u001b[0m\u001b[0;34m[\u001b[0m\u001b[0mpred\u001b[0m \u001b[0;34m>=\u001b[0m \u001b[0;36m0.5\u001b[0m\u001b[0;34m]\u001b[0m\u001b[0;34m\u001b[0m\u001b[0m\n\u001b[0m",
            "\u001b[0;31mTypeError\u001b[0m: 'type' object is not subscriptable"
          ]
        }
      ]
    },
    {
      "metadata": {
        "collapsed": true,
        "trusted": true,
        "_uuid": "c18c1c1e283c726a1fdfb76f864349f5905cfaaf"
      },
      "cell_type": "code",
      "source": "",
      "execution_count": null,
      "outputs": []
    }
  ],
  "metadata": {
    "kernelspec": {
      "display_name": "Python 3",
      "language": "python",
      "name": "python3"
    },
    "language_info": {
      "codemirror_mode": {
        "name": "ipython",
        "version": 3
      },
      "file_extension": ".py",
      "mimetype": "text/x-python",
      "name": "python",
      "nbconvert_exporter": "python",
      "pygments_lexer": "ipython3",
      "version": "3.6.4"
    }
  },
  "nbformat": 4,
  "nbformat_minor": 1
}