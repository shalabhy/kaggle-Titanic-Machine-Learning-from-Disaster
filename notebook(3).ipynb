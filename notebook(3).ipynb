{
  "cells": [
    {
      "metadata": {
        "_cell_guid": "b1076dfc-b9ad-4769-8c92-a6c4dae69d19",
        "_uuid": "8f2839f25d086af736a60e9eeb907d3b93b6e0e5",
        "trusted": true
      },
      "cell_type": "code",
      "source": "# This Python 3 environment comes with many helpful analytics libraries installed\n# It is defined by the kaggle/python docker image: https://github.com/kaggle/docker-python\n# For example, here's several helpful packages to load in \n\nimport numpy as np # linear algebra\nimport pandas as pd # data processing, CSV file I/O (e.g. pd.read_csv)\n\n# Input data files are available in the \"../input/\" directory.\n# For example, running this (by clicking run or pressing Shift+Enter) will list the files in the input directory\n\nimport os\nprint(os.listdir(\"../input\"))\n\n# Any results you write to the current directory are saved as output.",
      "execution_count": 174,
      "outputs": [
        {
          "output_type": "stream",
          "text": "['train.csv', 'test.csv', 'gender_submission.csv']\n",
          "name": "stdout"
        }
      ]
    },
    {
      "metadata": {
        "_cell_guid": "79c7e3d0-c299-4dcb-8224-4455121ee9b0",
        "_uuid": "d629ff2d2480ee46fbb7e2d37f6b5fab8052498a",
        "collapsed": true,
        "trusted": true
      },
      "cell_type": "code",
      "source": "train = pd.read_csv(\"../input/train.csv\")\ntest = pd.read_csv(\"../input/test.csv\")\ngender = pd.read_csv(\"../input/gender_submission.csv\")",
      "execution_count": 175,
      "outputs": []
    },
    {
      "metadata": {
        "collapsed": true,
        "trusted": true,
        "_uuid": "eae36ba816b3501f84e1d5fb2dfb299359c2dc29"
      },
      "cell_type": "code",
      "source": "full = pd.concat([train,test])",
      "execution_count": 176,
      "outputs": []
    },
    {
      "metadata": {
        "collapsed": true,
        "trusted": true,
        "_uuid": "08daeee935ddaa14ce3e4c4c2f05fecf39185e1a"
      },
      "cell_type": "code",
      "source": "full[\"title\"] = (full[\"Name\"].apply(lambda x: x.split(\",\")[1])).apply(lambda x: x.split(\".\")[0])",
      "execution_count": 177,
      "outputs": []
    },
    {
      "metadata": {
        "trusted": true,
        "_uuid": "d40b5b6f4b8bf68036995f39369f05bf2d8c88bf"
      },
      "cell_type": "code",
      "source": "full.title.hist()",
      "execution_count": 178,
      "outputs": [
        {
          "output_type": "execute_result",
          "execution_count": 178,
          "data": {
            "text/plain": "<matplotlib.axes._subplots.AxesSubplot at 0x7fbe1078d828>"
          },
          "metadata": {}
        },
        {
          "output_type": "display_data",
          "data": {
            "text/plain": "<matplotlib.figure.Figure at 0x7fbe18e43eb8>",
            "image/png": "[encoded data removed]"
          },
          "metadata": {}
        }
      ]
    },
    {
      "metadata": {
        "trusted": true,
        "_uuid": "f561a9c09436dd685c66092feb0528ad51931a34"
      },
      "cell_type": "code",
      "source": "full.head()",
      "execution_count": 179,
      "outputs": [
        {
          "output_type": "execute_result",
          "execution_count": 179,
          "data": {
            "text/plain": "    Age Cabin Embarked     Fare  \\\n0  22.0   NaN        S   7.2500   \n1  38.0   C85        C  71.2833   \n2  26.0   NaN        S   7.9250   \n3  35.0  C123        S  53.1000   \n4  35.0   NaN        S   8.0500   \n\n                                                Name  Parch  PassengerId  \\\n0                            Braund, Mr. Owen Harris      0            1   \n1  Cumings, Mrs. John Bradley (Florence Briggs Th...      0            2   \n2                             Heikkinen, Miss. Laina      0            3   \n3       Futrelle, Mrs. Jacques Heath (Lily May Peel)      0            4   \n4                           Allen, Mr. William Henry      0            5   \n\n   Pclass     Sex  SibSp  Survived            Ticket  title  \n0       3    male      1       0.0         A/5 21171     Mr  \n1       1  female      1       1.0          PC 17599    Mrs  \n2       3  female      0       1.0  STON/O2. 3101282   Miss  \n3       1  female      1       1.0            113803    Mrs  \n4       3    male      0       0.0            373450     Mr  ",
            "text/html": "<div>\n<style scoped>\n    .dataframe tbody tr th:only-of-type {\n        vertical-align: middle;\n    }\n\n    .dataframe tbody tr th {\n        vertical-align: top;\n    }\n\n    .dataframe thead th {\n        text-align: right;\n    }\n</style>\n<table border=\"1\" class=\"dataframe\">\n  <thead>\n    <tr style=\"text-align: right;\">\n      <th></th>\n      <th>Age</th>\n      <th>Cabin</th>\n      <th>Embarked</th>\n      <th>Fare</th>\n      <th>Name</th>\n      <th>Parch</th>\n      <th>PassengerId</th>\n      <th>Pclass</th>\n      <th>Sex</th>\n      <th>SibSp</th>\n      <th>Survived</th>\n      <th>Ticket</th>\n      <th>title</th>\n    </tr>\n  </thead>\n  <tbody>\n    <tr>\n      <th>0</th>\n      <td>22.0</td>\n      <td>NaN</td>\n      <td>S</td>\n      <td>7.2500</td>\n      <td>Braund, Mr. Owen Harris</td>\n      <td>0</td>\n      <td>1</td>\n      <td>3</td>\n      <td>male</td>\n      <td>1</td>\n      <td>0.0</td>\n      <td>A/5 21171</td>\n      <td>Mr</td>\n    </tr>\n    <tr>\n      <th>1</th>\n      <td>38.0</td>\n      <td>C85</td>\n      <td>C</td>\n      <td>71.2833</td>\n      <td>Cumings, Mrs. John Bradley (Florence Briggs Th...</td>\n      <td>0</td>\n      <td>2</td>\n      <td>1</td>\n      <td>female</td>\n      <td>1</td>\n      <td>1.0</td>\n      <td>PC 17599</td>\n      <td>Mrs</td>\n    </tr>\n    <tr>\n      <th>2</th>\n      <td>26.0</td>\n      <td>NaN</td>\n      <td>S</td>\n      <td>7.9250</td>\n      <td>Heikkinen, Miss. Laina</td>\n      <td>0</td>\n      <td>3</td>\n      <td>3</td>\n      <td>female</td>\n      <td>0</td>\n      <td>1.0</td>\n      <td>STON/O2. 3101282</td>\n      <td>Miss</td>\n    </tr>\n    <tr>\n      <th>3</th>\n      <td>35.0</td>\n      <td>C123</td>\n      <td>S</td>\n      <td>53.1000</td>\n      <td>Futrelle, Mrs. Jacques Heath (Lily May Peel)</td>\n      <td>0</td>\n      <td>4</td>\n      <td>1</td>\n      <td>female</td>\n      <td>1</td>\n      <td>1.0</td>\n      <td>113803</td>\n      <td>Mrs</td>\n    </tr>\n    <tr>\n      <th>4</th>\n      <td>35.0</td>\n      <td>NaN</td>\n      <td>S</td>\n      <td>8.0500</td>\n      <td>Allen, Mr. William Henry</td>\n      <td>0</td>\n      <td>5</td>\n      <td>3</td>\n      <td>male</td>\n      <td>0</td>\n      <td>0.0</td>\n      <td>373450</td>\n      <td>Mr</td>\n    </tr>\n  </tbody>\n</table>\n</div>"
          },
          "metadata": {}
        }
      ]
    },
    {
      "metadata": {
        "trusted": true,
        "_uuid": "5e442adcade2def80115c19b2855bafab924fb69"
      },
      "cell_type": "code",
      "source": "print(\"percentage of missing cabin no.\",sum(full.Cabin.isnull())/full.Cabin.shape[0] * 100)",
      "execution_count": 180,
      "outputs": [
        {
          "output_type": "stream",
          "text": "percentage of missing cabin no. 77.46371275783041\n",
          "name": "stdout"
        }
      ]
    },
    {
      "metadata": {
        "collapsed": true,
        "trusted": true,
        "_uuid": "cd14b4a7f23baa8d625c0996e5f88cb0c448fb3d"
      },
      "cell_type": "code",
      "source": "full[\"Cabin\"] = full.Cabin.fillna(\"missing\")",
      "execution_count": 181,
      "outputs": []
    },
    {
      "metadata": {
        "trusted": true,
        "_uuid": "1debc9a431d8b93a50a93be3b30fa72bfc17b9d5"
      },
      "cell_type": "code",
      "source": "for i in full.columns:\n    print(\"percentage of missing \",i ,sum(full[i].isnull())/full[i].shape[0] * 100)",
      "execution_count": 182,
      "outputs": [
        {
          "output_type": "stream",
          "text": "percentage of missing  Age 20.091673032849503\npercentage of missing  Cabin 0.0\npercentage of missing  Embarked 0.15278838808250572\npercentage of missing  Fare 0.07639419404125286\npercentage of missing  Name 0.0\npercentage of missing  Parch 0.0\npercentage of missing  PassengerId 0.0\npercentage of missing  Pclass 0.0\npercentage of missing  Sex 0.0\npercentage of missing  SibSp 0.0\npercentage of missing  Survived 31.932773109243694\npercentage of missing  Ticket 0.0\npercentage of missing  title 0.0\n",
          "name": "stdout"
        }
      ]
    },
    {
      "metadata": {
        "collapsed": true,
        "trusted": true,
        "_uuid": "ad63fff8b72ad3e2a065201f00c1d04729da9cf1"
      },
      "cell_type": "code",
      "source": "full[\"Age\"] = full[\"Age\"].fillna(\"missingage\")\nfull[\"Embarked\"] = full[\"Embarked\"].fillna(\"not avail\")\nfull[\"Fare\"] = full[\"Fare\"].fillna(full[\"Fare\"].mean())",
      "execution_count": 183,
      "outputs": []
    },
    {
      "metadata": {
        "trusted": true,
        "_uuid": "a53e7ec3a68084a72d3b8b1bead0a7d088a28adf"
      },
      "cell_type": "code",
      "source": "",
      "execution_count": null,
      "outputs": []
    },
    {
      "metadata": {
        "collapsed": true,
        "trusted": true,
        "_uuid": "9c7d4b4e3976c707532626de3634bb6afd83ba08"
      },
      "cell_type": "code",
      "source": "full.drop(\"Survived\",axis = 1,inplace = True)\nfull.drop(\"Ticket\",axis = 1, inplace = True)\nfull.drop(\"Name\",axis = 1, inplace = True)\n",
      "execution_count": 184,
      "outputs": []
    },
    {
      "metadata": {
        "trusted": true,
        "_uuid": "3843d04ecddfdc255f2d9e5733f8cfb96bb04ec1"
      },
      "cell_type": "code",
      "source": "full.drop(\"PassengerId\",axis = 1, inplace = True)\nfull.head()",
      "execution_count": 185,
      "outputs": [
        {
          "output_type": "execute_result",
          "execution_count": 185,
          "data": {
            "text/plain": "  Age    Cabin Embarked     Fare  Parch  Pclass     Sex  SibSp  title\n0  22  missing        S   7.2500      0       3    male      1     Mr\n1  38      C85        C  71.2833      0       1  female      1    Mrs\n2  26  missing        S   7.9250      0       3  female      0   Miss\n3  35     C123        S  53.1000      0       1  female      1    Mrs\n4  35  missing        S   8.0500      0       3    male      0     Mr",
            "text/html": "<div>\n<style scoped>\n    .dataframe tbody tr th:only-of-type {\n        vertical-align: middle;\n    }\n\n    .dataframe tbody tr th {\n        vertical-align: top;\n    }\n\n    .dataframe thead th {\n        text-align: right;\n    }\n</style>\n<table border=\"1\" class=\"dataframe\">\n  <thead>\n    <tr style=\"text-align: right;\">\n      <th></th>\n      <th>Age</th>\n      <th>Cabin</th>\n      <th>Embarked</th>\n      <th>Fare</th>\n      <th>Parch</th>\n      <th>Pclass</th>\n      <th>Sex</th>\n      <th>SibSp</th>\n      <th>title</th>\n    </tr>\n  </thead>\n  <tbody>\n    <tr>\n      <th>0</th>\n      <td>22</td>\n      <td>missing</td>\n      <td>S</td>\n      <td>7.2500</td>\n      <td>0</td>\n      <td>3</td>\n      <td>male</td>\n      <td>1</td>\n      <td>Mr</td>\n    </tr>\n    <tr>\n      <th>1</th>\n      <td>38</td>\n      <td>C85</td>\n      <td>C</td>\n      <td>71.2833</td>\n      <td>0</td>\n      <td>1</td>\n      <td>female</td>\n      <td>1</td>\n      <td>Mrs</td>\n    </tr>\n    <tr>\n      <th>2</th>\n      <td>26</td>\n      <td>missing</td>\n      <td>S</td>\n      <td>7.9250</td>\n      <td>0</td>\n      <td>3</td>\n      <td>female</td>\n      <td>0</td>\n      <td>Miss</td>\n    </tr>\n    <tr>\n      <th>3</th>\n      <td>35</td>\n      <td>C123</td>\n      <td>S</td>\n      <td>53.1000</td>\n      <td>0</td>\n      <td>1</td>\n      <td>female</td>\n      <td>1</td>\n      <td>Mrs</td>\n    </tr>\n    <tr>\n      <th>4</th>\n      <td>35</td>\n      <td>missing</td>\n      <td>S</td>\n      <td>8.0500</td>\n      <td>0</td>\n      <td>3</td>\n      <td>male</td>\n      <td>0</td>\n      <td>Mr</td>\n    </tr>\n  </tbody>\n</table>\n</div>"
          },
          "metadata": {}
        }
      ]
    },
    {
      "metadata": {
        "collapsed": true,
        "trusted": true,
        "_uuid": "33e116bbaa3d3e9df26b7d2a512108d3ca1f2b82"
      },
      "cell_type": "code",
      "source": "full[\"Age\"] = full[\"Age\"].apply(lambda x: str(x))",
      "execution_count": 186,
      "outputs": []
    },
    {
      "metadata": {
        "collapsed": true,
        "trusted": true,
        "_uuid": "e15a321a16046fc21adc8cfd27abb64643a2c15e"
      },
      "cell_type": "code",
      "source": "full[\"Parch\"] = full[\"Parch\"].apply(lambda x: str(x))",
      "execution_count": 187,
      "outputs": []
    },
    {
      "metadata": {
        "collapsed": true,
        "trusted": true,
        "_uuid": "0b064d76f738e6f0e52e29afe2e46f9ac6677f63"
      },
      "cell_type": "code",
      "source": "full[\"Pclass\"] = full[\"Pclass\"].apply(lambda x: str(x))",
      "execution_count": 188,
      "outputs": []
    },
    {
      "metadata": {
        "collapsed": true,
        "trusted": true,
        "_uuid": "cf795593c5bcdfd5f123fed276016dfc9b416b04"
      },
      "cell_type": "code",
      "source": "full[\"SibSp\"] = full[\"SibSp\"].apply(lambda x: str(x))",
      "execution_count": 189,
      "outputs": []
    },
    {
      "metadata": {
        "collapsed": true,
        "trusted": true,
        "_uuid": "930c19fa0e78a2a0ea61bfaaacd74fb561f5d8c1"
      },
      "cell_type": "code",
      "source": "from sklearn.feature_extraction.text import CountVectorizer\nfrom scipy import sparse\ncv = CountVectorizer()\nx_age = cv.fit_transform(full[\"Age\"])\nx_cabin = cv.fit_transform(full[\"Cabin\"])\nx_embarked = cv.fit_transform(full[\"Embarked\"])\nx_sex = cv.fit_transform(full[\"Sex\"])\nx_title = cv.fit_transform(full[\"title\"])",
      "execution_count": 190,
      "outputs": []
    },
    {
      "metadata": {
        "trusted": true,
        "_uuid": "ead7325f8717f7215da8c3ecf16dc192f06fd217"
      },
      "cell_type": "code",
      "source": "from sklearn.preprocessing import OneHotEncoder\nencode = OneHotEncoder()\nx_parch = encode.fit_transform(full[\"Parch\"].reshape(-1,1))\nx_pclass = encode.fit_transform(full[\"Pclass\"].reshape(-1,1))\nx_sib = encode.fit_transform(full[\"SibSp\"].reshape(-1,1))",
      "execution_count": 191,
      "outputs": [
        {
          "output_type": "stream",
          "text": "/opt/conda/lib/python3.6/site-packages/ipykernel_launcher.py:3: FutureWarning: reshape is deprecated and will raise in a subsequent release. Please use .values.reshape(...) instead\n  This is separate from the ipykernel package so we can avoid doing imports until\n/opt/conda/lib/python3.6/site-packages/ipykernel_launcher.py:4: FutureWarning: reshape is deprecated and will raise in a subsequent release. Please use .values.reshape(...) instead\n  after removing the cwd from sys.path.\n/opt/conda/lib/python3.6/site-packages/ipykernel_launcher.py:5: FutureWarning: reshape is deprecated and will raise in a subsequent release. Please use .values.reshape(...) instead\n  \"\"\"\n",
          "name": "stderr"
        }
      ]
    },
    {
      "metadata": {
        "trusted": true,
        "_uuid": "e2123f47cb2ea2841851fa87985bc1973b8605e5"
      },
      "cell_type": "code",
      "source": "from sklearn.preprocessing import StandardScaler\nsc = StandardScaler()\nx_fare = sc.fit_transform(full[\"Fare\"].reshape(-1,1))\nx_fare = sparse.csr_matrix(x_fare)",
      "execution_count": 192,
      "outputs": [
        {
          "output_type": "stream",
          "text": "/opt/conda/lib/python3.6/site-packages/ipykernel_launcher.py:3: FutureWarning: reshape is deprecated and will raise in a subsequent release. Please use .values.reshape(...) instead\n  This is separate from the ipykernel package so we can avoid doing imports until\n",
          "name": "stderr"
        }
      ]
    },
    {
      "metadata": {
        "collapsed": true,
        "trusted": true,
        "_uuid": "90593364d1f75c851c3c8d979b713a7dab096356"
      },
      "cell_type": "code",
      "source": "x = sparse.hstack([x_age,x_cabin,x_embarked,x_sex,x_title,x_pclass,x_parch,x_sib,x_fare])\nx_train = x.tocsr()[:791,:]\nx_valid = x.tocsr()[791:891,:]\nx_test = x.tocsr()[891:,:] \ny_train = train[\"Survived\"][:791]\ny_valid = train[\"Survived\"][791:891]",
      "execution_count": 193,
      "outputs": []
    },
    {
      "metadata": {
        "collapsed": true,
        "trusted": true,
        "_uuid": "32ebc9807bcfc9164e7cbb2e4f7106f93a4f8306"
      },
      "cell_type": "code",
      "source": "import lightgbm as lgb\ntrain_data = lgb.Dataset(x_train,label = y_train)\nvalid_data = lgb.Dataset(x_valid, label = y_valid)\n",
      "execution_count": 194,
      "outputs": []
    },
    {
      "metadata": {
        "trusted": true,
        "_uuid": "32352ab632dc8560133f2f652adafda451b750fd"
      },
      "cell_type": "code",
      "source": "params = {\n     'objective' :'binary',\n    'metric': 'binary_logloss',\n    'learning_rate' : 0.001,\n    'verbose' : 1,\n}\nmodel = lgb.train(params, train_data, valid_sets= valid_data, num_boost_round=300,early_stopping_rounds=20)",
      "execution_count": 195,
      "outputs": [
        {
          "output_type": "stream",
          "text": "[1]\tvalid_0's binary_logloss: 0.69263\nTraining until validation scores don't improve for 20 rounds.\n[2]\tvalid_0's binary_logloss: 0.692114\n[3]\tvalid_0's binary_logloss: 0.691599\n[4]\tvalid_0's binary_logloss: 0.691085\n[5]\tvalid_0's binary_logloss: 0.690572\n[6]\tvalid_0's binary_logloss: 0.69006\n[7]\tvalid_0's binary_logloss: 0.689549\n[8]\tvalid_0's binary_logloss: 0.689039\n[9]\tvalid_0's binary_logloss: 0.68853\n[10]\tvalid_0's binary_logloss: 0.688023\n[11]\tvalid_0's binary_logloss: 0.687516\n[12]\tvalid_0's binary_logloss: 0.68701\n[13]\tvalid_0's binary_logloss: 0.686505\n[14]\tvalid_0's binary_logloss: 0.686002\n[15]\tvalid_0's binary_logloss: 0.685499\n[16]\tvalid_0's binary_logloss: 0.684997\n[17]\tvalid_0's binary_logloss: 0.684496\n[18]\tvalid_0's binary_logloss: 0.683997\n[19]\tvalid_0's binary_logloss: 0.683498\n[20]\tvalid_0's binary_logloss: 0.683\n[21]\tvalid_0's binary_logloss: 0.682503\n[22]\tvalid_0's binary_logloss: 0.682008\n[23]\tvalid_0's binary_logloss: 0.681513\n[24]\tvalid_0's binary_logloss: 0.681019\n[25]\tvalid_0's binary_logloss: 0.680526\n[26]\tvalid_0's binary_logloss: 0.680035\n[27]\tvalid_0's binary_logloss: 0.679544\n[28]\tvalid_0's binary_logloss: 0.679054\n[29]\tvalid_0's binary_logloss: 0.678565\n[30]\tvalid_0's binary_logloss: 0.678077\n[31]\tvalid_0's binary_logloss: 0.67759\n[32]\tvalid_0's binary_logloss: 0.677104\n[33]\tvalid_0's binary_logloss: 0.676619\n[34]\tvalid_0's binary_logloss: 0.676135\n[35]\tvalid_0's binary_logloss: 0.675652\n[36]\tvalid_0's binary_logloss: 0.67517\n[37]\tvalid_0's binary_logloss: 0.674689\n[38]\tvalid_0's binary_logloss: 0.674212\n[39]\tvalid_0's binary_logloss: 0.673736\n[40]\tvalid_0's binary_logloss: 0.673261\n[41]\tvalid_0's binary_logloss: 0.672783\n[42]\tvalid_0's binary_logloss: 0.67231\n[43]\tvalid_0's binary_logloss: 0.671838\n[44]\tvalid_0's binary_logloss: 0.671366\n[45]\tvalid_0's binary_logloss: 0.670896\n[46]\tvalid_0's binary_logloss: 0.670427\n[47]\tvalid_0's binary_logloss: 0.669958\n[48]\tvalid_0's binary_logloss: 0.66949\n[49]\tvalid_0's binary_logloss: 0.669024\n[50]\tvalid_0's binary_logloss: 0.668558\n[51]\tvalid_0's binary_logloss: 0.668093\n[52]\tvalid_0's binary_logloss: 0.667629\n[53]\tvalid_0's binary_logloss: 0.667166\n[54]\tvalid_0's binary_logloss: 0.666704\n[55]\tvalid_0's binary_logloss: 0.666243\n[56]\tvalid_0's binary_logloss: 0.665782\n[57]\tvalid_0's binary_logloss: 0.66532\n[58]\tvalid_0's binary_logloss: 0.664861\n[59]\tvalid_0's binary_logloss: 0.664404\n[60]\tvalid_0's binary_logloss: 0.663947\n[61]\tvalid_0's binary_logloss: 0.663491\n[62]\tvalid_0's binary_logloss: 0.663036\n[63]\tvalid_0's binary_logloss: 0.662582\n[64]\tvalid_0's binary_logloss: 0.662129\n[65]\tvalid_0's binary_logloss: 0.661677\n[66]\tvalid_0's binary_logloss: 0.661225\n[67]\tvalid_0's binary_logloss: 0.660775\n[68]\tvalid_0's binary_logloss: 0.660321\n[69]\tvalid_0's binary_logloss: 0.659872\n[70]\tvalid_0's binary_logloss: 0.659419\n[71]\tvalid_0's binary_logloss: 0.658972\n[72]\tvalid_0's binary_logloss: 0.658521\n[73]\tvalid_0's binary_logloss: 0.658068\n[74]\tvalid_0's binary_logloss: 0.657624\n[75]\tvalid_0's binary_logloss: 0.657175\n[76]\tvalid_0's binary_logloss: 0.656733\n[77]\tvalid_0's binary_logloss: 0.656286\n[78]\tvalid_0's binary_logloss: 0.655845\n[79]\tvalid_0's binary_logloss: 0.6554\n[80]\tvalid_0's binary_logloss: 0.654961\n[81]\tvalid_0's binary_logloss: 0.654518\n[82]\tvalid_0's binary_logloss: 0.65408\n[83]\tvalid_0's binary_logloss: 0.653639\n[84]\tvalid_0's binary_logloss: 0.653203\n[85]\tvalid_0's binary_logloss: 0.652763\n[86]\tvalid_0's binary_logloss: 0.652329\n[87]\tvalid_0's binary_logloss: 0.651864\n[88]\tvalid_0's binary_logloss: 0.651429\n[89]\tvalid_0's binary_logloss: 0.650966\n[90]\tvalid_0's binary_logloss: 0.650535\n[91]\tvalid_0's binary_logloss: 0.650074\n[92]\tvalid_0's binary_logloss: 0.649619\n[93]\tvalid_0's binary_logloss: 0.649183\n[94]\tvalid_0's binary_logloss: 0.648729\n[95]\tvalid_0's binary_logloss: 0.648271\n[96]\tvalid_0's binary_logloss: 0.647845\n[97]\tvalid_0's binary_logloss: 0.64739\n[98]\tvalid_0's binary_logloss: 0.646957\n[99]\tvalid_0's binary_logloss: 0.646508\n[100]\tvalid_0's binary_logloss: 0.646055\n[101]\tvalid_0's binary_logloss: 0.645633\n[102]\tvalid_0's binary_logloss: 0.645181\n[103]\tvalid_0's binary_logloss: 0.644735\n[104]\tvalid_0's binary_logloss: 0.644308\n[105]\tvalid_0's binary_logloss: 0.643864\n[106]\tvalid_0's binary_logloss: 0.643441\n[107]\tvalid_0's binary_logloss: 0.642998\n[108]\tvalid_0's binary_logloss: 0.642552\n[109]\tvalid_0's binary_logloss: 0.642133\n[110]\tvalid_0's binary_logloss: 0.641688\n[111]\tvalid_0's binary_logloss: 0.641249\n[112]\tvalid_0's binary_logloss: 0.640828\n[113]\tvalid_0's binary_logloss: 0.64039\n[114]\tvalid_0's binary_logloss: 0.639973\n[115]\tvalid_0's binary_logloss: 0.639537\n[116]\tvalid_0's binary_logloss: 0.639097\n[117]\tvalid_0's binary_logloss: 0.638685\n[118]\tvalid_0's binary_logloss: 0.638247\n[119]\tvalid_0's binary_logloss: 0.637814\n[120]\tvalid_0's binary_logloss: 0.637402\n[121]\tvalid_0's binary_logloss: 0.636966\n[122]\tvalid_0's binary_logloss: 0.636558\n[123]\tvalid_0's binary_logloss: 0.636124\n[124]\tvalid_0's binary_logloss: 0.635695\n[125]\tvalid_0's binary_logloss: 0.635287\n[126]\tvalid_0's binary_logloss: 0.63486\n[127]\tvalid_0's binary_logloss: 0.634453\n[128]\tvalid_0's binary_logloss: 0.634028\n[129]\tvalid_0's binary_logloss: 0.633598\n[130]\tvalid_0's binary_logloss: 0.633196\n[131]\tvalid_0's binary_logloss: 0.632768\n[132]\tvalid_0's binary_logloss: 0.632345\n[133]\tvalid_0's binary_logloss: 0.631941\n[134]\tvalid_0's binary_logloss: 0.63152\n[135]\tvalid_0's binary_logloss: 0.631119\n[136]\tvalid_0's binary_logloss: 0.6307\n[137]\tvalid_0's binary_logloss: 0.630276\n[138]\tvalid_0's binary_logloss: 0.629883\n[139]\tvalid_0's binary_logloss: 0.629461\n[140]\tvalid_0's binary_logloss: 0.62904\n[141]\tvalid_0's binary_logloss: 0.628646\n[142]\tvalid_0's binary_logloss: 0.628226\n[143]\tvalid_0's binary_logloss: 0.627837\n[144]\tvalid_0's binary_logloss: 0.627418\n[145]\tvalid_0's binary_logloss: 0.627006\n[146]\tvalid_0's binary_logloss: 0.626611\n[147]\tvalid_0's binary_logloss: 0.6262\n[148]\tvalid_0's binary_logloss: 0.625784\n[149]\tvalid_0's binary_logloss: 0.625397\n[150]\tvalid_0's binary_logloss: 0.624983\n[151]\tvalid_0's binary_logloss: 0.624596\n[152]\tvalid_0's binary_logloss: 0.624184\n[153]\tvalid_0's binary_logloss: 0.623777\n[154]\tvalid_0's binary_logloss: 0.623388\n[155]\tvalid_0's binary_logloss: 0.622983\n[156]\tvalid_0's binary_logloss: 0.622573\n[157]\tvalid_0's binary_logloss: 0.622206\n[158]\tvalid_0's binary_logloss: 0.621798\n[159]\tvalid_0's binary_logloss: 0.621417\n[160]\tvalid_0's binary_logloss: 0.621031\n[161]\tvalid_0's binary_logloss: 0.620625\n[162]\tvalid_0's binary_logloss: 0.620261\n[163]\tvalid_0's binary_logloss: 0.619857\n[164]\tvalid_0's binary_logloss: 0.619474\n[165]\tvalid_0's binary_logloss: 0.619101\n[166]\tvalid_0's binary_logloss: 0.618719\n[167]\tvalid_0's binary_logloss: 0.618338\n[168]\tvalid_0's binary_logloss: 0.617958\n[169]\tvalid_0's binary_logloss: 0.617558\n[170]\tvalid_0's binary_logloss: 0.617208\n[171]\tvalid_0's binary_logloss: 0.61681\n[172]\tvalid_0's binary_logloss: 0.616417\n[173]\tvalid_0's binary_logloss: 0.616072\n[174]\tvalid_0's binary_logloss: 0.615696\n[175]\tvalid_0's binary_logloss: 0.615332\n[176]\tvalid_0's binary_logloss: 0.614957\n[177]\tvalid_0's binary_logloss: 0.614563\n[178]\tvalid_0's binary_logloss: 0.614222\n[179]\tvalid_0's binary_logloss: 0.613829\n[180]\tvalid_0's binary_logloss: 0.613456\n[181]\tvalid_0's binary_logloss: 0.613097\n[182]\tvalid_0's binary_logloss: 0.612726\n[183]\tvalid_0's binary_logloss: 0.612368\n[184]\tvalid_0's binary_logloss: 0.611984\n[185]\tvalid_0's binary_logloss: 0.611614\n[186]\tvalid_0's binary_logloss: 0.611259\n[187]\tvalid_0's binary_logloss: 0.610891\n[188]\tvalid_0's binary_logloss: 0.610504\n[189]\tvalid_0's binary_logloss: 0.61017\n[190]\tvalid_0's binary_logloss: 0.609784\n[191]\tvalid_0's binary_logloss: 0.609451\n[192]\tvalid_0's binary_logloss: 0.609067\n[193]\tvalid_0's binary_logloss: 0.608704\n[194]\tvalid_0's binary_logloss: 0.608353\n[195]\tvalid_0's binary_logloss: 0.60799\n[196]\tvalid_0's binary_logloss: 0.607609\n[197]\tvalid_0's binary_logloss: 0.607265\n[198]\tvalid_0's binary_logloss: 0.606904\n[199]\tvalid_0's binary_logloss: 0.606576\n[200]\tvalid_0's binary_logloss: 0.606198\n[201]\tvalid_0's binary_logloss: 0.605839\n[202]\tvalid_0's binary_logloss: 0.605493\n[203]\tvalid_0's binary_logloss: 0.605136\n[204]\tvalid_0's binary_logloss: 0.60476\n[205]\tvalid_0's binary_logloss: 0.604436\n[206]\tvalid_0's binary_logloss: 0.604061\n[207]\tvalid_0's binary_logloss: 0.603738\n[208]\tvalid_0's binary_logloss: 0.603364\n[209]\tvalid_0's binary_logloss: 0.602996\n[210]\tvalid_0's binary_logloss: 0.602675\n[211]\tvalid_0's binary_logloss: 0.602323\n[212]\tvalid_0's binary_logloss: 0.601952\n[213]\tvalid_0's binary_logloss: 0.601632\n[214]\tvalid_0's binary_logloss: 0.601263\n[215]\tvalid_0's binary_logloss: 0.600925\n",
          "name": "stdout"
        },
        {
          "output_type": "stream",
          "text": "[216]\tvalid_0's binary_logloss: 0.600576\n[217]\tvalid_0's binary_logloss: 0.600208\n[218]\tvalid_0's binary_logloss: 0.599892\n[219]\tvalid_0's binary_logloss: 0.599525\n[220]\tvalid_0's binary_logloss: 0.599179\n[221]\tvalid_0's binary_logloss: 0.598845\n[222]\tvalid_0's binary_logloss: 0.598485\n[223]\tvalid_0's binary_logloss: 0.598172\n[224]\tvalid_0's binary_logloss: 0.597827\n[225]\tvalid_0's binary_logloss: 0.597465\n[226]\tvalid_0's binary_logloss: 0.597142\n[227]\tvalid_0's binary_logloss: 0.59678\n[228]\tvalid_0's binary_logloss: 0.596439\n[229]\tvalid_0's binary_logloss: 0.596098\n[230]\tvalid_0's binary_logloss: 0.595758\n[231]\tvalid_0's binary_logloss: 0.595429\n[232]\tvalid_0's binary_logloss: 0.59509\n[233]\tvalid_0's binary_logloss: 0.594733\n[234]\tvalid_0's binary_logloss: 0.5944\n[235]\tvalid_0's binary_logloss: 0.594062\n[236]\tvalid_0's binary_logloss: 0.593726\n[237]\tvalid_0's binary_logloss: 0.59339\n[238]\tvalid_0's binary_logloss: 0.593054\n[239]\tvalid_0's binary_logloss: 0.59272\n[240]\tvalid_0's binary_logloss: 0.592385\n[241]\tvalid_0's binary_logloss: 0.592032\n[242]\tvalid_0's binary_logloss: 0.591718\n[243]\tvalid_0's binary_logloss: 0.591367\n[244]\tvalid_0's binary_logloss: 0.591035\n[245]\tvalid_0's binary_logloss: 0.590715\n[246]\tvalid_0's binary_logloss: 0.590384\n[247]\tvalid_0's binary_logloss: 0.590054\n[248]\tvalid_0's binary_logloss: 0.58971\n[249]\tvalid_0's binary_logloss: 0.589381\n[250]\tvalid_0's binary_logloss: 0.589053\n[251]\tvalid_0's binary_logloss: 0.588725\n[252]\tvalid_0's binary_logloss: 0.588398\n[253]\tvalid_0's binary_logloss: 0.588071\n[254]\tvalid_0's binary_logloss: 0.587726\n[255]\tvalid_0's binary_logloss: 0.587431\n[256]\tvalid_0's binary_logloss: 0.587087\n[257]\tvalid_0's binary_logloss: 0.586763\n[258]\tvalid_0's binary_logloss: 0.586439\n[259]\tvalid_0's binary_logloss: 0.586102\n[260]\tvalid_0's binary_logloss: 0.585798\n[261]\tvalid_0's binary_logloss: 0.585476\n[262]\tvalid_0's binary_logloss: 0.585135\n[263]\tvalid_0's binary_logloss: 0.584833\n[264]\tvalid_0's binary_logloss: 0.584494\n[265]\tvalid_0's binary_logloss: 0.584174\n[266]\tvalid_0's binary_logloss: 0.583855\n[267]\tvalid_0's binary_logloss: 0.583536\n[268]\tvalid_0's binary_logloss: 0.583229\n[269]\tvalid_0's binary_logloss: 0.582911\n[270]\tvalid_0's binary_logloss: 0.582576\n[271]\tvalid_0's binary_logloss: 0.582278\n[272]\tvalid_0's binary_logloss: 0.581943\n[273]\tvalid_0's binary_logloss: 0.581614\n[274]\tvalid_0's binary_logloss: 0.581318\n[275]\tvalid_0's binary_logloss: 0.580985\n[276]\tvalid_0's binary_logloss: 0.58069\n[277]\tvalid_0's binary_logloss: 0.580358\n[278]\tvalid_0's binary_logloss: 0.580045\n[279]\tvalid_0's binary_logloss: 0.579733\n[280]\tvalid_0's binary_logloss: 0.579422\n[281]\tvalid_0's binary_logloss: 0.579092\n[282]\tvalid_0's binary_logloss: 0.5788\n[283]\tvalid_0's binary_logloss: 0.578471\n[284]\tvalid_0's binary_logloss: 0.578178\n[285]\tvalid_0's binary_logloss: 0.577869\n[286]\tvalid_0's binary_logloss: 0.577561\n[287]\tvalid_0's binary_logloss: 0.577253\n[288]\tvalid_0's binary_logloss: 0.576946\n[289]\tvalid_0's binary_logloss: 0.576621\n[290]\tvalid_0's binary_logloss: 0.576333\n[291]\tvalid_0's binary_logloss: 0.576009\n[292]\tvalid_0's binary_logloss: 0.575722\n[293]\tvalid_0's binary_logloss: 0.575399\n[294]\tvalid_0's binary_logloss: 0.575095\n[295]\tvalid_0's binary_logloss: 0.574791\n[296]\tvalid_0's binary_logloss: 0.574488\n[297]\tvalid_0's binary_logloss: 0.574168\n[298]\tvalid_0's binary_logloss: 0.57387\n[299]\tvalid_0's binary_logloss: 0.573569\n[300]\tvalid_0's binary_logloss: 0.573297\nDid not meet early stopping. Best iteration is:\n[300]\tvalid_0's binary_logloss: 0.573297\n",
          "name": "stdout"
        }
      ]
    },
    {
      "metadata": {
        "collapsed": true,
        "trusted": true,
        "_uuid": "706797e42f163b9dc0d88955a7045e62ea7e7a2e"
      },
      "cell_type": "code",
      "source": "pred = model.predict(x_test)",
      "execution_count": 196,
      "outputs": []
    },
    {
      "metadata": {
        "trusted": true,
        "_uuid": "887d073603384fc8ddb14b6e64dc47c09e9e5806"
      },
      "cell_type": "code",
      "source": "gender[\"Survived\"] = pred >= 0.5\ngender[\"Survived\"] = gender[\"Survived\"].apply( lambda x : int(x))\ngender.head()",
      "execution_count": 197,
      "outputs": [
        {
          "output_type": "execute_result",
          "execution_count": 197,
          "data": {
            "text/plain": "   PassengerId  Survived\n0          892         0\n1          893         1\n2          894         0\n3          895         0\n4          896         1",
            "text/html": "<div>\n<style scoped>\n    .dataframe tbody tr th:only-of-type {\n        vertical-align: middle;\n    }\n\n    .dataframe tbody tr th {\n        vertical-align: top;\n    }\n\n    .dataframe thead th {\n        text-align: right;\n    }\n</style>\n<table border=\"1\" class=\"dataframe\">\n  <thead>\n    <tr style=\"text-align: right;\">\n      <th></th>\n      <th>PassengerId</th>\n      <th>Survived</th>\n    </tr>\n  </thead>\n  <tbody>\n    <tr>\n      <th>0</th>\n      <td>892</td>\n      <td>0</td>\n    </tr>\n    <tr>\n      <th>1</th>\n      <td>893</td>\n      <td>1</td>\n    </tr>\n    <tr>\n      <th>2</th>\n      <td>894</td>\n      <td>0</td>\n    </tr>\n    <tr>\n      <th>3</th>\n      <td>895</td>\n      <td>0</td>\n    </tr>\n    <tr>\n      <th>4</th>\n      <td>896</td>\n      <td>1</td>\n    </tr>\n  </tbody>\n</table>\n</div>"
          },
          "metadata": {}
        }
      ]
    },
    {
      "metadata": {
        "trusted": true,
        "_uuid": "66ce285e8220978070e945c49ecfde927106ff7c"
      },
      "cell_type": "code",
      "source": "gender.to_csv(\"2_attempt.csv\", index = False)",
      "execution_count": 198,
      "outputs": []
    },
    {
      "metadata": {
        "collapsed": true,
        "trusted": true,
        "_uuid": "162395ab5fcb32d7d0c148670b54d0cd0c3709bf"
      },
      "cell_type": "code",
      "source": "",
      "execution_count": null,
      "outputs": []
    }
  ],
  "metadata": {
    "kernelspec": {
      "display_name": "Python 3",
      "language": "python",
      "name": "python3"
    },
    "language_info": {
      "name": "python",
      "version": "3.6.4",
      "mimetype": "text/x-python",
      "codemirror_mode": {
        "name": "ipython",
        "version": 3
      },
      "pygments_lexer": "ipython3",
      "nbconvert_exporter": "python",
      "file_extension": ".py"
    }
  },
  "nbformat": 4,
  "nbformat_minor": 1
}