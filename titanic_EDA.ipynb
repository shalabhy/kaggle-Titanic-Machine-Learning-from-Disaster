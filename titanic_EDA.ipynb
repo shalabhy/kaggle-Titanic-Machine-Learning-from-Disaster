{
 "cells": [
  {
   "cell_type": "code",
   "execution_count": 0,
   "metadata": {
    "colab": {
     "autoexec": {
      "startup": false,
      "wait_interval": 0
     }
    },
    "colab_type": "code",
    "collapsed": true,
    "id": "z6Vf_hHbTL7n"
   },
   "outputs": [],
   "source": [
    "import numpy as np \n",
    "import pandas as pd \n",
    "import matplotlib.pyplot as plt\n",
    "import seaborn as sns\n"
   ]
  },
  {
   "cell_type": "code",
   "execution_count": 0,
   "metadata": {
    "colab": {
     "autoexec": {
      "startup": false,
      "wait_interval": 0
     }
    },
    "colab_type": "code",
    "collapsed": true,
    "id": "Dy_4AOClTL-d"
   },
   "outputs": [],
   "source": [
    "train = pd.read_csv('titanic/train.csv')\n",
    "test = pd.read_csv('titanic/test.csv')\n"
   ]
  },
  {
   "cell_type": "code",
   "execution_count": 8,
   "metadata": {
    "colab": {
     "autoexec": {
      "startup": false,
      "wait_interval": 0
     },
     "base_uri": "https://localhost:8080/",
     "height": 204
    },
    "colab_type": "code",
    "executionInfo": {
     "elapsed": 1024,
     "status": "ok",
     "timestamp": 1524383671747,
     "user": {
      "displayName": "shalabh yadu",
      "photoUrl": "//lh5.googleusercontent.com/-EBX7zy1ePA0/AAAAAAAAAAI/AAAAAAAAHiI/55c2GSudPJE/s50-c-k-no/photo.jpg",
      "userId": "101084161892560906162"
     },
     "user_tz": -330
    },
    "id": "mo_unL6NVaiA",
    "outputId": "d45ab834-e191-48ef-8bf7-bf39b7e68b86"
   },
   "outputs": [
    {
     "data": {
      "text/html": [
       "<div>\n",
       "<style scoped>\n",
       "    .dataframe tbody tr th:only-of-type {\n",
       "        vertical-align: middle;\n",
       "    }\n",
       "\n",
       "    .dataframe tbody tr th {\n",
       "        vertical-align: top;\n",
       "    }\n",
       "\n",
       "    .dataframe thead th {\n",
       "        text-align: right;\n",
       "    }\n",
       "</style>\n",
       "<table border=\"1\" class=\"dataframe\">\n",
       "  <thead>\n",
       "    <tr style=\"text-align: right;\">\n",
       "      <th></th>\n",
       "      <th>PassengerId</th>\n",
       "      <th>Survived</th>\n",
       "      <th>Pclass</th>\n",
       "      <th>Name</th>\n",
       "      <th>Sex</th>\n",
       "      <th>Age</th>\n",
       "      <th>SibSp</th>\n",
       "      <th>Parch</th>\n",
       "      <th>Ticket</th>\n",
       "      <th>Fare</th>\n",
       "      <th>Cabin</th>\n",
       "      <th>Embarked</th>\n",
       "    </tr>\n",
       "  </thead>\n",
       "  <tbody>\n",
       "    <tr>\n",
       "      <th>0</th>\n",
       "      <td>1</td>\n",
       "      <td>0</td>\n",
       "      <td>3</td>\n",
       "      <td>Braund, Mr. Owen Harris</td>\n",
       "      <td>male</td>\n",
       "      <td>22.0</td>\n",
       "      <td>1</td>\n",
       "      <td>0</td>\n",
       "      <td>A/5 21171</td>\n",
       "      <td>7.2500</td>\n",
       "      <td>NaN</td>\n",
       "      <td>S</td>\n",
       "    </tr>\n",
       "    <tr>\n",
       "      <th>1</th>\n",
       "      <td>2</td>\n",
       "      <td>1</td>\n",
       "      <td>1</td>\n",
       "      <td>Cumings, Mrs. John Bradley (Florence Briggs Th...</td>\n",
       "      <td>female</td>\n",
       "      <td>38.0</td>\n",
       "      <td>1</td>\n",
       "      <td>0</td>\n",
       "      <td>PC 17599</td>\n",
       "      <td>71.2833</td>\n",
       "      <td>C85</td>\n",
       "      <td>C</td>\n",
       "    </tr>\n",
       "    <tr>\n",
       "      <th>2</th>\n",
       "      <td>3</td>\n",
       "      <td>1</td>\n",
       "      <td>3</td>\n",
       "      <td>Heikkinen, Miss. Laina</td>\n",
       "      <td>female</td>\n",
       "      <td>26.0</td>\n",
       "      <td>0</td>\n",
       "      <td>0</td>\n",
       "      <td>STON/O2. 3101282</td>\n",
       "      <td>7.9250</td>\n",
       "      <td>NaN</td>\n",
       "      <td>S</td>\n",
       "    </tr>\n",
       "    <tr>\n",
       "      <th>3</th>\n",
       "      <td>4</td>\n",
       "      <td>1</td>\n",
       "      <td>1</td>\n",
       "      <td>Futrelle, Mrs. Jacques Heath (Lily May Peel)</td>\n",
       "      <td>female</td>\n",
       "      <td>35.0</td>\n",
       "      <td>1</td>\n",
       "      <td>0</td>\n",
       "      <td>113803</td>\n",
       "      <td>53.1000</td>\n",
       "      <td>C123</td>\n",
       "      <td>S</td>\n",
       "    </tr>\n",
       "    <tr>\n",
       "      <th>4</th>\n",
       "      <td>5</td>\n",
       "      <td>0</td>\n",
       "      <td>3</td>\n",
       "      <td>Allen, Mr. William Henry</td>\n",
       "      <td>male</td>\n",
       "      <td>35.0</td>\n",
       "      <td>0</td>\n",
       "      <td>0</td>\n",
       "      <td>373450</td>\n",
       "      <td>8.0500</td>\n",
       "      <td>NaN</td>\n",
       "      <td>S</td>\n",
       "    </tr>\n",
       "  </tbody>\n",
       "</table>\n",
       "</div>"
      ],
      "text/plain": [
       "   PassengerId  Survived  Pclass  \\\n",
       "0            1         0       3   \n",
       "1            2         1       1   \n",
       "2            3         1       3   \n",
       "3            4         1       1   \n",
       "4            5         0       3   \n",
       "\n",
       "                                                Name     Sex   Age  SibSp  \\\n",
       "0                            Braund, Mr. Owen Harris    male  22.0      1   \n",
       "1  Cumings, Mrs. John Bradley (Florence Briggs Th...  female  38.0      1   \n",
       "2                             Heikkinen, Miss. Laina  female  26.0      0   \n",
       "3       Futrelle, Mrs. Jacques Heath (Lily May Peel)  female  35.0      1   \n",
       "4                           Allen, Mr. William Henry    male  35.0      0   \n",
       "\n",
       "   Parch            Ticket     Fare Cabin Embarked  \n",
       "0      0         A/5 21171   7.2500   NaN        S  \n",
       "1      0          PC 17599  71.2833   C85        C  \n",
       "2      0  STON/O2. 3101282   7.9250   NaN        S  \n",
       "3      0            113803  53.1000  C123        S  \n",
       "4      0            373450   8.0500   NaN        S  "
      ]
     },
     "execution_count": 8,
     "metadata": {
      "tags": []
     },
     "output_type": "execute_result"
    }
   ],
   "source": [
    "train.head()"
   ]
  },
  {
   "cell_type": "code",
   "execution_count": 9,
   "metadata": {
    "colab": {
     "autoexec": {
      "startup": false,
      "wait_interval": 0
     },
     "base_uri": "https://localhost:8080/",
     "height": 204
    },
    "colab_type": "code",
    "executionInfo": {
     "elapsed": 1597,
     "status": "ok",
     "timestamp": 1524383679227,
     "user": {
      "displayName": "shalabh yadu",
      "photoUrl": "//lh5.googleusercontent.com/-EBX7zy1ePA0/AAAAAAAAAAI/AAAAAAAAHiI/55c2GSudPJE/s50-c-k-no/photo.jpg",
      "userId": "101084161892560906162"
     },
     "user_tz": -330
    },
    "id": "tyBAH2hwViu0",
    "outputId": "a3a92a46-dcbd-44fc-d1a6-f246bb2f1de0"
   },
   "outputs": [
    {
     "data": {
      "text/html": [
       "<div>\n",
       "<style scoped>\n",
       "    .dataframe tbody tr th:only-of-type {\n",
       "        vertical-align: middle;\n",
       "    }\n",
       "\n",
       "    .dataframe tbody tr th {\n",
       "        vertical-align: top;\n",
       "    }\n",
       "\n",
       "    .dataframe thead th {\n",
       "        text-align: right;\n",
       "    }\n",
       "</style>\n",
       "<table border=\"1\" class=\"dataframe\">\n",
       "  <thead>\n",
       "    <tr style=\"text-align: right;\">\n",
       "      <th></th>\n",
       "      <th>PassengerId</th>\n",
       "      <th>Pclass</th>\n",
       "      <th>Name</th>\n",
       "      <th>Sex</th>\n",
       "      <th>Age</th>\n",
       "      <th>SibSp</th>\n",
       "      <th>Parch</th>\n",
       "      <th>Ticket</th>\n",
       "      <th>Fare</th>\n",
       "      <th>Cabin</th>\n",
       "      <th>Embarked</th>\n",
       "    </tr>\n",
       "  </thead>\n",
       "  <tbody>\n",
       "    <tr>\n",
       "      <th>0</th>\n",
       "      <td>892</td>\n",
       "      <td>3</td>\n",
       "      <td>Kelly, Mr. James</td>\n",
       "      <td>male</td>\n",
       "      <td>34.5</td>\n",
       "      <td>0</td>\n",
       "      <td>0</td>\n",
       "      <td>330911</td>\n",
       "      <td>7.8292</td>\n",
       "      <td>NaN</td>\n",
       "      <td>Q</td>\n",
       "    </tr>\n",
       "    <tr>\n",
       "      <th>1</th>\n",
       "      <td>893</td>\n",
       "      <td>3</td>\n",
       "      <td>Wilkes, Mrs. James (Ellen Needs)</td>\n",
       "      <td>female</td>\n",
       "      <td>47.0</td>\n",
       "      <td>1</td>\n",
       "      <td>0</td>\n",
       "      <td>363272</td>\n",
       "      <td>7.0000</td>\n",
       "      <td>NaN</td>\n",
       "      <td>S</td>\n",
       "    </tr>\n",
       "    <tr>\n",
       "      <th>2</th>\n",
       "      <td>894</td>\n",
       "      <td>2</td>\n",
       "      <td>Myles, Mr. Thomas Francis</td>\n",
       "      <td>male</td>\n",
       "      <td>62.0</td>\n",
       "      <td>0</td>\n",
       "      <td>0</td>\n",
       "      <td>240276</td>\n",
       "      <td>9.6875</td>\n",
       "      <td>NaN</td>\n",
       "      <td>Q</td>\n",
       "    </tr>\n",
       "    <tr>\n",
       "      <th>3</th>\n",
       "      <td>895</td>\n",
       "      <td>3</td>\n",
       "      <td>Wirz, Mr. Albert</td>\n",
       "      <td>male</td>\n",
       "      <td>27.0</td>\n",
       "      <td>0</td>\n",
       "      <td>0</td>\n",
       "      <td>315154</td>\n",
       "      <td>8.6625</td>\n",
       "      <td>NaN</td>\n",
       "      <td>S</td>\n",
       "    </tr>\n",
       "    <tr>\n",
       "      <th>4</th>\n",
       "      <td>896</td>\n",
       "      <td>3</td>\n",
       "      <td>Hirvonen, Mrs. Alexander (Helga E Lindqvist)</td>\n",
       "      <td>female</td>\n",
       "      <td>22.0</td>\n",
       "      <td>1</td>\n",
       "      <td>1</td>\n",
       "      <td>3101298</td>\n",
       "      <td>12.2875</td>\n",
       "      <td>NaN</td>\n",
       "      <td>S</td>\n",
       "    </tr>\n",
       "  </tbody>\n",
       "</table>\n",
       "</div>"
      ],
      "text/plain": [
       "   PassengerId  Pclass                                          Name     Sex  \\\n",
       "0          892       3                              Kelly, Mr. James    male   \n",
       "1          893       3              Wilkes, Mrs. James (Ellen Needs)  female   \n",
       "2          894       2                     Myles, Mr. Thomas Francis    male   \n",
       "3          895       3                              Wirz, Mr. Albert    male   \n",
       "4          896       3  Hirvonen, Mrs. Alexander (Helga E Lindqvist)  female   \n",
       "\n",
       "    Age  SibSp  Parch   Ticket     Fare Cabin Embarked  \n",
       "0  34.5      0      0   330911   7.8292   NaN        Q  \n",
       "1  47.0      1      0   363272   7.0000   NaN        S  \n",
       "2  62.0      0      0   240276   9.6875   NaN        Q  \n",
       "3  27.0      0      0   315154   8.6625   NaN        S  \n",
       "4  22.0      1      1  3101298  12.2875   NaN        S  "
      ]
     },
     "execution_count": 9,
     "metadata": {
      "tags": []
     },
     "output_type": "execute_result"
    }
   ],
   "source": [
    "test.head()"
   ]
  },
  {
   "cell_type": "code",
   "execution_count": 0,
   "metadata": {
    "colab": {
     "autoexec": {
      "startup": false,
      "wait_interval": 0
     }
    },
    "colab_type": "code",
    "collapsed": true,
    "id": "XqMOvHOkWPwV"
   },
   "outputs": [],
   "source": [
    "y_train = train['Survived']"
   ]
  },
  {
   "cell_type": "code",
   "execution_count": 0,
   "metadata": {
    "colab": {
     "autoexec": {
      "startup": false,
      "wait_interval": 0
     }
    },
    "colab_type": "code",
    "collapsed": true,
    "id": "2IHMFYrOapZo"
   },
   "outputs": [],
   "source": [
    "train.drop('Survived',axis = 1,inplace = True)"
   ]
  },
  {
   "cell_type": "code",
   "execution_count": 0,
   "metadata": {
    "colab": {
     "autoexec": {
      "startup": false,
      "wait_interval": 0
     }
    },
    "colab_type": "code",
    "collapsed": true,
    "id": "ZLVFKVmPawIa"
   },
   "outputs": [],
   "source": [
    "#merging both train and test data \n",
    "full = pd.concat([train,test])"
   ]
  },
  {
   "cell_type": "code",
   "execution_count": 0,
   "metadata": {
    "colab": {
     "autoexec": {
      "startup": false,
      "wait_interval": 0
     }
    },
    "colab_type": "code",
    "collapsed": true,
    "id": "JyNiGKAja9wI"
   },
   "outputs": [],
   "source": [
    "full = full.reset_index()"
   ]
  },
  {
   "cell_type": "code",
   "execution_count": 0,
   "metadata": {
    "colab": {
     "autoexec": {
      "startup": false,
      "wait_interval": 0
     }
    },
    "colab_type": "code",
    "collapsed": true,
    "id": "FcKHYtD0bsRY"
   },
   "outputs": [],
   "source": [
    "#funtion to separate a title from names\n",
    "def title(text):\n",
    "    a = text.split(',')\n",
    "    b = a[1].split('.')\n",
    "    return b[0]"
   ]
  },
  {
   "cell_type": "code",
   "execution_count": 0,
   "metadata": {
    "colab": {
     "autoexec": {
      "startup": false,
      "wait_interval": 0
     }
    },
    "colab_type": "code",
    "collapsed": true,
    "id": "0_GeuFX3cIMx"
   },
   "outputs": [],
   "source": [
    "#making a new column title \n",
    "full['title'] = full['Name'].apply(title)"
   ]
  },
  {
   "cell_type": "code",
   "execution_count": 68,
   "metadata": {
    "colab": {
     "autoexec": {
      "startup": false,
      "wait_interval": 0
     },
     "base_uri": "https://localhost:8080/",
     "height": 204
    },
    "colab_type": "code",
    "executionInfo": {
     "elapsed": 1617,
     "status": "ok",
     "timestamp": 1524391149883,
     "user": {
      "displayName": "shalabh yadu",
      "photoUrl": "//lh5.googleusercontent.com/-EBX7zy1ePA0/AAAAAAAAAAI/AAAAAAAAHiI/55c2GSudPJE/s50-c-k-no/photo.jpg",
      "userId": "101084161892560906162"
     },
     "user_tz": -330
    },
    "id": "DpPATZg0cLv9",
    "outputId": "fd8b1f3b-5a9c-4db1-9524-c7c39776a9f5"
   },
   "outputs": [
    {
     "data": {
      "text/html": [
       "<div>\n",
       "<style scoped>\n",
       "    .dataframe tbody tr th:only-of-type {\n",
       "        vertical-align: middle;\n",
       "    }\n",
       "\n",
       "    .dataframe tbody tr th {\n",
       "        vertical-align: top;\n",
       "    }\n",
       "\n",
       "    .dataframe thead th {\n",
       "        text-align: right;\n",
       "    }\n",
       "</style>\n",
       "<table border=\"1\" class=\"dataframe\">\n",
       "  <thead>\n",
       "    <tr style=\"text-align: right;\">\n",
       "      <th></th>\n",
       "      <th>index</th>\n",
       "      <th>PassengerId</th>\n",
       "      <th>Pclass</th>\n",
       "      <th>Name</th>\n",
       "      <th>Sex</th>\n",
       "      <th>Age</th>\n",
       "      <th>SibSp</th>\n",
       "      <th>Parch</th>\n",
       "      <th>Ticket</th>\n",
       "      <th>Fare</th>\n",
       "      <th>Cabin</th>\n",
       "      <th>Embarked</th>\n",
       "      <th>title</th>\n",
       "    </tr>\n",
       "  </thead>\n",
       "  <tbody>\n",
       "    <tr>\n",
       "      <th>1304</th>\n",
       "      <td>413</td>\n",
       "      <td>1305</td>\n",
       "      <td>3</td>\n",
       "      <td>Spector, Mr. Woolf</td>\n",
       "      <td>male</td>\n",
       "      <td>NaN</td>\n",
       "      <td>0</td>\n",
       "      <td>0</td>\n",
       "      <td>A.5. 3236</td>\n",
       "      <td>8.0500</td>\n",
       "      <td>NaN</td>\n",
       "      <td>S</td>\n",
       "      <td>Mr</td>\n",
       "    </tr>\n",
       "    <tr>\n",
       "      <th>1305</th>\n",
       "      <td>414</td>\n",
       "      <td>1306</td>\n",
       "      <td>1</td>\n",
       "      <td>Oliva y Ocana, Dona. Fermina</td>\n",
       "      <td>female</td>\n",
       "      <td>39.0</td>\n",
       "      <td>0</td>\n",
       "      <td>0</td>\n",
       "      <td>PC 17758</td>\n",
       "      <td>108.9000</td>\n",
       "      <td>C105</td>\n",
       "      <td>C</td>\n",
       "      <td>Dona</td>\n",
       "    </tr>\n",
       "    <tr>\n",
       "      <th>1306</th>\n",
       "      <td>415</td>\n",
       "      <td>1307</td>\n",
       "      <td>3</td>\n",
       "      <td>Saether, Mr. Simon Sivertsen</td>\n",
       "      <td>male</td>\n",
       "      <td>38.5</td>\n",
       "      <td>0</td>\n",
       "      <td>0</td>\n",
       "      <td>SOTON/O.Q. 3101262</td>\n",
       "      <td>7.2500</td>\n",
       "      <td>NaN</td>\n",
       "      <td>S</td>\n",
       "      <td>Mr</td>\n",
       "    </tr>\n",
       "    <tr>\n",
       "      <th>1307</th>\n",
       "      <td>416</td>\n",
       "      <td>1308</td>\n",
       "      <td>3</td>\n",
       "      <td>Ware, Mr. Frederick</td>\n",
       "      <td>male</td>\n",
       "      <td>NaN</td>\n",
       "      <td>0</td>\n",
       "      <td>0</td>\n",
       "      <td>359309</td>\n",
       "      <td>8.0500</td>\n",
       "      <td>NaN</td>\n",
       "      <td>S</td>\n",
       "      <td>Mr</td>\n",
       "    </tr>\n",
       "    <tr>\n",
       "      <th>1308</th>\n",
       "      <td>417</td>\n",
       "      <td>1309</td>\n",
       "      <td>3</td>\n",
       "      <td>Peter, Master. Michael J</td>\n",
       "      <td>male</td>\n",
       "      <td>NaN</td>\n",
       "      <td>1</td>\n",
       "      <td>1</td>\n",
       "      <td>2668</td>\n",
       "      <td>22.3583</td>\n",
       "      <td>NaN</td>\n",
       "      <td>C</td>\n",
       "      <td>Master</td>\n",
       "    </tr>\n",
       "  </tbody>\n",
       "</table>\n",
       "</div>"
      ],
      "text/plain": [
       "      index  PassengerId  Pclass                          Name     Sex   Age  \\\n",
       "1304    413         1305       3            Spector, Mr. Woolf    male   NaN   \n",
       "1305    414         1306       1  Oliva y Ocana, Dona. Fermina  female  39.0   \n",
       "1306    415         1307       3  Saether, Mr. Simon Sivertsen    male  38.5   \n",
       "1307    416         1308       3           Ware, Mr. Frederick    male   NaN   \n",
       "1308    417         1309       3      Peter, Master. Michael J    male   NaN   \n",
       "\n",
       "      SibSp  Parch              Ticket      Fare Cabin Embarked    title  \n",
       "1304      0      0           A.5. 3236    8.0500   NaN        S       Mr  \n",
       "1305      0      0            PC 17758  108.9000  C105        C     Dona  \n",
       "1306      0      0  SOTON/O.Q. 3101262    7.2500   NaN        S       Mr  \n",
       "1307      0      0              359309    8.0500   NaN        S       Mr  \n",
       "1308      1      1                2668   22.3583   NaN        C   Master  "
      ]
     },
     "execution_count": 68,
     "metadata": {
      "tags": []
     },
     "output_type": "execute_result"
    }
   ],
   "source": [
    "full.tail()"
   ]
  },
  {
   "cell_type": "code",
   "execution_count": 13,
   "metadata": {
    "colab": {
     "autoexec": {
      "startup": false,
      "wait_interval": 0
     },
     "base_uri": "https://localhost:8080/",
     "height": 238
    },
    "colab_type": "code",
    "executionInfo": {
     "elapsed": 3213,
     "status": "ok",
     "timestamp": 1524450420572,
     "user": {
      "displayName": "shalabh yadu",
      "photoUrl": "//lh5.googleusercontent.com/-EBX7zy1ePA0/AAAAAAAAAAI/AAAAAAAAHiI/55c2GSudPJE/s50-c-k-no/photo.jpg",
      "userId": "101084161892560906162"
     },
     "user_tz": -330
    },
    "id": "AqfJv4GVdP3t",
    "outputId": "84a0b85d-a1b2-4280-9233-c651eb2463d9"
   },
   "outputs": [
    {
     "name": "stdout",
     "output_type": "stream",
     "text": [
      "empty points in index column are 0 out of 1309\n",
      "empty points in PassengerId column are 0 out of 1309\n",
      "empty points in Pclass column are 0 out of 1309\n",
      "empty points in Name column are 0 out of 1309\n",
      "empty points in Sex column are 0 out of 1309\n",
      "empty points in Age column are 263 out of 1309\n",
      "empty points in SibSp column are 0 out of 1309\n",
      "empty points in Parch column are 0 out of 1309\n",
      "empty points in Ticket column are 0 out of 1309\n",
      "empty points in Fare column are 1 out of 1309\n",
      "empty points in Cabin column are 1014 out of 1309\n",
      "empty points in Embarked column are 2 out of 1309\n",
      "empty points in title column are 0 out of 1309\n"
     ]
    }
   ],
   "source": [
    "# identifying missing data \n",
    "for col in full.columns:\n",
    "  print(\"empty points in {} column are {} out of {}\".format(col,sum(full[col].isnull()),full.shape[0]))"
   ]
  },
  {
   "cell_type": "code",
   "execution_count": 67,
   "metadata": {
    "colab": {
     "autoexec": {
      "startup": false,
      "wait_interval": 0
     },
     "base_uri": "https://localhost:8080/",
     "height": 526
    },
    "colab_type": "code",
    "executionInfo": {
     "elapsed": 2112,
     "status": "ok",
     "timestamp": 1524391094336,
     "user": {
      "displayName": "shalabh yadu",
      "photoUrl": "//lh5.googleusercontent.com/-EBX7zy1ePA0/AAAAAAAAAAI/AAAAAAAAHiI/55c2GSudPJE/s50-c-k-no/photo.jpg",
      "userId": "101084161892560906162"
     },
     "user_tz": -330
    },
    "id": "o8KZfLfte_iq",
    "outputId": "37710f39-b723-45d9-fe32-7f8504fc4c55"
   },
   "outputs": [
    {
     "data": {
      "text/plain": [
       "<seaborn.axisgrid.FacetGrid at 0x7fd2a96d06d8>"
      ]
     },
     "execution_count": 67,
     "metadata": {
      "tags": []
     },
     "output_type": "execute_result"
    },
    {
     "data": {
      "image/png": "[encoded data removed]",
      "text/plain": [
       "<matplotlib.figure.Figure at 0x7fd2a9735e10>"
      ]
     },
     "metadata": {
      "tags": []
     },
     "output_type": "display_data"
    }
   ],
   "source": [
    "\n",
    "!pip install seaborn\n",
    "import seaborn as sns\n",
    "# plotting each person's ticket fare\n",
    "sns.lmplot(x='PassengerId', y= 'Fare', data=full,\n",
    "           fit_reg=False, # No regression line\n",
    "           hue='Embarked',size = 7,  aspect=2)\n"
   ]
  },
  {
   "cell_type": "code",
   "execution_count": 93,
   "metadata": {
    "colab": {
     "autoexec": {
      "startup": false,
      "wait_interval": 0
     },
     "base_uri": "https://localhost:8080/",
     "height": 509
    },
    "colab_type": "code",
    "executionInfo": {
     "elapsed": 2072,
     "status": "ok",
     "timestamp": 1524398190416,
     "user": {
      "displayName": "shalabh yadu",
      "photoUrl": "//lh5.googleusercontent.com/-EBX7zy1ePA0/AAAAAAAAAAI/AAAAAAAAHiI/55c2GSudPJE/s50-c-k-no/photo.jpg",
      "userId": "101084161892560906162"
     },
     "user_tz": -330
    },
    "id": "qFfVFd6uhOH-",
    "outputId": "a92cb7a1-427b-403a-dda6-5557e7175922"
   },
   "outputs": [
    {
     "data": {
      "image/png": "[encoded data removed]",
      "text/plain": [
       "<matplotlib.figure.Figure at 0x7fd2a90d4eb8>"
      ]
     },
     "metadata": {
      "tags": []
     },
     "output_type": "display_data"
    }
   ],
   "source": [
    "#title and age of a person may have some correlation let's see\n",
    "ax = sns.lmplot(x = 'PassengerId',y = 'Age', data = full[full['Age'].isnull()==False], hue = 'title',fit_reg = False,size = 7,aspect = 1.3)\n"
   ]
  },
  {
   "cell_type": "code",
   "execution_count": 0,
   "metadata": {
    "colab": {
     "autoexec": {
      "startup": false,
      "wait_interval": 0
     }
    },
    "colab_type": "code",
    "collapsed": true,
    "id": "lBr2vgrrjF6e"
   },
   "outputs": [],
   "source": [
    "#filling age value according to title\n",
    "\n",
    "for i in a:\n",
    "  full.iloc[full[full['title'] == i].index,5] = full[full['title'] == i]['Age'].mean()"
   ]
  },
  {
   "cell_type": "code",
   "execution_count": 0,
   "metadata": {
    "colab": {
     "autoexec": {
      "startup": false,
      "wait_interval": 0
     }
    },
    "colab_type": "code",
    "collapsed": true,
    "id": "48ajHoDio8k0"
   },
   "outputs": [],
   "source": [
    "#Although there is some overlapping between different layers of titles\n",
    "#taking average age per title for filling missing data seems like a good choice\n",
    "a =  [' Capt', ' Col', ' Don', ' Dona', ' Dr', ' Jonkheer', ' Lady', ' Major', ' Master', ' Miss', ' Mlle', ' Mme', ' Mr', ' Mrs', ' Ms', ' Rev', ' Sir', ' the Countess']\n",
    "for i in a:\n",
    "  print(\"the average age of a person with title {} is {}\".format(i,full[full['title']== i]['Age'].mean()))"
   ]
  },
  {
   "cell_type": "code",
   "execution_count": 17,
   "metadata": {
    "colab": {
     "autoexec": {
      "startup": false,
      "wait_interval": 0
     },
     "base_uri": "https://localhost:8080/",
     "height": 238
    },
    "colab_type": "code",
    "executionInfo": {
     "elapsed": 1923,
     "status": "ok",
     "timestamp": 1524450452721,
     "user": {
      "displayName": "shalabh yadu",
      "photoUrl": "//lh5.googleusercontent.com/-EBX7zy1ePA0/AAAAAAAAAAI/AAAAAAAAHiI/55c2GSudPJE/s50-c-k-no/photo.jpg",
      "userId": "101084161892560906162"
     },
     "user_tz": -330
    },
    "id": "sOJAOKDBN9wf",
    "outputId": "01126a63-d4f7-4ab3-8e2d-0bd06216c0eb"
   },
   "outputs": [
    {
     "name": "stdout",
     "output_type": "stream",
     "text": [
      "empty points in column index  are 0 out of 1309\n",
      "empty points in column PassengerId  are 0 out of 1309\n",
      "empty points in column Pclass  are 0 out of 1309\n",
      "empty points in column Name  are 0 out of 1309\n",
      "empty points in column Sex  are 0 out of 1309\n",
      "empty points in column Age  are 0 out of 1309\n",
      "empty points in column SibSp  are 0 out of 1309\n",
      "empty points in column Parch  are 0 out of 1309\n",
      "empty points in column Ticket  are 0 out of 1309\n",
      "empty points in column Fare  are 1 out of 1309\n",
      "empty points in column Cabin  are 1014 out of 1309\n",
      "empty points in column Embarked  are 2 out of 1309\n",
      "empty points in column title  are 0 out of 1309\n"
     ]
    }
   ],
   "source": [
    "for col in full.columns:\n",
    "  print(\"empty points in column {}  are {} out of {}\".format(col,sum(full[col].isnull()),full.shape[0]))"
   ]
  },
  {
   "cell_type": "code",
   "execution_count": 143,
   "metadata": {
    "colab": {
     "autoexec": {
      "startup": false,
      "wait_interval": 0
     },
     "base_uri": "https://localhost:8080/",
     "height": 3196
    },
    "colab_type": "code",
    "executionInfo": {
     "elapsed": 1473,
     "status": "ok",
     "timestamp": 1524405465597,
     "user": {
      "displayName": "shalabh yadu",
      "photoUrl": "//lh5.googleusercontent.com/-EBX7zy1ePA0/AAAAAAAAAAI/AAAAAAAAHiI/55c2GSudPJE/s50-c-k-no/photo.jpg",
      "userId": "101084161892560906162"
     },
     "user_tz": -330
    },
    "id": "FeydSTD0RQRV",
    "outputId": "bdc7933e-312b-4878-f6eb-d9de148285d4"
   },
   "outputs": [
    {
     "data": {
      "text/plain": [
       "{'A10',\n",
       " 'A11',\n",
       " 'A14',\n",
       " 'A16',\n",
       " 'A18',\n",
       " 'A19',\n",
       " 'A20',\n",
       " 'A21',\n",
       " 'A23',\n",
       " 'A24',\n",
       " 'A26',\n",
       " 'A29',\n",
       " 'A31',\n",
       " 'A32',\n",
       " 'A34',\n",
       " 'A36',\n",
       " 'A5',\n",
       " 'A6',\n",
       " 'A7',\n",
       " 'A9',\n",
       " 'B10',\n",
       " 'B101',\n",
       " 'B102',\n",
       " 'B11',\n",
       " 'B18',\n",
       " 'B19',\n",
       " 'B20',\n",
       " 'B22',\n",
       " 'B24',\n",
       " 'B26',\n",
       " 'B28',\n",
       " 'B3',\n",
       " 'B30',\n",
       " 'B35',\n",
       " 'B36',\n",
       " 'B37',\n",
       " 'B38',\n",
       " 'B39',\n",
       " 'B4',\n",
       " 'B41',\n",
       " 'B42',\n",
       " 'B45',\n",
       " 'B49',\n",
       " 'B5',\n",
       " 'B50',\n",
       " 'B51 B53 B55',\n",
       " 'B52 B54 B56',\n",
       " 'B57 B59 B63 B66',\n",
       " 'B58 B60',\n",
       " 'B61',\n",
       " 'B69',\n",
       " 'B71',\n",
       " 'B73',\n",
       " 'B77',\n",
       " 'B78',\n",
       " 'B79',\n",
       " 'B80',\n",
       " 'B82 B84',\n",
       " 'B86',\n",
       " 'B94',\n",
       " 'B96 B98',\n",
       " 'C101',\n",
       " 'C103',\n",
       " 'C104',\n",
       " 'C105',\n",
       " 'C106',\n",
       " 'C110',\n",
       " 'C111',\n",
       " 'C116',\n",
       " 'C118',\n",
       " 'C123',\n",
       " 'C124',\n",
       " 'C125',\n",
       " 'C126',\n",
       " 'C128',\n",
       " 'C130',\n",
       " 'C132',\n",
       " 'C148',\n",
       " 'C2',\n",
       " 'C22 C26',\n",
       " 'C23 C25 C27',\n",
       " 'C28',\n",
       " 'C30',\n",
       " 'C31',\n",
       " 'C32',\n",
       " 'C39',\n",
       " 'C45',\n",
       " 'C46',\n",
       " 'C47',\n",
       " 'C49',\n",
       " 'C50',\n",
       " 'C51',\n",
       " 'C52',\n",
       " 'C53',\n",
       " 'C54',\n",
       " 'C55 C57',\n",
       " 'C6',\n",
       " 'C62 C64',\n",
       " 'C65',\n",
       " 'C68',\n",
       " 'C7',\n",
       " 'C70',\n",
       " 'C78',\n",
       " 'C80',\n",
       " 'C82',\n",
       " 'C83',\n",
       " 'C85',\n",
       " 'C86',\n",
       " 'C87',\n",
       " 'C89',\n",
       " 'C90',\n",
       " 'C91',\n",
       " 'C92',\n",
       " 'C93',\n",
       " 'C95',\n",
       " 'C97',\n",
       " 'C99',\n",
       " 'D',\n",
       " 'D10 D12',\n",
       " 'D11',\n",
       " 'D15',\n",
       " 'D17',\n",
       " 'D19',\n",
       " 'D20',\n",
       " 'D21',\n",
       " 'D22',\n",
       " 'D26',\n",
       " 'D28',\n",
       " 'D30',\n",
       " 'D33',\n",
       " 'D34',\n",
       " 'D35',\n",
       " 'D36',\n",
       " 'D37',\n",
       " 'D38',\n",
       " 'D40',\n",
       " 'D43',\n",
       " 'D45',\n",
       " 'D46',\n",
       " 'D47',\n",
       " 'D48',\n",
       " 'D49',\n",
       " 'D50',\n",
       " 'D56',\n",
       " 'D6',\n",
       " 'D7',\n",
       " 'D9',\n",
       " 'E10',\n",
       " 'E101',\n",
       " 'E12',\n",
       " 'E121',\n",
       " 'E17',\n",
       " 'E24',\n",
       " 'E25',\n",
       " 'E31',\n",
       " 'E33',\n",
       " 'E34',\n",
       " 'E36',\n",
       " 'E38',\n",
       " 'E39 E41',\n",
       " 'E40',\n",
       " 'E44',\n",
       " 'E45',\n",
       " 'E46',\n",
       " 'E49',\n",
       " 'E50',\n",
       " 'E52',\n",
       " 'E58',\n",
       " 'E60',\n",
       " 'E63',\n",
       " 'E67',\n",
       " 'E68',\n",
       " 'E77',\n",
       " 'E8',\n",
       " 'F',\n",
       " 'F E46',\n",
       " 'F E57',\n",
       " 'F E69',\n",
       " 'F G63',\n",
       " 'F G73',\n",
       " 'F2',\n",
       " 'F33',\n",
       " 'F38',\n",
       " 'F4',\n",
       " 'G6',\n",
       " 'T',\n",
       " nan}"
      ]
     },
     "execution_count": 143,
     "metadata": {
      "tags": []
     },
     "output_type": "execute_result"
    }
   ],
   "source": [
    "set(full['Cabin'])"
   ]
  },
  {
   "cell_type": "code",
   "execution_count": 0,
   "metadata": {
    "colab": {
     "autoexec": {
      "startup": false,
      "wait_interval": 0
     }
    },
    "colab_type": "code",
    "collapsed": true,
    "id": "1bAyKdLaRzQ8"
   },
   "outputs": [],
   "source": [
    "#since cabin comprises of deck(A,B,C,D...) and room no.(1,2,3...) ,separating deck from cabin \n",
    "def cabin(text):\n",
    "    a = text[0]\n",
    "    return a  "
   ]
  },
  {
   "cell_type": "code",
   "execution_count": 0,
   "metadata": {
    "colab": {
     "autoexec": {
      "startup": false,
      "wait_interval": 0
     }
    },
    "colab_type": "code",
    "collapsed": true,
    "id": "sNg_cQHvjDl2"
   },
   "outputs": [],
   "source": [
    "full['Cabin_initial'] = full[full['Cabin'].isnull()== False]['Cabin'].apply(cabin)"
   ]
  },
  {
   "cell_type": "code",
   "execution_count": 0,
   "metadata": {
    "colab": {
     "autoexec": {
      "startup": false,
      "wait_interval": 0
     }
    },
    "colab_type": "code",
    "collapsed": true,
    "id": "S_Wz6zKUqUUb"
   },
   "outputs": [],
   "source": [
    "full  = full.loc[full['Cabin_initial'].isnull() == False]"
   ]
  },
  {
   "cell_type": "code",
   "execution_count": null,
   "metadata": {
    "collapsed": true
   },
   "outputs": [],
   "source": [
    "cabin_data = full[full['Cabin'].isnull== False]"
   ]
  },
  {
   "cell_type": "code",
   "execution_count": 175,
   "metadata": {
    "colab": {
     "autoexec": {
      "startup": false,
      "wait_interval": 0
     },
     "base_uri": "https://localhost:8080/",
     "height": 526
    },
    "colab_type": "code",
    "executionInfo": {
     "elapsed": 1911,
     "status": "ok",
     "timestamp": 1524407070479,
     "user": {
      "displayName": "shalabh yadu",
      "photoUrl": "//lh5.googleusercontent.com/-EBX7zy1ePA0/AAAAAAAAAAI/AAAAAAAAHiI/55c2GSudPJE/s50-c-k-no/photo.jpg",
      "userId": "101084161892560906162"
     },
     "user_tz": -330
    },
    "id": "b_sdNVaBqdwl",
    "outputId": "cf25acdf-42bd-40d2-9598-cea60ad24452"
   },
   "outputs": [
    {
     "data": {
      "text/plain": [
       "<seaborn.axisgrid.FacetGrid at 0x7fd2a8f8da20>"
      ]
     },
     "execution_count": 175,
     "metadata": {
      "tags": []
     },
     "output_type": "execute_result"
    },
    {
     "data": {
      "image/png": "[encoded data removed]",
      "text/plain": [
       "<matplotlib.figure.Figure at 0x7fd2a8f8db70>"
      ]
     },
     "metadata": {
      "tags": []
     },
     "output_type": "display_data"
    }
   ],
   "source": [
    "sns.lmplot(x = 'PassengerId',y = 'Pclass',data = cabin_data, hue = 'Cabin_initial', fit_reg = False,size = 7, aspect = 1.7)"
   ]
  },
  {
   "cell_type": "code",
   "execution_count": 178,
   "metadata": {
    "colab": {
     "autoexec": {
      "startup": false,
      "wait_interval": 0
     },
     "base_uri": "https://localhost:8080/",
     "height": 34
    },
    "colab_type": "code",
    "executionInfo": {
     "elapsed": 1453,
     "status": "ok",
     "timestamp": 1524407239736,
     "user": {
      "displayName": "shalabh yadu",
      "photoUrl": "//lh5.googleusercontent.com/-EBX7zy1ePA0/AAAAAAAAAAI/AAAAAAAAHiI/55c2GSudPJE/s50-c-k-no/photo.jpg",
      "userId": "101084161892560906162"
     },
     "user_tz": -330
    },
    "id": "HpDEefaqugfb",
    "outputId": "39e276dc-72bc-4623-89f9-ceb15dd5bde8"
   },
   "outputs": [
    {
     "data": {
      "text/plain": [
       "{'E', 'F', 'G'}"
      ]
     },
     "execution_count": 178,
     "metadata": {
      "tags": []
     },
     "output_type": "execute_result"
    }
   ],
   "source": [
    "set(cabin_data[cabin_data['Pclass']== 3]['Cabin_initial'])"
   ]
  },
  {
   "cell_type": "code",
   "execution_count": null,
   "metadata": {
    "collapsed": true
   },
   "outputs": [],
   "source": [
    "#we can see that only class 3 passengers were present in deck E, F and G"
   ]
  },
  {
   "cell_type": "code",
   "execution_count": 22,
   "metadata": {
    "colab": {
     "autoexec": {
      "startup": false,
      "wait_interval": 0
     },
     "base_uri": "https://localhost:8080/",
     "height": 238
    },
    "colab_type": "code",
    "executionInfo": {
     "elapsed": 1185,
     "status": "ok",
     "timestamp": 1524417272232,
     "user": {
      "displayName": "shalabh yadu",
      "photoUrl": "//lh5.googleusercontent.com/-EBX7zy1ePA0/AAAAAAAAAAI/AAAAAAAAHiI/55c2GSudPJE/s50-c-k-no/photo.jpg",
      "userId": "101084161892560906162"
     },
     "user_tz": -330
    },
    "id": "SOCQkga1v6cU",
    "outputId": "fd4ec8fb-a74c-4c46-ca2c-b9f961c1cbce"
   },
   "outputs": [
    {
     "data": {
      "text/html": [
       "<div>\n",
       "<style scoped>\n",
       "    .dataframe tbody tr th:only-of-type {\n",
       "        vertical-align: middle;\n",
       "    }\n",
       "\n",
       "    .dataframe tbody tr th {\n",
       "        vertical-align: top;\n",
       "    }\n",
       "\n",
       "    .dataframe thead th {\n",
       "        text-align: right;\n",
       "    }\n",
       "</style>\n",
       "<table border=\"1\" class=\"dataframe\">\n",
       "  <thead>\n",
       "    <tr style=\"text-align: right;\">\n",
       "      <th></th>\n",
       "      <th>index</th>\n",
       "      <th>PassengerId</th>\n",
       "      <th>Pclass</th>\n",
       "      <th>Name</th>\n",
       "      <th>Sex</th>\n",
       "      <th>Age</th>\n",
       "      <th>SibSp</th>\n",
       "      <th>Parch</th>\n",
       "      <th>Ticket</th>\n",
       "      <th>Fare</th>\n",
       "      <th>Cabin</th>\n",
       "      <th>Embarked</th>\n",
       "      <th>title</th>\n",
       "      <th>Cabin_initial</th>\n",
       "    </tr>\n",
       "  </thead>\n",
       "  <tbody>\n",
       "    <tr>\n",
       "      <th>1</th>\n",
       "      <td>1</td>\n",
       "      <td>2</td>\n",
       "      <td>1</td>\n",
       "      <td>Cumings, Mrs. John Bradley (Florence Briggs Th...</td>\n",
       "      <td>female</td>\n",
       "      <td>36.994118</td>\n",
       "      <td>1</td>\n",
       "      <td>0</td>\n",
       "      <td>PC 17599</td>\n",
       "      <td>71.2833</td>\n",
       "      <td>C85</td>\n",
       "      <td>C</td>\n",
       "      <td>Mrs</td>\n",
       "      <td>C</td>\n",
       "    </tr>\n",
       "    <tr>\n",
       "      <th>3</th>\n",
       "      <td>3</td>\n",
       "      <td>4</td>\n",
       "      <td>1</td>\n",
       "      <td>Futrelle, Mrs. Jacques Heath (Lily May Peel)</td>\n",
       "      <td>female</td>\n",
       "      <td>36.994118</td>\n",
       "      <td>1</td>\n",
       "      <td>0</td>\n",
       "      <td>113803</td>\n",
       "      <td>53.1000</td>\n",
       "      <td>C123</td>\n",
       "      <td>S</td>\n",
       "      <td>Mrs</td>\n",
       "      <td>C</td>\n",
       "    </tr>\n",
       "    <tr>\n",
       "      <th>6</th>\n",
       "      <td>6</td>\n",
       "      <td>7</td>\n",
       "      <td>1</td>\n",
       "      <td>McCarthy, Mr. Timothy J</td>\n",
       "      <td>male</td>\n",
       "      <td>32.252151</td>\n",
       "      <td>0</td>\n",
       "      <td>0</td>\n",
       "      <td>17463</td>\n",
       "      <td>51.8625</td>\n",
       "      <td>E46</td>\n",
       "      <td>S</td>\n",
       "      <td>Mr</td>\n",
       "      <td>E</td>\n",
       "    </tr>\n",
       "    <tr>\n",
       "      <th>10</th>\n",
       "      <td>10</td>\n",
       "      <td>11</td>\n",
       "      <td>3</td>\n",
       "      <td>Sandstrom, Miss. Marguerite Rut</td>\n",
       "      <td>female</td>\n",
       "      <td>21.774238</td>\n",
       "      <td>1</td>\n",
       "      <td>1</td>\n",
       "      <td>PP 9549</td>\n",
       "      <td>16.7000</td>\n",
       "      <td>G6</td>\n",
       "      <td>S</td>\n",
       "      <td>Miss</td>\n",
       "      <td>G</td>\n",
       "    </tr>\n",
       "    <tr>\n",
       "      <th>11</th>\n",
       "      <td>11</td>\n",
       "      <td>12</td>\n",
       "      <td>1</td>\n",
       "      <td>Bonnell, Miss. Elizabeth</td>\n",
       "      <td>female</td>\n",
       "      <td>21.774238</td>\n",
       "      <td>0</td>\n",
       "      <td>0</td>\n",
       "      <td>113783</td>\n",
       "      <td>26.5500</td>\n",
       "      <td>C103</td>\n",
       "      <td>S</td>\n",
       "      <td>Miss</td>\n",
       "      <td>C</td>\n",
       "    </tr>\n",
       "  </tbody>\n",
       "</table>\n",
       "</div>"
      ],
      "text/plain": [
       "    index  PassengerId  Pclass  \\\n",
       "1       1            2       1   \n",
       "3       3            4       1   \n",
       "6       6            7       1   \n",
       "10     10           11       3   \n",
       "11     11           12       1   \n",
       "\n",
       "                                                 Name     Sex        Age  \\\n",
       "1   Cumings, Mrs. John Bradley (Florence Briggs Th...  female  36.994118   \n",
       "3        Futrelle, Mrs. Jacques Heath (Lily May Peel)  female  36.994118   \n",
       "6                             McCarthy, Mr. Timothy J    male  32.252151   \n",
       "10                    Sandstrom, Miss. Marguerite Rut  female  21.774238   \n",
       "11                           Bonnell, Miss. Elizabeth  female  21.774238   \n",
       "\n",
       "    SibSp  Parch    Ticket     Fare Cabin Embarked  title Cabin_initial  \n",
       "1       1      0  PC 17599  71.2833   C85        C    Mrs             C  \n",
       "3       1      0    113803  53.1000  C123        S    Mrs             C  \n",
       "6       0      0     17463  51.8625   E46        S     Mr             E  \n",
       "10      1      1   PP 9549  16.7000    G6        S   Miss             G  \n",
       "11      0      0    113783  26.5500  C103        S   Miss             C  "
      ]
     },
     "execution_count": 22,
     "metadata": {
      "tags": []
     },
     "output_type": "execute_result"
    }
   ],
   "source": [
    "cabin_data.head()"
   ]
  },
  {
   "cell_type": "code",
   "execution_count": 46,
   "metadata": {
    "colab": {
     "autoexec": {
      "startup": false,
      "wait_interval": 0
     },
     "base_uri": "https://localhost:8080/",
     "height": 886
    },
    "colab_type": "code",
    "executionInfo": {
     "elapsed": 1648,
     "status": "ok",
     "timestamp": 1524420012342,
     "user": {
      "displayName": "shalabh yadu",
      "photoUrl": "//lh5.googleusercontent.com/-EBX7zy1ePA0/AAAAAAAAAAI/AAAAAAAAHiI/55c2GSudPJE/s50-c-k-no/photo.jpg",
      "userId": "101084161892560906162"
     },
     "user_tz": -330
    },
    "id": "7FMxxUkCVshk",
    "outputId": "4d5e7592-1181-4b14-f134-1e3d9d240f68"
   },
   "outputs": [
    {
     "data": {
      "text/plain": [
       "<seaborn.axisgrid.FacetGrid at 0x7f423c3be5f8>"
      ]
     },
     "execution_count": 46,
     "metadata": {
      "tags": []
     },
     "output_type": "execute_result"
    },
    {
     "data": {
      "image/png": "[encoded data removed]",
      "text/plain": [
       "<matplotlib.figure.Figure at 0x7f423c3be1d0>"
      ]
     },
     "metadata": {
      "tags": []
     },
     "output_type": "display_data"
    }
   ],
   "source": [
    "# distribution of ticket fare w.r.t deck\n",
    "sns.lmplot(x = 'Cabin_initial', y = 'Fare',data = full, hue = 'Pclass', size = 12, aspect = 0.8, fit_reg = False,palette=\"Set1\")"
   ]
  },
  {
   "cell_type": "code",
   "execution_count": 49,
   "metadata": {
    "colab": {
     "autoexec": {
      "startup": false,
      "wait_interval": 0
     },
     "base_uri": "https://localhost:8080/",
     "height": 906
    },
    "colab_type": "code",
    "executionInfo": {
     "elapsed": 2295,
     "status": "ok",
     "timestamp": 1524425466009,
     "user": {
      "displayName": "shalabh yadu",
      "photoUrl": "//lh5.googleusercontent.com/-EBX7zy1ePA0/AAAAAAAAAAI/AAAAAAAAHiI/55c2GSudPJE/s50-c-k-no/photo.jpg",
      "userId": "101084161892560906162"
     },
     "user_tz": -330
    },
    "id": "X2wSIJ-pW02C",
    "outputId": "38c7f3d2-9b52-446e-e4a3-d6b7e3083047"
   },
   "outputs": [
    {
     "data": {
      "text/plain": [
       "<seaborn.axisgrid.FacetGrid at 0x7f423c1e64e0>"
      ]
     },
     "execution_count": 49,
     "metadata": {
      "tags": []
     },
     "output_type": "execute_result"
    },
    {
     "data": {
      "image/png": "[encoded data removed]",
      "text/plain": [
       "<matplotlib.figure.Figure at 0x7f423c261ef0>"
      ]
     },
     "metadata": {
      "tags": []
     },
     "output_type": "display_data"
    }
   ],
   "source": [
    "#fare and cabin distribution for deck C\n",
    "sns.lmplot(x = 'Cabin', y = 'Fare',data = full[full['Cabin_initial']== 'C'], hue = 'Pclass', size = 12, aspect = 1.8, fit_reg = False,palette=\"Set1\")"
   ]
  },
  {
   "cell_type": "code",
   "execution_count": null,
   "metadata": {
    "collapsed": true
   },
   "outputs": [],
   "source": [
    "# from above graph it is evident that passengers with both high and low priced tikcets were in Deck, all 1st class tickets \n",
    "#deck A and B also must have the same case "
   ]
  },
  {
   "cell_type": "code",
   "execution_count": 0,
   "metadata": {
    "colab": {
     "autoexec": {
      "startup": false,
      "wait_interval": 0
     }
    },
    "colab_type": "code",
    "collapsed": true,
    "id": "PFniJ9WWUNmK"
   },
   "outputs": [],
   "source": [
    "#funtion for separating room number from cabin number\n",
    "def room(text):\n",
    "    a = text.split()\n",
    "    a = a[0]\n",
    "    if len(a)>1:\n",
    "        a = int(a[1:])\n",
    "    else:\n",
    "        a = 0\n",
    "    return a"
   ]
  },
  {
   "cell_type": "code",
   "execution_count": 0,
   "metadata": {
    "colab": {
     "autoexec": {
      "startup": false,
      "wait_interval": 0
     }
    },
    "colab_type": "code",
    "collapsed": true,
    "id": "NXlUBTvnVoWt"
   },
   "outputs": [],
   "source": [
    "full[\"room_no\"] = full[full[\"Cabin\"].isnull()==False][\"Cabin\"].apply(room)"
   ]
  },
  {
   "cell_type": "code",
   "execution_count": 64,
   "metadata": {
    "colab": {
     "autoexec": {
      "startup": false,
      "wait_interval": 0
     },
     "base_uri": "https://localhost:8080/",
     "height": 1071
    },
    "colab_type": "code",
    "executionInfo": {
     "elapsed": 2160,
     "status": "ok",
     "timestamp": 1524451822409,
     "user": {
      "displayName": "shalabh yadu",
      "photoUrl": "//lh5.googleusercontent.com/-EBX7zy1ePA0/AAAAAAAAAAI/AAAAAAAAHiI/55c2GSudPJE/s50-c-k-no/photo.jpg",
      "userId": "101084161892560906162"
     },
     "user_tz": -330
    },
    "id": "SpNhQvYuXIhU",
    "outputId": "95dd8d5f-b886-4c5f-b0c8-c4037a0c16a0"
   },
   "outputs": [
    {
     "data": {
      "text/plain": [
       "1        85.0\n",
       "3       123.0\n",
       "6        46.0\n",
       "10        6.0\n",
       "11      103.0\n",
       "21       56.0\n",
       "23        6.0\n",
       "27       23.0\n",
       "31       78.0\n",
       "52       33.0\n",
       "54       30.0\n",
       "55       52.0\n",
       "61       28.0\n",
       "62       83.0\n",
       "66       33.0\n",
       "75        0.0\n",
       "88       23.0\n",
       "92       31.0\n",
       "96        5.0\n",
       "97       10.0\n",
       "102      26.0\n",
       "110     110.0\n",
       "118      58.0\n",
       "123     101.0\n",
       "124      26.0\n",
       "128       0.0\n",
       "136      47.0\n",
       "137     123.0\n",
       "139      86.0\n",
       "148       2.0\n",
       "        ...  \n",
       "1192      0.0\n",
       "1196     26.0\n",
       "1197     22.0\n",
       "1199     69.0\n",
       "1205     32.0\n",
       "1207     78.0\n",
       "1212      0.0\n",
       "1213      2.0\n",
       "1217      4.0\n",
       "1222     18.0\n",
       "1226    106.0\n",
       "1234     51.0\n",
       "1241     10.0\n",
       "1246     60.0\n",
       "1247    101.0\n",
       "1255     50.0\n",
       "1262     39.0\n",
       "1263     52.0\n",
       "1265     34.0\n",
       "1269     39.0\n",
       "1281     24.0\n",
       "1282     28.0\n",
       "1286     31.0\n",
       "1288     41.0\n",
       "1291      7.0\n",
       "1295     40.0\n",
       "1296     38.0\n",
       "1298     80.0\n",
       "1302     78.0\n",
       "1305    105.0\n",
       "Name: room_no, Length: 295, dtype: float64"
      ]
     },
     "execution_count": 64,
     "metadata": {
      "tags": []
     },
     "output_type": "execute_result"
    }
   ],
   "source": [
    "full[full['Cabin'].isnull()== False]['room_no']"
   ]
  },
  {
   "cell_type": "code",
   "execution_count": 69,
   "metadata": {
    "colab": {
     "autoexec": {
      "startup": false,
      "wait_interval": 0
     },
     "base_uri": "https://localhost:8080/",
     "height": 526
    },
    "colab_type": "code",
    "executionInfo": {
     "elapsed": 1504,
     "status": "ok",
     "timestamp": 1524452135378,
     "user": {
      "displayName": "shalabh yadu",
      "photoUrl": "//lh5.googleusercontent.com/-EBX7zy1ePA0/AAAAAAAAAAI/AAAAAAAAHiI/55c2GSudPJE/s50-c-k-no/photo.jpg",
      "userId": "101084161892560906162"
     },
     "user_tz": -330
    },
    "id": "A-QzKeCwXe59",
    "outputId": "b3a99639-3600-45b5-9bc5-a424139610af"
   },
   "outputs": [
    {
     "data": {
      "text/plain": [
       "<seaborn.axisgrid.FacetGrid at 0x7fbdf3126898>"
      ]
     },
     "execution_count": 69,
     "metadata": {
      "tags": []
     },
     "output_type": "execute_result"
    },
    {
     "data": {
      "image/png": "[encoded data removed]",
      "text/plain": [
       "<matplotlib.figure.Figure at 0x7fbdf3126c50>"
      ]
     },
     "metadata": {
      "tags": []
     },
     "output_type": "display_data"
    }
   ],
   "source": [
    "#deck D has only class 1 and 2 passengers, since no relation between room numbers and fare the ticket price must be related to region and room size\n",
    "sns.lmplot(x = 'Fare', y = 'room_no',data = full[full['Cabin_initial']== 'D'], hue = 'Pclass', size = 7, aspect = 1.2, fit_reg = False,palette=\"Set1\")"
   ]
  },
  {
   "cell_type": "code",
   "execution_count": 70,
   "metadata": {
    "colab": {
     "autoexec": {
      "startup": false,
      "wait_interval": 0
     },
     "base_uri": "https://localhost:8080/",
     "height": 526
    },
    "colab_type": "code",
    "executionInfo": {
     "elapsed": 1977,
     "status": "ok",
     "timestamp": 1524452304493,
     "user": {
      "displayName": "shalabh yadu",
      "photoUrl": "//lh5.googleusercontent.com/-EBX7zy1ePA0/AAAAAAAAAAI/AAAAAAAAHiI/55c2GSudPJE/s50-c-k-no/photo.jpg",
      "userId": "101084161892560906162"
     },
     "user_tz": -330
    },
    "id": "KbIYtX8WXqTz",
    "outputId": "480cf74b-1b3f-4d34-e4e8-6dac87a502a8"
   },
   "outputs": [
    {
     "data": {
      "text/plain": [
       "<seaborn.axisgrid.FacetGrid at 0x7fbdf3014e80>"
      ]
     },
     "execution_count": 70,
     "metadata": {
      "tags": []
     },
     "output_type": "execute_result"
    },
    {
     "data": {
      "image/png": "[encoded data removed]",
      "text/plain": [
       "<matplotlib.figure.Figure at 0x7fbdf3014710>"
      ]
     },
     "metadata": {
      "tags": []
     },
     "output_type": "display_data"
    }
   ],
   "source": [
    "#rrom no. and fare of different decks\n",
    "sns.lmplot(x = 'Fare', y = 'room_no',data = full[full['Cabin_initial'].isnull()== False], hue = 'Cabin_initial', size = 7, aspect = 1.2, fit_reg = False,palette=\"Set1\")"
   ]
  }
 ],
 "metadata": {
  "accelerator": "GPU",
  "colab": {
   "default_view": {},
   "name": "titanic.ipynb",
   "provenance": [],
   "version": "0.3.2",
   "views": {}
  },
  "kernelspec": {
   "display_name": "Python 3",
   "language": "python",
   "name": "python3"
  },
  "language_info": {
   "codemirror_mode": {
    "name": "ipython",
    "version": 3
   },
   "file_extension": ".py",
   "mimetype": "text/x-python",
   "name": "python",
   "nbconvert_exporter": "python",
   "pygments_lexer": "ipython3",
   "version": "3.6.1"
  }
 },
 "nbformat": 4,
 "nbformat_minor": 1
}
